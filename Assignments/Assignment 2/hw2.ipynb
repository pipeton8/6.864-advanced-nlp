{
  "nbformat": 4,
  "nbformat_minor": 0,
  "metadata": {
    "colab": {
      "name": "hw2.ipynb",
      "provenance": [],
      "collapsed_sections": [],
      "toc_visible": true,
      "machine_shape": "hm",
      "include_colab_link": true
    },
    "kernelspec": {
      "name": "python3",
      "display_name": "Python 3"
    },
    "accelerator": "GPU",
    "widgets": {
      "application/vnd.jupyter.widget-state+json": {
        "333a802729654e5391752c311407b961": {
          "model_module": "@jupyter-widgets/controls",
          "model_name": "HBoxModel",
          "model_module_version": "1.5.0",
          "state": {
            "_view_name": "HBoxView",
            "_dom_classes": [],
            "_model_name": "HBoxModel",
            "_view_module": "@jupyter-widgets/controls",
            "_model_module_version": "1.5.0",
            "_view_count": null,
            "_view_module_version": "1.5.0",
            "box_style": "",
            "layout": "IPY_MODEL_624bd0ec725b4542b9b83cf4a1b98f12",
            "_model_module": "@jupyter-widgets/controls",
            "children": [
              "IPY_MODEL_583cf0f6a8354383a4fec4637216e9bb",
              "IPY_MODEL_aed2c4ac741149fabc0f73eec6afbf21",
              "IPY_MODEL_c9da67b56602495699f3e96278d04482"
            ]
          }
        },
        "624bd0ec725b4542b9b83cf4a1b98f12": {
          "model_module": "@jupyter-widgets/base",
          "model_name": "LayoutModel",
          "model_module_version": "1.2.0",
          "state": {
            "_view_name": "LayoutView",
            "grid_template_rows": null,
            "right": null,
            "justify_content": null,
            "_view_module": "@jupyter-widgets/base",
            "overflow": null,
            "_model_module_version": "1.2.0",
            "_view_count": null,
            "flex_flow": null,
            "width": null,
            "min_width": null,
            "border": null,
            "align_items": null,
            "bottom": null,
            "_model_module": "@jupyter-widgets/base",
            "top": null,
            "grid_column": null,
            "overflow_y": null,
            "overflow_x": null,
            "grid_auto_flow": null,
            "grid_area": null,
            "grid_template_columns": null,
            "flex": null,
            "_model_name": "LayoutModel",
            "justify_items": null,
            "grid_row": null,
            "max_height": null,
            "align_content": null,
            "visibility": null,
            "align_self": null,
            "height": null,
            "min_height": null,
            "padding": null,
            "grid_auto_rows": null,
            "grid_gap": null,
            "max_width": null,
            "order": null,
            "_view_module_version": "1.2.0",
            "grid_template_areas": null,
            "object_position": null,
            "object_fit": null,
            "grid_auto_columns": null,
            "margin": null,
            "display": null,
            "left": null
          }
        },
        "583cf0f6a8354383a4fec4637216e9bb": {
          "model_module": "@jupyter-widgets/controls",
          "model_name": "HTMLModel",
          "model_module_version": "1.5.0",
          "state": {
            "_view_name": "HTMLView",
            "style": "IPY_MODEL_e0ec6342745e4a61b787b3eae3a5aa8a",
            "_dom_classes": [],
            "description": "",
            "_model_name": "HTMLModel",
            "placeholder": "​",
            "_view_module": "@jupyter-widgets/controls",
            "_model_module_version": "1.5.0",
            "value": "100%",
            "_view_count": null,
            "_view_module_version": "1.5.0",
            "description_tooltip": null,
            "_model_module": "@jupyter-widgets/controls",
            "layout": "IPY_MODEL_8491c0a7d6e4445ab1e86b97270eae4c"
          }
        },
        "aed2c4ac741149fabc0f73eec6afbf21": {
          "model_module": "@jupyter-widgets/controls",
          "model_name": "FloatProgressModel",
          "model_module_version": "1.5.0",
          "state": {
            "_view_name": "ProgressView",
            "style": "IPY_MODEL_9281e9019d9e4621a10d4f6e5ddd26b3",
            "_dom_classes": [],
            "description": "",
            "_model_name": "FloatProgressModel",
            "bar_style": "success",
            "max": 10,
            "_view_module": "@jupyter-widgets/controls",
            "_model_module_version": "1.5.0",
            "value": 10,
            "_view_count": null,
            "_view_module_version": "1.5.0",
            "orientation": "horizontal",
            "min": 0,
            "description_tooltip": null,
            "_model_module": "@jupyter-widgets/controls",
            "layout": "IPY_MODEL_60684af8d32d4a6a852a339099dea609"
          }
        },
        "c9da67b56602495699f3e96278d04482": {
          "model_module": "@jupyter-widgets/controls",
          "model_name": "HTMLModel",
          "model_module_version": "1.5.0",
          "state": {
            "_view_name": "HTMLView",
            "style": "IPY_MODEL_a221e2eb5659433a9934cbe76efd0691",
            "_dom_classes": [],
            "description": "",
            "_model_name": "HTMLModel",
            "placeholder": "​",
            "_view_module": "@jupyter-widgets/controls",
            "_model_module_version": "1.5.0",
            "value": " 10/10 [04:17&lt;00:00, 36.17s/it]",
            "_view_count": null,
            "_view_module_version": "1.5.0",
            "description_tooltip": null,
            "_model_module": "@jupyter-widgets/controls",
            "layout": "IPY_MODEL_bd463f0dfb1e4c28a17a11fda4d26a0c"
          }
        },
        "e0ec6342745e4a61b787b3eae3a5aa8a": {
          "model_module": "@jupyter-widgets/controls",
          "model_name": "DescriptionStyleModel",
          "model_module_version": "1.5.0",
          "state": {
            "_view_name": "StyleView",
            "_model_name": "DescriptionStyleModel",
            "description_width": "",
            "_view_module": "@jupyter-widgets/base",
            "_model_module_version": "1.5.0",
            "_view_count": null,
            "_view_module_version": "1.2.0",
            "_model_module": "@jupyter-widgets/controls"
          }
        },
        "8491c0a7d6e4445ab1e86b97270eae4c": {
          "model_module": "@jupyter-widgets/base",
          "model_name": "LayoutModel",
          "model_module_version": "1.2.0",
          "state": {
            "_view_name": "LayoutView",
            "grid_template_rows": null,
            "right": null,
            "justify_content": null,
            "_view_module": "@jupyter-widgets/base",
            "overflow": null,
            "_model_module_version": "1.2.0",
            "_view_count": null,
            "flex_flow": null,
            "width": null,
            "min_width": null,
            "border": null,
            "align_items": null,
            "bottom": null,
            "_model_module": "@jupyter-widgets/base",
            "top": null,
            "grid_column": null,
            "overflow_y": null,
            "overflow_x": null,
            "grid_auto_flow": null,
            "grid_area": null,
            "grid_template_columns": null,
            "flex": null,
            "_model_name": "LayoutModel",
            "justify_items": null,
            "grid_row": null,
            "max_height": null,
            "align_content": null,
            "visibility": null,
            "align_self": null,
            "height": null,
            "min_height": null,
            "padding": null,
            "grid_auto_rows": null,
            "grid_gap": null,
            "max_width": null,
            "order": null,
            "_view_module_version": "1.2.0",
            "grid_template_areas": null,
            "object_position": null,
            "object_fit": null,
            "grid_auto_columns": null,
            "margin": null,
            "display": null,
            "left": null
          }
        },
        "9281e9019d9e4621a10d4f6e5ddd26b3": {
          "model_module": "@jupyter-widgets/controls",
          "model_name": "ProgressStyleModel",
          "model_module_version": "1.5.0",
          "state": {
            "_view_name": "StyleView",
            "_model_name": "ProgressStyleModel",
            "description_width": "",
            "_view_module": "@jupyter-widgets/base",
            "_model_module_version": "1.5.0",
            "_view_count": null,
            "_view_module_version": "1.2.0",
            "bar_color": null,
            "_model_module": "@jupyter-widgets/controls"
          }
        },
        "60684af8d32d4a6a852a339099dea609": {
          "model_module": "@jupyter-widgets/base",
          "model_name": "LayoutModel",
          "model_module_version": "1.2.0",
          "state": {
            "_view_name": "LayoutView",
            "grid_template_rows": null,
            "right": null,
            "justify_content": null,
            "_view_module": "@jupyter-widgets/base",
            "overflow": null,
            "_model_module_version": "1.2.0",
            "_view_count": null,
            "flex_flow": null,
            "width": null,
            "min_width": null,
            "border": null,
            "align_items": null,
            "bottom": null,
            "_model_module": "@jupyter-widgets/base",
            "top": null,
            "grid_column": null,
            "overflow_y": null,
            "overflow_x": null,
            "grid_auto_flow": null,
            "grid_area": null,
            "grid_template_columns": null,
            "flex": null,
            "_model_name": "LayoutModel",
            "justify_items": null,
            "grid_row": null,
            "max_height": null,
            "align_content": null,
            "visibility": null,
            "align_self": null,
            "height": null,
            "min_height": null,
            "padding": null,
            "grid_auto_rows": null,
            "grid_gap": null,
            "max_width": null,
            "order": null,
            "_view_module_version": "1.2.0",
            "grid_template_areas": null,
            "object_position": null,
            "object_fit": null,
            "grid_auto_columns": null,
            "margin": null,
            "display": null,
            "left": null
          }
        },
        "a221e2eb5659433a9934cbe76efd0691": {
          "model_module": "@jupyter-widgets/controls",
          "model_name": "DescriptionStyleModel",
          "model_module_version": "1.5.0",
          "state": {
            "_view_name": "StyleView",
            "_model_name": "DescriptionStyleModel",
            "description_width": "",
            "_view_module": "@jupyter-widgets/base",
            "_model_module_version": "1.5.0",
            "_view_count": null,
            "_view_module_version": "1.2.0",
            "_model_module": "@jupyter-widgets/controls"
          }
        },
        "bd463f0dfb1e4c28a17a11fda4d26a0c": {
          "model_module": "@jupyter-widgets/base",
          "model_name": "LayoutModel",
          "model_module_version": "1.2.0",
          "state": {
            "_view_name": "LayoutView",
            "grid_template_rows": null,
            "right": null,
            "justify_content": null,
            "_view_module": "@jupyter-widgets/base",
            "overflow": null,
            "_model_module_version": "1.2.0",
            "_view_count": null,
            "flex_flow": null,
            "width": null,
            "min_width": null,
            "border": null,
            "align_items": null,
            "bottom": null,
            "_model_module": "@jupyter-widgets/base",
            "top": null,
            "grid_column": null,
            "overflow_y": null,
            "overflow_x": null,
            "grid_auto_flow": null,
            "grid_area": null,
            "grid_template_columns": null,
            "flex": null,
            "_model_name": "LayoutModel",
            "justify_items": null,
            "grid_row": null,
            "max_height": null,
            "align_content": null,
            "visibility": null,
            "align_self": null,
            "height": null,
            "min_height": null,
            "padding": null,
            "grid_auto_rows": null,
            "grid_gap": null,
            "max_width": null,
            "order": null,
            "_view_module_version": "1.2.0",
            "grid_template_areas": null,
            "object_position": null,
            "object_fit": null,
            "grid_auto_columns": null,
            "margin": null,
            "display": null,
            "left": null
          }
        },
        "5fcca9574aac4a10ba5218e321e2dff5": {
          "model_module": "@jupyter-widgets/controls",
          "model_name": "HBoxModel",
          "model_module_version": "1.5.0",
          "state": {
            "_view_name": "HBoxView",
            "_dom_classes": [],
            "_model_name": "HBoxModel",
            "_view_module": "@jupyter-widgets/controls",
            "_model_module_version": "1.5.0",
            "_view_count": null,
            "_view_module_version": "1.5.0",
            "box_style": "",
            "layout": "IPY_MODEL_4608912f960341e4bb56e2fb7088816b",
            "_model_module": "@jupyter-widgets/controls",
            "children": [
              "IPY_MODEL_bebd19df7bcb4646844065b1f020b9fe",
              "IPY_MODEL_118005f852fc4f93a63a82b881d38139",
              "IPY_MODEL_f9dcf9b49445470e83a1a0332e50bea8"
            ]
          }
        },
        "4608912f960341e4bb56e2fb7088816b": {
          "model_module": "@jupyter-widgets/base",
          "model_name": "LayoutModel",
          "model_module_version": "1.2.0",
          "state": {
            "_view_name": "LayoutView",
            "grid_template_rows": null,
            "right": null,
            "justify_content": null,
            "_view_module": "@jupyter-widgets/base",
            "overflow": null,
            "_model_module_version": "1.2.0",
            "_view_count": null,
            "flex_flow": null,
            "width": null,
            "min_width": null,
            "border": null,
            "align_items": null,
            "bottom": null,
            "_model_module": "@jupyter-widgets/base",
            "top": null,
            "grid_column": null,
            "overflow_y": null,
            "overflow_x": null,
            "grid_auto_flow": null,
            "grid_area": null,
            "grid_template_columns": null,
            "flex": null,
            "_model_name": "LayoutModel",
            "justify_items": null,
            "grid_row": null,
            "max_height": null,
            "align_content": null,
            "visibility": null,
            "align_self": null,
            "height": null,
            "min_height": null,
            "padding": null,
            "grid_auto_rows": null,
            "grid_gap": null,
            "max_width": null,
            "order": null,
            "_view_module_version": "1.2.0",
            "grid_template_areas": null,
            "object_position": null,
            "object_fit": null,
            "grid_auto_columns": null,
            "margin": null,
            "display": null,
            "left": null
          }
        },
        "bebd19df7bcb4646844065b1f020b9fe": {
          "model_module": "@jupyter-widgets/controls",
          "model_name": "HTMLModel",
          "model_module_version": "1.5.0",
          "state": {
            "_view_name": "HTMLView",
            "style": "IPY_MODEL_a96c571c03c84a46a7129c43490d88e4",
            "_dom_classes": [],
            "description": "",
            "_model_name": "HTMLModel",
            "placeholder": "​",
            "_view_module": "@jupyter-widgets/controls",
            "_model_module_version": "1.5.0",
            "value": "100%",
            "_view_count": null,
            "_view_module_version": "1.5.0",
            "description_tooltip": null,
            "_model_module": "@jupyter-widgets/controls",
            "layout": "IPY_MODEL_8a675bc172a847f1859351fd38038b65"
          }
        },
        "118005f852fc4f93a63a82b881d38139": {
          "model_module": "@jupyter-widgets/controls",
          "model_name": "FloatProgressModel",
          "model_module_version": "1.5.0",
          "state": {
            "_view_name": "ProgressView",
            "style": "IPY_MODEL_89880a0c0a4f4974bb9596d9bfc8d375",
            "_dom_classes": [],
            "description": "",
            "_model_name": "FloatProgressModel",
            "bar_style": "success",
            "max": 6,
            "_view_module": "@jupyter-widgets/controls",
            "_model_module_version": "1.5.0",
            "value": 6,
            "_view_count": null,
            "_view_module_version": "1.5.0",
            "orientation": "horizontal",
            "min": 0,
            "description_tooltip": null,
            "_model_module": "@jupyter-widgets/controls",
            "layout": "IPY_MODEL_2e21438873184521b2c65e8ae080bb40"
          }
        },
        "f9dcf9b49445470e83a1a0332e50bea8": {
          "model_module": "@jupyter-widgets/controls",
          "model_name": "HTMLModel",
          "model_module_version": "1.5.0",
          "state": {
            "_view_name": "HTMLView",
            "style": "IPY_MODEL_f759371caaee418f81a021798306a21d",
            "_dom_classes": [],
            "description": "",
            "_model_name": "HTMLModel",
            "placeholder": "​",
            "_view_module": "@jupyter-widgets/controls",
            "_model_module_version": "1.5.0",
            "value": " 6/6 [02:15&lt;00:00, 22.63s/it]",
            "_view_count": null,
            "_view_module_version": "1.5.0",
            "description_tooltip": null,
            "_model_module": "@jupyter-widgets/controls",
            "layout": "IPY_MODEL_b5d49b7251774e75864c30a719ad4af8"
          }
        },
        "a96c571c03c84a46a7129c43490d88e4": {
          "model_module": "@jupyter-widgets/controls",
          "model_name": "DescriptionStyleModel",
          "model_module_version": "1.5.0",
          "state": {
            "_view_name": "StyleView",
            "_model_name": "DescriptionStyleModel",
            "description_width": "",
            "_view_module": "@jupyter-widgets/base",
            "_model_module_version": "1.5.0",
            "_view_count": null,
            "_view_module_version": "1.2.0",
            "_model_module": "@jupyter-widgets/controls"
          }
        },
        "8a675bc172a847f1859351fd38038b65": {
          "model_module": "@jupyter-widgets/base",
          "model_name": "LayoutModel",
          "model_module_version": "1.2.0",
          "state": {
            "_view_name": "LayoutView",
            "grid_template_rows": null,
            "right": null,
            "justify_content": null,
            "_view_module": "@jupyter-widgets/base",
            "overflow": null,
            "_model_module_version": "1.2.0",
            "_view_count": null,
            "flex_flow": null,
            "width": null,
            "min_width": null,
            "border": null,
            "align_items": null,
            "bottom": null,
            "_model_module": "@jupyter-widgets/base",
            "top": null,
            "grid_column": null,
            "overflow_y": null,
            "overflow_x": null,
            "grid_auto_flow": null,
            "grid_area": null,
            "grid_template_columns": null,
            "flex": null,
            "_model_name": "LayoutModel",
            "justify_items": null,
            "grid_row": null,
            "max_height": null,
            "align_content": null,
            "visibility": null,
            "align_self": null,
            "height": null,
            "min_height": null,
            "padding": null,
            "grid_auto_rows": null,
            "grid_gap": null,
            "max_width": null,
            "order": null,
            "_view_module_version": "1.2.0",
            "grid_template_areas": null,
            "object_position": null,
            "object_fit": null,
            "grid_auto_columns": null,
            "margin": null,
            "display": null,
            "left": null
          }
        },
        "89880a0c0a4f4974bb9596d9bfc8d375": {
          "model_module": "@jupyter-widgets/controls",
          "model_name": "ProgressStyleModel",
          "model_module_version": "1.5.0",
          "state": {
            "_view_name": "StyleView",
            "_model_name": "ProgressStyleModel",
            "description_width": "",
            "_view_module": "@jupyter-widgets/base",
            "_model_module_version": "1.5.0",
            "_view_count": null,
            "_view_module_version": "1.2.0",
            "bar_color": null,
            "_model_module": "@jupyter-widgets/controls"
          }
        },
        "2e21438873184521b2c65e8ae080bb40": {
          "model_module": "@jupyter-widgets/base",
          "model_name": "LayoutModel",
          "model_module_version": "1.2.0",
          "state": {
            "_view_name": "LayoutView",
            "grid_template_rows": null,
            "right": null,
            "justify_content": null,
            "_view_module": "@jupyter-widgets/base",
            "overflow": null,
            "_model_module_version": "1.2.0",
            "_view_count": null,
            "flex_flow": null,
            "width": null,
            "min_width": null,
            "border": null,
            "align_items": null,
            "bottom": null,
            "_model_module": "@jupyter-widgets/base",
            "top": null,
            "grid_column": null,
            "overflow_y": null,
            "overflow_x": null,
            "grid_auto_flow": null,
            "grid_area": null,
            "grid_template_columns": null,
            "flex": null,
            "_model_name": "LayoutModel",
            "justify_items": null,
            "grid_row": null,
            "max_height": null,
            "align_content": null,
            "visibility": null,
            "align_self": null,
            "height": null,
            "min_height": null,
            "padding": null,
            "grid_auto_rows": null,
            "grid_gap": null,
            "max_width": null,
            "order": null,
            "_view_module_version": "1.2.0",
            "grid_template_areas": null,
            "object_position": null,
            "object_fit": null,
            "grid_auto_columns": null,
            "margin": null,
            "display": null,
            "left": null
          }
        },
        "f759371caaee418f81a021798306a21d": {
          "model_module": "@jupyter-widgets/controls",
          "model_name": "DescriptionStyleModel",
          "model_module_version": "1.5.0",
          "state": {
            "_view_name": "StyleView",
            "_model_name": "DescriptionStyleModel",
            "description_width": "",
            "_view_module": "@jupyter-widgets/base",
            "_model_module_version": "1.5.0",
            "_view_count": null,
            "_view_module_version": "1.2.0",
            "_model_module": "@jupyter-widgets/controls"
          }
        },
        "b5d49b7251774e75864c30a719ad4af8": {
          "model_module": "@jupyter-widgets/base",
          "model_name": "LayoutModel",
          "model_module_version": "1.2.0",
          "state": {
            "_view_name": "LayoutView",
            "grid_template_rows": null,
            "right": null,
            "justify_content": null,
            "_view_module": "@jupyter-widgets/base",
            "overflow": null,
            "_model_module_version": "1.2.0",
            "_view_count": null,
            "flex_flow": null,
            "width": null,
            "min_width": null,
            "border": null,
            "align_items": null,
            "bottom": null,
            "_model_module": "@jupyter-widgets/base",
            "top": null,
            "grid_column": null,
            "overflow_y": null,
            "overflow_x": null,
            "grid_auto_flow": null,
            "grid_area": null,
            "grid_template_columns": null,
            "flex": null,
            "_model_name": "LayoutModel",
            "justify_items": null,
            "grid_row": null,
            "max_height": null,
            "align_content": null,
            "visibility": null,
            "align_self": null,
            "height": null,
            "min_height": null,
            "padding": null,
            "grid_auto_rows": null,
            "grid_gap": null,
            "max_width": null,
            "order": null,
            "_view_module_version": "1.2.0",
            "grid_template_areas": null,
            "object_position": null,
            "object_fit": null,
            "grid_auto_columns": null,
            "margin": null,
            "display": null,
            "left": null
          }
        }
      }
    }
  },
  "cells": [
    {
      "cell_type": "markdown",
      "metadata": {
        "id": "view-in-github",
        "colab_type": "text"
      },
      "source": [
        "<a href=\"https://colab.research.google.com/github/pipeton8/6.864-advanced-nlp/blob/main/Assignments/Assignment%202/hw2.ipynb\" target=\"_parent\"><img src=\"https://colab.research.google.com/assets/colab-badge.svg\" alt=\"Open In Colab\"/></a>"
      ]
    },
    {
      "cell_type": "code",
      "metadata": {
        "id": "FU7xWiY6TyWS"
      },
      "source": [
        "# %%bash\n",
        "# !(stat -t /usr/local/lib/*/dist-packages/google/colab > /dev/null 2>&1) && exit \n",
        "from IPython.display import clear_output\n",
        "\n",
        "!rm -rf hw2\n",
        "!wget https://github.com/pipeton8/6.864-advanced-nlp/raw/main/Assignments/Assignment%202/lab_util.py -P hw2\n",
        "!wget https://github.com/pipeton8/6.864-advanced-nlp/raw/main/Assignments/Assignment%202/reviews.csv -P hw2\n",
        "\n",
        "clear_output()"
      ],
      "execution_count": 8,
      "outputs": []
    },
    {
      "cell_type": "code",
      "metadata": {
        "id": "A0MHaHrdUACZ"
      },
      "source": [
        "import sys\n",
        "sys.path.insert(1,'/content/hw2')\n",
        "\n",
        "import csv\n",
        "import itertools as it\n",
        "import numpy as np\n",
        "import matplotlib.pyplot as plt\n",
        "import seaborn as sns\n",
        "import lab_util\n",
        "\n",
        "from sklearn.pipeline              import Pipeline\n",
        "from sklearn.decomposition         import TruncatedSVD, PCA\n",
        "from sklearn.linear_model          import LogisticRegression\n",
        "from sklearn.ensemble              import RandomForestClassifier\n",
        "from sklearn.svm                   import LinearSVC\n",
        "from sklearn.neural_network        import MLPClassifier\n",
        "from sklearn.discriminant_analysis import QuadraticDiscriminantAnalysis\n",
        "from sklearn.neighbors             import KNeighborsClassifier\n",
        "\n",
        "from tqdm.auto import tqdm"
      ],
      "execution_count": 9,
      "outputs": []
    },
    {
      "cell_type": "markdown",
      "metadata": {
        "id": "cZ3MUj4iUf76"
      },
      "source": [
        "# Introduction\n",
        "\n",
        "In this notebook, you will find code scaffolding for the implementation portion of Homework 2. There are certain parts of the scaffolding marked with `# Your code here!` comments where you can fill in code to perform the specified tasks. After implementing the methods in this notebook, you will need to design and perform experiments to evaluate each method and respond to the questions in the Homework 2 handout (available on Canvas). You should be able to complete this assignment without changing any of the scaffolding code, just writing code to fill in the scaffolding and run experiments."
      ]
    },
    {
      "cell_type": "markdown",
      "metadata": {
        "id": "gG654Y9J3yHw"
      },
      "source": [
        "## Dataset\n",
        "\n",
        "We're going to be working with a dataset of product reviews. The following cell loads the dataset and splits it into training, validation, and test sets."
      ]
    },
    {
      "cell_type": "code",
      "metadata": {
        "id": "JwiX-Tc9V1xI",
        "colab": {
          "base_uri": "https://localhost:8080/"
        },
        "outputId": "08657eb1-76bc-4f46-ac9f-fe070d1f1c9c"
      },
      "source": [
        "data = []\n",
        "n_positive = 0\n",
        "n_disp = 0\n",
        "np.random.seed(0)\n",
        "\n",
        "with open(\"hw2/reviews.csv\") as reader:\n",
        "  csvreader = csv.reader(reader)\n",
        "  next(csvreader)\n",
        "  for id, review, label in csvreader:\n",
        "    label = int(label)\n",
        "\n",
        "    # hacky class balancing\n",
        "    if label == 1:\n",
        "      if n_positive == 2000:\n",
        "        continue\n",
        "\n",
        "      n_positive += 1\n",
        "\n",
        "    if len(data) == 4000:\n",
        "      break\n",
        "\n",
        "    data.append((review, label))\n",
        "    \n",
        "    if n_disp > 5:\n",
        "      continue\n",
        "\n",
        "    n_disp += 1\n",
        "\n",
        "    print(\"review:\", review)\n",
        "    print(\"rating:\", label, \"(good)\" if label == 1 else \"(bad)\")\n",
        "    print()\n",
        "\n",
        "print(f\"Read {len(data)} total reviews.\")\n",
        "\n",
        "# Shuffle before splitting\n",
        "np.random.shuffle(data)\n",
        "reviews, labels = zip(*data)\n",
        "\n",
        "# Training (3000 samples)\n",
        "train_reviews = reviews[:3000]\n",
        "train_labels = labels[:3000]\n",
        "\n",
        "# Validation (500 samples)\n",
        "val_reviews = reviews[3000:3500]\n",
        "val_labels = labels[3000:3500]\n",
        "\n",
        "# Testing (500 samples)\n",
        "test_reviews = reviews[3500:]\n",
        "test_labels = labels[3500:]"
      ],
      "execution_count": 10,
      "outputs": [
        {
          "output_type": "stream",
          "name": "stdout",
          "text": [
            "review: I have bought several of the Vitality canned dog food products and have found them all to be of good quality. The product looks more like a stew than a processed meat and it smells better. My Labrador is finicky and she appreciates this product better than  most.\n",
            "rating: 1 (good)\n",
            "\n",
            "review: Product arrived labeled as Jumbo Salted Peanuts...the peanuts were actually small sized unsalted. Not sure if this was an error or if the vendor intended to represent the product as \"Jumbo\".\n",
            "rating: 0 (bad)\n",
            "\n",
            "review: This is a confection that has been around a few centuries.  It is a light, pillowy citrus gelatin with nuts - in this case Filberts. And it is cut into tiny squares and then liberally coated with powdered sugar.  And it is a tiny mouthful of heaven.  Not too chewy, and very flavorful.  I highly recommend this yummy treat.  If you are familiar with the story of C.S. Lewis' \"The Lion, The Witch, and The Wardrobe\" - this is the treat that seduces Edmund into selling out his Brother and Sisters to the Witch.\n",
            "rating: 1 (good)\n",
            "\n",
            "review: If you are looking for the secret ingredient in Robitussin I believe I have found it.  I got this in addition to the Root Beer Extract I ordered (which was good) and made some cherry soda.  The flavor is very medicinal.\n",
            "rating: 0 (bad)\n",
            "\n",
            "review: Great taffy at a great price.  There was a wide assortment of yummy taffy.  Delivery was very quick.  If your a taffy lover, this is a deal.\n",
            "rating: 1 (good)\n",
            "\n",
            "review: I got a wild hair for taffy and ordered this five pound bag. The taffy was all very enjoyable with many flavors: watermelon, root beer, melon, peppermint, grape, etc. My only complaint is there was a bit too much red/black licorice-flavored pieces (just not my particular favorites). Between me, my kids, and my husband, this lasted only two weeks! I would recommend this brand of taffy -- it was a delightful treat.\n",
            "rating: 1 (good)\n",
            "\n",
            "Read 4000 total reviews.\n"
          ]
        }
      ]
    },
    {
      "cell_type": "markdown",
      "metadata": {
        "id": "twLHWqM6Z5xD"
      },
      "source": [
        "# Part 1: word representations via matrix factorization\n",
        "\n",
        "First, we'll construct the term-document matrix (look at `/content/hw2/lab_util.py` in the file browser on the left if you want to see how this works)."
      ]
    },
    {
      "cell_type": "code",
      "metadata": {
        "id": "3WPt6Y7-Z_7P",
        "colab": {
          "base_uri": "https://localhost:8080/"
        },
        "outputId": "b6d0c7ec-2710-413b-e197-f6b7405d93c6"
      },
      "source": [
        "vectorizer = lab_util.CountVectorizer()\n",
        "vectorizer.fit(train_reviews)\n",
        "td_matrix = vectorizer.transform(train_reviews).T\n",
        "print(f\"TD matrix is {td_matrix.shape[0]} x {td_matrix.shape[1]}\")"
      ],
      "execution_count": 11,
      "outputs": [
        {
          "output_type": "stream",
          "name": "stdout",
          "text": [
            "TD matrix is 2006 x 3000\n"
          ]
        }
      ]
    },
    {
      "cell_type": "markdown",
      "metadata": {
        "id": "hd3-pw4XbD4B"
      },
      "source": [
        "First, implement the function `learn_reps_lsa` that computes word representations via latent semantic analysis. The `sklearn.decomposition` or `np.linalg` packages may be useful."
      ]
    },
    {
      "cell_type": "code",
      "metadata": {
        "id": "KASVs8KubeBE"
      },
      "source": [
        "def idf_matrix(matrix, idf_weight = 'idf'):\n",
        "  \"\"\" Given a |V| x n TD matrix, returns the |V| IDF vector associated, where\n",
        "      idf(w) = log (# documents / (1 + # documents that contain w) )\n",
        "  \"\"\"\n",
        "  reviews_per_word = np.sum(matrix > 0, axis=1, keepdims=True)\n",
        "  reviews = matrix.shape[1]\n",
        "\n",
        "  if idf_weight == 'idf':\n",
        "    return np.log(reviews/(1+reviews_per_word))\n",
        "\n",
        "def tf_matrix(matrix, tf_weight = 'raw'):\n",
        "  \"\"\"\n",
        "    Given a |V| x n TD matrix, returns the |V| x n tf matrix, weighted according\n",
        "    to tf_weight.\n",
        "  \"\"\"\n",
        "\n",
        "  if tf_weight == 'raw':\n",
        "    tf_matrix = matrix\n",
        "\n",
        "  elif tf_weight == 'term frequency':\n",
        "    tf_matrix = matrix/matrix.sum()\n",
        "\n",
        "  elif tf_weight == 'log normalization':\n",
        "    tf_matrix = np.log(1+matrix)\n",
        "\n",
        "  elif tf_weight.find('double') != -1:\n",
        "    try:\n",
        "      dash_pos = tf_weight.find('-')\n",
        "      k = float(tf_weight[dash_pos+1:])\n",
        "      tf_matrix =  k + (1-k) * matrix/matrix.max(axis=0,keepdims=True)\n",
        "    except:\n",
        "      print(\"Double-k misspecified, raw weight applied.\")\n",
        "      tf_matrix = matrix\n",
        "\n",
        "  return tf_matrix\n",
        "\n",
        "def learn_reps_lsa(matrix, rep_size, tf_weight='raw', tf_idf=False, idf_weight='idf'):\n",
        "    # `matrix` is a `|V| x n` matrix (usually a TD matrix), \n",
        "    # where `|V|` is the number of words in the vocabulary and `n`\n",
        "    # is the number of reviews in the (training) corpus.\n",
        "    # This function should return a `|V| x rep_size` matrix with each\n",
        "    # row corresponding to a word representation.\n",
        "    \n",
        "    LSA_matrix = tf_matrix(matrix, tf_weight)\n",
        "\n",
        "    if tf_idf:\n",
        "      # Get IDF vector\n",
        "      idf = idf_matrix(matrix, idf_weight)\n",
        "\n",
        "      # Compute TF-IDF matrix\n",
        "      LSA_matrix = LSA_matrix * idf\n",
        "\n",
        "    # Initialize svd object\n",
        "    svd = TruncatedSVD(n_components=rep_size)\n",
        "\n",
        "    # Decompose TF-IDF matrix\n",
        "    return svd.fit_transform(LSA_matrix)"
      ],
      "execution_count": 12,
      "outputs": []
    },
    {
      "cell_type": "markdown",
      "metadata": {
        "id": "SKWzRC0dclVK"
      },
      "source": [
        "Let's look at some representations:"
      ]
    },
    {
      "cell_type": "code",
      "metadata": {
        "id": "YmRFpxYx61BM"
      },
      "source": [
        "words = [\"good\", \"bad\", \"cookie\", \"jelly\", \"dog\", \"the\", \"3\"]\n",
        "show_tokens = [vectorizer.tokenizer.word_to_token[word] for word in words]"
      ],
      "execution_count": 13,
      "outputs": []
    },
    {
      "cell_type": "code",
      "metadata": {
        "id": "XQJyABwM5RwN",
        "colab": {
          "base_uri": "https://localhost:8080/"
        },
        "outputId": "77cfbd6d-5009-45e8-867f-9a70e9a19c69"
      },
      "source": [
        "reps = learn_reps_lsa(td_matrix, 500)\n",
        "lab_util.show_similar_words(vectorizer.tokenizer, reps, show_tokens)"
      ],
      "execution_count": 14,
      "outputs": [
        {
          "output_type": "stream",
          "name": "stdout",
          "text": [
            "good 47\n",
            "  . 1.056\n",
            "  a 1.101\n",
            "  but 1.121\n",
            "  , 1.152\n",
            "  the 1.157\n",
            "bad 201\n",
            "  . 1.396\n",
            "  taste 1.416\n",
            "  but 1.434\n",
            "  a 1.435\n",
            "  i 1.449\n",
            "cookie 504\n",
            "  nana's 0.777\n",
            "  cookies 1.036\n",
            "  oreos 1.287\n",
            "  bars 1.362\n",
            "  bites 1.425\n",
            "jelly 351\n",
            "  twist 1.144\n",
            "  cardboard 1.230\n",
            "  advertised 1.382\n",
            "  peanuts 1.406\n",
            "  plastic 1.454\n",
            "dog 925\n",
            "  food 1.048\n",
            "  pet 1.069\n",
            "  pets 1.071\n",
            "  switched 1.208\n",
            "  foods 1.230\n",
            "the 36\n",
            "  . 0.331\n",
            "  <unk> 0.366\n",
            "  of 0.395\n",
            "  and 0.403\n",
            "  to 0.422\n",
            "3 289\n",
            "  8 1.210\n",
            "  . 1.239\n",
            "  the 1.271\n",
            "  to 1.272\n",
            "  <unk> 1.279\n"
          ]
        }
      ]
    },
    {
      "cell_type": "markdown",
      "metadata": {
        "id": "LsOAGLB3iRjT"
      },
      "source": [
        "We've been operating on the raw count matrix, but in class we discussed several reweighting schemes aimed at making LSA representations more informative. \n",
        "\n",
        "Here, implement the TF-IDF transform and see how it affects learned representations. While it is okay (and in fact encouraged) to use vectorized numpy operations, you should refrain from using pre-implemented library functions for computing TF-IDF.\n",
        "\n",
        "How does TF-IDF normalization change the learned similarity function?"
      ]
    },
    {
      "cell_type": "code",
      "metadata": {
        "id": "SV5xKLYTi7LA",
        "colab": {
          "base_uri": "https://localhost:8080/"
        },
        "outputId": "a5a7ae25-f315-4dc6-ec25-9051ee67bbf6"
      },
      "source": [
        "reps_tfidf = learn_reps_lsa(td_matrix, 500, tf_idf=True)\n",
        "lab_util.show_similar_words(vectorizer.tokenizer, reps_tfidf, show_tokens)"
      ],
      "execution_count": 15,
      "outputs": [
        {
          "output_type": "stream",
          "name": "stdout",
          "text": [
            "good 47\n",
            "  . 0.981\n",
            "  but 1.013\n",
            "  a 1.030\n",
            "  and 1.087\n",
            "  is 1.090\n",
            "bad 201\n",
            "  . 1.329\n",
            "  taste 1.340\n",
            "  but 1.361\n",
            "  a 1.372\n",
            "  not 1.380\n",
            "cookie 504\n",
            "  nana's 0.811\n",
            "  cookies 1.145\n",
            "  moist 1.437\n",
            "  bars 1.438\n",
            "  oreos 1.451\n",
            "jelly 351\n",
            "  twist 1.100\n",
            "  cardboard 1.233\n",
            "  advertised 1.307\n",
            "  plastic 1.506\n",
            "  plum 1.512\n",
            "dog 925\n",
            "  food 1.031\n",
            "  pets 1.097\n",
            "  pet 1.102\n",
            "  foods 1.192\n",
            "  switched 1.250\n",
            "the 36\n",
            "  . 0.212\n",
            "  and 0.269\n",
            "  <unk> 0.291\n",
            "  of 0.303\n",
            "  to 0.323\n",
            "3 289\n",
            "  8 1.143\n",
            "  . 1.173\n",
            "  to 1.220\n",
            "  the 1.220\n",
            "  of 1.234\n"
          ]
        }
      ]
    },
    {
      "cell_type": "markdown",
      "metadata": {
        "id": "HO-NG4u1kG9z"
      },
      "source": [
        "Now that we have some representations, let's see if we can do something useful with them.\n",
        "\n",
        "Below, implement a feature function that represents a document as the sum of its\n",
        "learned word embeddings.\n",
        "\n",
        "The remaining code trains a logistic regression model on a set of *labeled* reviews; we're interested in seeing how much representations learned from *unlabeled* reviews improve classification.\n",
        "\n",
        "(Note: the staff solutions for each of the three featurizers achieve accuracies of between .78 and .83 with the full training corpus (3000 examples).)"
      ]
    },
    {
      "cell_type": "code",
      "metadata": {
        "id": "6B08xvIFlee3"
      },
      "source": [
        "def word_featurizer(xs):\n",
        "    # normalize\n",
        "    return xs / np.sqrt((xs ** 2).sum(axis=1, keepdims=True))\n",
        "\n",
        "def lsa_featurizer(xs, reps, idf_weighting = False):\n",
        "    # This function takes in a `|D| x |V|` TD matrix in which each row contains\n",
        "    # the word counts for the given review.\n",
        "    # It should return a matrix where each row contains the learned feature\n",
        "    # representation of each review (e.g. the sum of LSA word representations).\n",
        "    # (Hint: use TF-IDF LSA features, which should be a global variable after\n",
        "    # running the previous cell; no need to pass it in as an argument.)\n",
        "    feats = np.zeros((xs.shape[0],reps.shape[1]))\n",
        "\n",
        "    if idf_weighting:\n",
        "      idf = idf_matrix(xs.T, 'idf')\n",
        "    else:\n",
        "      idf = np.ones_like(feats[0,:])\n",
        "\n",
        "    for i in range(xs.shape[0]):\n",
        "      doc_wordDummies = (xs[i,:] > 0).T.reshape((-1,1))\n",
        "      feats[i,:] = np.sum(doc_wordDummies * idf * reps,axis=0, keepdims=True)\n",
        "\n",
        "    # normalize\n",
        "    return feats / np.sqrt((feats ** 2).sum(axis=1, keepdims=True))\n",
        "\n",
        "# We've implemented the remainder of the training and evaluation pipeline,\n",
        "# so you likely won't need to modify the following four functions.\n",
        "def combo_featurizer(xs, reps, idf_weighting = False):\n",
        "    return np.concatenate((word_featurizer(xs), lsa_featurizer(xs, reps, idf_weighting=idf_weighting)), axis=1)\n",
        "\n",
        "def train_model(xs, ys, featurizer, featurizer_args, featurizer_kwargs, model):\n",
        "    xs_featurized = featurizer(xs, *featurizer_args, **featurizer_kwargs)\n",
        "\n",
        "    model.fit(xs_featurized, ys)\n",
        "\n",
        "    return model\n",
        "\n",
        "def eval_model(model, xs, ys, featurizer, featurizer_args, featurizer_kwargs):\n",
        "    xs_featurized = featurizer(xs, *featurizer_args, **featurizer_kwargs)\n",
        "\n",
        "    pred_ys = model.predict(xs_featurized)\n",
        "\n",
        "    return np.mean(pred_ys == ys)\n",
        "\n",
        "def training_experiment(name, n_train, model, featurizer, featurizer_args = [], featurizer_kwargs = {}, verbose=True):\n",
        "    if verbose:\n",
        "      print(f\"{name} features, {n_train} examples\")\n",
        "\n",
        "    train_xs = vectorizer.transform(train_reviews[:n_train])\n",
        "    train_ys = train_labels[:n_train]\n",
        "    test_xs = vectorizer.transform(test_reviews)\n",
        "    test_ys = test_labels\n",
        "    model = train_model(train_xs, train_ys, featurizer, featurizer_args, featurizer_kwargs, model)\n",
        "    acc = eval_model(model, test_xs, test_ys, featurizer, featurizer_args, featurizer_kwargs)\n",
        "\n",
        "    if verbose:\n",
        "      print(f\"Accuracy is {acc*100:.2f}%\")\n",
        "      print(\"\")\n",
        "\n",
        "    return acc"
      ],
      "execution_count": 16,
      "outputs": []
    },
    {
      "cell_type": "code",
      "metadata": {
        "id": "Cuhuj7Ek1Q8i",
        "colab": {
          "base_uri": "https://localhost:8080/"
        },
        "outputId": "f174214d-f69a-42c9-c3a8-5e30bc281bdf"
      },
      "source": [
        "# Train\n",
        "n_train = 3000\n",
        "embed_size = 500\n",
        "model = LogisticRegression()\n",
        "\n",
        "reps_tfidf = learn_reps_lsa(td_matrix, embed_size, tf_idf=True)\n",
        "acc = training_experiment(\"word\", n_train, model, word_featurizer)\n",
        "acc = training_experiment(\"lsa\", n_train, model, lsa_featurizer, \n",
        "                          featurizer_args=[reps_tfidf], featurizer_kwargs={'idf_weighting' : True})\n",
        "acc = training_experiment(\"combo\", n_train, model, combo_featurizer, \n",
        "                          featurizer_args=[reps_tfidf],featurizer_kwargs={'idf_weighting' : True})"
      ],
      "execution_count": 17,
      "outputs": [
        {
          "output_type": "stream",
          "name": "stdout",
          "text": [
            "word features, 3000 examples\n",
            "Accuracy is 78.40%\n",
            "\n",
            "lsa features, 3000 examples\n",
            "Accuracy is 80.20%\n",
            "\n",
            "combo features, 3000 examples\n",
            "Accuracy is 82.00%\n",
            "\n"
          ]
        }
      ]
    },
    {
      "cell_type": "markdown",
      "metadata": {
        "id": "-RLUZNtWvObR"
      },
      "source": [
        "word features, 3000 examples\n",
        "Accuracy is 78.40%\n",
        "\n",
        "lsa features, 3000 examples\n",
        "Accuracy is 80.20%\n",
        "\n",
        "combo features, 3000 examples\n",
        "Accuracy is 82.00%"
      ]
    },
    {
      "cell_type": "markdown",
      "metadata": {
        "id": "rpXziVNrlfp2"
      },
      "source": [
        "**Part 1: Lab writeup**\n",
        "\n",
        "Part 1 of your lab report should discuss any implementation details that were important to filling out the code above, as well as your answers to the questions in Part 1 of the Homework 2 handout. Below, you can set up and perform experiments that answer these questions (include figures, plots, and tables in your write-up as you see fit)."
      ]
    },
    {
      "cell_type": "markdown",
      "metadata": {
        "id": "L3WrzsHhC1I5"
      },
      "source": [
        "## Experiments for Part 1"
      ]
    },
    {
      "cell_type": "markdown",
      "metadata": {
        "id": "MXMcQysM7j8o"
      },
      "source": [
        "### Part (a)"
      ]
    },
    {
      "cell_type": "code",
      "metadata": {
        "id": "QX_6yxZQPXFP"
      },
      "source": [
        "def cosine_similarity(A,B, axis=0):\n",
        "  \"\"\"\n",
        "  Given matrices A and B, computes cosine similarity between column vectors if\n",
        "  axis = 0 and between rows if axis = 1.\n",
        "  \"\"\"\n",
        "  norm_A = np.linalg.norm(A,axis=axis)\n",
        "  norm_B = np.linalg.norm(B,axis=axis)\n",
        "  \n",
        "  return np.sum(A * B,axis=axis)/(norm_A*norm_B)"
      ],
      "execution_count": 18,
      "outputs": []
    },
    {
      "cell_type": "code",
      "metadata": {
        "colab": {
          "base_uri": "https://localhost:8080/",
          "height": 372
        },
        "id": "Kq1X6YMD7luQ",
        "outputId": "cad8bcd2-f76d-4499-b740-0c47d50ffea8"
      },
      "source": [
        "# Set embed_size and compute W_tt\n",
        "embed_size = 500\n",
        "w_tt = td_matrix @ td_matrix.T\n",
        "\n",
        "# Initialize SVD objects\n",
        "svd_TD = TruncatedSVD(n_components=embed_size, random_state=0)\n",
        "svd_TT = TruncatedSVD(n_components=embed_size, random_state=0)\n",
        "\n",
        "# Obtain low rand representation\n",
        "decomposed_TD = svd_TD.fit_transform(td_matrix)\n",
        "decomposed_TT = svd_TT.fit_transform(w_tt)\n",
        "\n",
        "# Obtain left_singular vectors (in absolute value)\n",
        "left_singular_TD = decomposed_TD/svd_TD.singular_values_\n",
        "left_singular_TT = decomposed_TT/svd_TT.singular_values_\n",
        "\n",
        "# Singular value similarity\n",
        "values_TD = svd_TD.singular_values_\n",
        "values_TT = svd_TT.singular_values_\n",
        "value_similarity = cosine_similarity(values_TD, np.sqrt(values_TT))\n",
        "\n",
        "# Compute cosine similarity between each column\n",
        "vector_similarity = cosine_similarity(left_singular_TD,left_singular_TT)\n",
        "vector_similarity = np.abs(vector_similarity)\n",
        "\n",
        "ax = sns.histplot(vector_similarity, binwidth=0.05)\n",
        "ax.set_xticks([0.2*x for x in range(6)])\n",
        "\n",
        "print(f\"Singular values coincide: \" + \"Yes\"*(value_similarity>=0.99) + \"No\"*(value_similarity<0.99))\n",
        "print(f\"Share of vectors with similarity (in absolute value) equal or greater that 0.90: {(vector_similarity>=0.90).sum()/embed_size:.2f}\")\n",
        "print(f\"Share of vectors with similarity (in absolute value) equal or greater that 0.95: {(vector_similarity>=0.95).sum()/embed_size:.2f}\")\n",
        "print(f\"Share of vectors with similarity (in absolute value) equal or greater that 0.99: {(vector_similarity>=0.99).sum()/embed_size:.2f}\")"
      ],
      "execution_count": 19,
      "outputs": [
        {
          "output_type": "stream",
          "name": "stdout",
          "text": [
            "Singular values coincide: Yes\n",
            "Share of vectors with similarity (in absolute value) equal or greater that 0.90: 0.80\n",
            "Share of vectors with similarity (in absolute value) equal or greater that 0.95: 0.77\n",
            "Share of vectors with similarity (in absolute value) equal or greater that 0.99: 0.72\n"
          ]
        },
        {
          "output_type": "stream",
          "name": "stderr",
          "text": [
            "/usr/local/lib/python3.7/dist-packages/ipykernel_launcher.py:29: DeprecationWarning: In future, it will be an error for 'np.bool_' scalars to be interpreted as an index\n"
          ]
        },
        {
          "output_type": "display_data",
          "data": {
            "image/png": "[encoded data removed]",
            "text/plain": [
              "<Figure size 432x288 with 1 Axes>"
            ]
          },
          "metadata": {
            "needs_background": "light"
          }
        }
      ]
    },
    {
      "cell_type": "markdown",
      "metadata": {
        "id": "ZX2XkAs5Z7_2"
      },
      "source": [
        "### Part (b)"
      ]
    },
    {
      "cell_type": "code",
      "metadata": {
        "id": "rjxPhuqKG_RI"
      },
      "source": [
        "words = ['the', 'dog', '3', 'good']\n",
        "show_tokens = [vectorizer.tokenizer.word_to_token[word] for word in words]"
      ],
      "execution_count": 20,
      "outputs": []
    },
    {
      "cell_type": "code",
      "metadata": {
        "colab": {
          "base_uri": "https://localhost:8080/"
        },
        "id": "Q7FDct_pZ9Oc",
        "outputId": "390ee902-1a5d-447e-fad6-11f0dc4fa5ba"
      },
      "source": [
        "embed_size = 1000\n",
        "kwargs = {'tf_weight'  : 'term frequency',\n",
        "          'tf_idf'     : True}\n",
        "\n",
        "reps = learn_reps_lsa(td_matrix, embed_size, **kwargs)\n",
        "lab_util.show_similar_words(vectorizer.tokenizer, reps, show_tokens)"
      ],
      "execution_count": 21,
      "outputs": [
        {
          "output_type": "stream",
          "name": "stdout",
          "text": [
            "the 36\n",
            "  . 0.264\n",
            "  <unk> 0.328\n",
            "  and 0.342\n",
            "  of 0.363\n",
            "  to 0.383\n",
            "dog 925\n",
            "  food 1.050\n",
            "  pets 1.163\n",
            "  pet 1.182\n",
            "  foods 1.257\n",
            "  dogs 1.311\n",
            "3 289\n",
            "  . 1.217\n",
            "  8 1.230\n",
            "  the 1.262\n",
            "  to 1.264\n",
            "  <unk> 1.270\n",
            "good 47\n",
            "  . 1.028\n",
            "  a 1.082\n",
            "  but 1.105\n",
            "  and 1.138\n",
            "  the 1.143\n"
          ]
        }
      ]
    },
    {
      "cell_type": "markdown",
      "metadata": {
        "id": "Avm1gpBjYLNI"
      },
      "source": [
        "### Part (c)"
      ]
    },
    {
      "cell_type": "markdown",
      "metadata": {
        "id": "jCs3hDlTpg9g"
      },
      "source": [
        "#### Different training sizes"
      ]
    },
    {
      "cell_type": "code",
      "metadata": {
        "colab": {
          "base_uri": "https://localhost:8080/",
          "height": 49
        },
        "id": "LlMSHB0hYKp5",
        "outputId": "45ecbb5b-954c-4f01-8c82-bd20d8f82a18"
      },
      "source": [
        "# Different training sizes\n",
        "n_trains = [500*i for i in range(1,7)]\n",
        "embed_size = 500\n",
        "model = LogisticRegression()\n",
        "accs_train_size = {'word'  : [],\n",
        "                   'lsa'   : [],\n",
        "                   'combo' : []\n",
        "                  }\n",
        "\n",
        "features = ['word', 'lsa', 'combo']\n",
        "featurizers = [word_featurizer, lsa_featurizer, combo_featurizer]\n",
        "\n",
        "reps = learn_reps_lsa(td_matrix, embed_size, tf_weight='term frequency', tf_idf=True)\n",
        "\n",
        "for n_train in tqdm(n_trains):\n",
        "  for feature,featurizer in zip(features,featurizers):\n",
        "    if feature == 'word':\n",
        "      accs_train_size[feature].append(training_experiment(feature, n_train, model, featurizer, verbose=False))\n",
        "    else:\n",
        "      accs_train_size[feature].append(\n",
        "          training_experiment(feature, n_train, model, featurizer, \n",
        "                              featurizer_args=[reps], \n",
        "                              featurizer_kwargs={'idf_weighting' : True}, \n",
        "                              verbose=False))"
      ],
      "execution_count": 22,
      "outputs": [
        {
          "output_type": "display_data",
          "data": {
            "application/vnd.jupyter.widget-view+json": {
              "model_id": "46e4def6867543afaa330d8a726b9a00",
              "version_minor": 0,
              "version_major": 2
            },
            "text/plain": [
              "  0%|          | 0/6 [00:00<?, ?it/s]"
            ]
          },
          "metadata": {}
        }
      ]
    },
    {
      "cell_type": "code",
      "metadata": {
        "colab": {
          "base_uri": "https://localhost:8080/",
          "height": 283
        },
        "id": "CiK1cdyEppMM",
        "outputId": "82e95e57-99c8-4a7a-9fa9-8e2d07a244d9"
      },
      "source": [
        "offset = (0,1)\n",
        "fig, ax = plt.subplots()\n",
        "ax.spines['top'].set_visible(False)\n",
        "ax.spines['right'].set_visible(False)\n",
        "\n",
        "for feature in features:\n",
        "  x = n_trains\n",
        "  y = [acc*100 for acc in accs_train_size[feature]]\n",
        "  sns.lineplot(x=x, y=y, label=feature, marker='o', ax=ax)\n",
        "\n",
        "for i in range(len(n_trains)):\n",
        "  max_acc = max([accs_train_size[feature][i] for feature in features])*100\n",
        "\n",
        "  s = f'{max_acc:.1f}%'\n",
        "  ax.text(x=n_trains[i]+offset[0], \n",
        "          y=max_acc+offset[1],\n",
        "          rotation=45,\n",
        "          fontsize=8,\n",
        "          s=s)\n",
        "\n",
        "plt.yticks([70 + 5*x for x in range(5)])\n",
        "plt.ylabel(\"Accuracy (%)\")\n",
        "plt.xticks(n_trains)\n",
        "plt.xlabel(\"Training size (samples)\")\n",
        "plt.legend(loc='lower right')\n",
        "\n",
        "fig.show()"
      ],
      "execution_count": 23,
      "outputs": [
        {
          "output_type": "display_data",
          "data": {
            "image/png": "[encoded data removed]",
            "text/plain": [
              "<Figure size 432x288 with 1 Axes>"
            ]
          },
          "metadata": {
            "needs_background": "light"
          }
        }
      ]
    },
    {
      "cell_type": "markdown",
      "metadata": {
        "id": "9uXachaM0l06"
      },
      "source": [
        "#### Different embedding sizes"
      ]
    },
    {
      "cell_type": "code",
      "metadata": {
        "id": "aTVF9JdRNOsx",
        "colab": {
          "base_uri": "https://localhost:8080/",
          "height": 49,
          "referenced_widgets": [
            "333a802729654e5391752c311407b961",
            "624bd0ec725b4542b9b83cf4a1b98f12",
            "583cf0f6a8354383a4fec4637216e9bb",
            "aed2c4ac741149fabc0f73eec6afbf21",
            "c9da67b56602495699f3e96278d04482",
            "e0ec6342745e4a61b787b3eae3a5aa8a",
            "8491c0a7d6e4445ab1e86b97270eae4c",
            "9281e9019d9e4621a10d4f6e5ddd26b3",
            "60684af8d32d4a6a852a339099dea609",
            "a221e2eb5659433a9934cbe76efd0691",
            "bd463f0dfb1e4c28a17a11fda4d26a0c"
          ]
        },
        "outputId": "da563184-1aa9-42ee-b408-ecb807dc2c97"
      },
      "source": [
        "# Different embedding sizes\n",
        "n_train = 3000\n",
        "embed_sizes = [100*i for i in range(1,11)]\n",
        "model = LogisticRegression()\n",
        "accs_embed_size = {'word'  : [],\n",
        "                   'lsa'   : [],\n",
        "                  'combo' : []\n",
        "                  }\n",
        "\n",
        "features = ['word', 'lsa', 'combo']\n",
        "featurizers = [word_featurizer, lsa_featurizer, combo_featurizer]\n",
        "\n",
        "for embed_size in tqdm(embed_sizes):\n",
        "  reps = learn_reps_lsa(td_matrix, embed_size, tf_weight='term frequency', tf_idf=True)\n",
        "\n",
        "  for feature,featurizer in zip(features,featurizers):\n",
        "    if feature == 'word':\n",
        "      accs_embed_size[feature].append(training_experiment(feature, n_train, model, featurizer, verbose=False))\n",
        "    else:\n",
        "      accs_embed_size[feature].append(\n",
        "          training_experiment(feature, n_train, model, featurizer, \n",
        "                              featurizer_args=[reps], \n",
        "                              featurizer_kwargs={'idf_weighting' : True}, \n",
        "                              verbose=False))"
      ],
      "execution_count": 24,
      "outputs": [
        {
          "output_type": "display_data",
          "data": {
            "application/vnd.jupyter.widget-view+json": {
              "model_id": "333a802729654e5391752c311407b961",
              "version_minor": 0,
              "version_major": 2
            },
            "text/plain": [
              "  0%|          | 0/10 [00:00<?, ?it/s]"
            ]
          },
          "metadata": {}
        }
      ]
    },
    {
      "cell_type": "code",
      "metadata": {
        "id": "JNcvPN4tmdOl",
        "colab": {
          "base_uri": "https://localhost:8080/",
          "height": 283
        },
        "outputId": "09f93232-5bc4-4afb-bc8d-269c2fc6f272"
      },
      "source": [
        "offset = (0,0.5)\n",
        "fig, ax = plt.subplots()\n",
        "ax.spines['top'].set_visible(False)\n",
        "ax.spines['right'].set_visible(False)\n",
        "\n",
        "for feature in features:\n",
        "  x = embed_sizes\n",
        "  y = [acc*100 for acc in accs_embed_size[feature]]\n",
        "  sns.lineplot(x=x, y=y, label=feature, marker='o', ax=ax)\n",
        "\n",
        "for i in range(len(embed_sizes)):\n",
        "  max_acc = max([accs_embed_size[feature][i] for feature in features])*100\n",
        "\n",
        "  s = f'{max_acc:.1f}%'\n",
        "  ax.text(x=embed_sizes[i]+offset[0], \n",
        "          y=max_acc+offset[1],\n",
        "          rotation=45,\n",
        "          fontsize=8,\n",
        "          s=s)\n",
        "\n",
        "plt.yticks([75 + 5*x for x in range(4)])\n",
        "plt.ylabel(\"Accuracy (%)\")\n",
        "plt.xticks(embed_sizes)\n",
        "plt.xlabel(\"Embedding size (dimensions)\")\n",
        "plt.legend(loc='lower right')\n",
        "\n",
        "fig.show()"
      ],
      "execution_count": 25,
      "outputs": [
        {
          "output_type": "display_data",
          "data": {
            "image/png": "[encoded data removed]",
            "text/plain": [
              "<Figure size 432x288 with 1 Axes>"
            ]
          },
          "metadata": {
            "needs_background": "light"
          }
        }
      ]
    },
    {
      "cell_type": "markdown",
      "metadata": {
        "id": "KGgEOFpF0pBa"
      },
      "source": [
        "### Different classifiers"
      ]
    },
    {
      "cell_type": "code",
      "metadata": {
        "colab": {
          "base_uri": "https://localhost:8080/",
          "height": 171
        },
        "id": "ejoV12RT1fbm",
        "outputId": "bd097f0b-f0d2-43d1-a8f5-56728c0753e2"
      },
      "source": [
        "# Different classifiers\n",
        "n_train = 3000\n",
        "embed_size = 500\n",
        "models = [LogisticRegression(random_state=0), RandomForestClassifier(random_state=0), LinearSVC(random_state=0), \n",
        "          MLPClassifier(random_state=0), QuadraticDiscriminantAnalysis(), \n",
        "          KNeighborsClassifier(n_neighbors=3),KNeighborsClassifier(n_neighbors=5)]\n",
        "model_names = ['Logit', 'Random Forest', 'SVM', 'MLP', 'QDA', '3-NN', '5-NN']\n",
        "\n",
        "accs_classifiers = {'word'  : [],\n",
        "                    'lsa'   : [],\n",
        "                    'combo' : []\n",
        "                  }\n",
        "\n",
        "features = ['word', 'lsa', 'combo']\n",
        "featurizers = [word_featurizer, lsa_featurizer, combo_featurizer]\n",
        "\n",
        "reps = learn_reps_lsa(td_matrix, embed_size, tf_weight='term frequency', tf_idf=True)\n",
        "\n",
        "for model in tqdm(models):\n",
        "  for feature,featurizer in zip(features,featurizers):\n",
        "    if feature == 'word':\n",
        "      accs_classifiers[feature].append(training_experiment(feature, n_train, model, featurizer, verbose=False))\n",
        "    else:\n",
        "      accs_classifiers[feature].append(\n",
        "          training_experiment(feature, n_train, model, featurizer, \n",
        "                              featurizer_args=[reps], \n",
        "                              featurizer_kwargs={'idf_weighting' : True}, \n",
        "                              verbose=False))"
      ],
      "execution_count": 26,
      "outputs": [
        {
          "output_type": "display_data",
          "data": {
            "application/vnd.jupyter.widget-view+json": {
              "model_id": "4f13c130438e4c0d94bcef4535d242bb",
              "version_minor": 0,
              "version_major": 2
            },
            "text/plain": [
              "  0%|          | 0/7 [00:00<?, ?it/s]"
            ]
          },
          "metadata": {}
        },
        {
          "output_type": "stream",
          "name": "stderr",
          "text": [
            "/usr/local/lib/python3.7/dist-packages/sklearn/neural_network/_multilayer_perceptron.py:571: ConvergenceWarning: Stochastic Optimizer: Maximum iterations (200) reached and the optimization hasn't converged yet.\n",
            "  % self.max_iter, ConvergenceWarning)\n",
            "/usr/local/lib/python3.7/dist-packages/sklearn/discriminant_analysis.py:691: UserWarning: Variables are collinear\n",
            "  warnings.warn(\"Variables are collinear\")\n",
            "/usr/local/lib/python3.7/dist-packages/sklearn/discriminant_analysis.py:691: UserWarning: Variables are collinear\n",
            "  warnings.warn(\"Variables are collinear\")\n"
          ]
        }
      ]
    },
    {
      "cell_type": "code",
      "metadata": {
        "colab": {
          "base_uri": "https://localhost:8080/",
          "height": 333
        },
        "id": "-Rgclw8O332Q",
        "outputId": "1f8eca69-34c2-4715-c139-a8203c1aa2fc"
      },
      "source": [
        "offset = (0,1.5)\n",
        "fig, ax = plt.subplots()\n",
        "ax.spines['top'].set_visible(False)\n",
        "ax.spines['right'].set_visible(False)\n",
        "\n",
        "for feature in features:\n",
        "  x = model_names\n",
        "  y = [acc*100 for acc in accs_classifiers[feature]]\n",
        "  sns.lineplot(x=x, y=y, label=feature, marker='o', ax=ax)\n",
        "\n",
        "for i in range(len(model_names)):\n",
        "  max_acc = max([accs_classifiers[feature][i] for feature in features])*100\n",
        "\n",
        "  s = f'{max_acc:.1f}%'\n",
        "  ax.text(x=i+offset[0], \n",
        "          y=max_acc+offset[1],\n",
        "          rotation=45,\n",
        "          fontsize=8,\n",
        "          s=s)\n",
        "\n",
        "plt.yticks([55 + 5*x for x in range(8)])\n",
        "plt.ylabel(\"Accuracy (%)\")\n",
        "plt.xticks(np.arange(len(model_names)), model_names, rotation=-45, rotation_mode='anchor', horizontalalignment=\"left\")\n",
        "plt.xlabel(\"Model\")\n",
        "plt.legend(loc='upper right')\n",
        "\n",
        "fig.show()"
      ],
      "execution_count": 27,
      "outputs": [
        {
          "output_type": "display_data",
          "data": {
            "image/png": "[encoded data removed]",
            "text/plain": [
              "<Figure size 432x288 with 1 Axes>"
            ]
          },
          "metadata": {
            "needs_background": "light"
          }
        }
      ]
    },
    {
      "cell_type": "markdown",
      "metadata": {
        "id": "0a7UxMFwtDdY"
      },
      "source": [
        "### Best classifier with different weighting"
      ]
    },
    {
      "cell_type": "code",
      "metadata": {
        "colab": {
          "base_uri": "https://localhost:8080/",
          "height": 49,
          "referenced_widgets": [
            "5fcca9574aac4a10ba5218e321e2dff5",
            "4608912f960341e4bb56e2fb7088816b",
            "bebd19df7bcb4646844065b1f020b9fe",
            "118005f852fc4f93a63a82b881d38139",
            "f9dcf9b49445470e83a1a0332e50bea8",
            "a96c571c03c84a46a7129c43490d88e4",
            "8a675bc172a847f1859351fd38038b65",
            "89880a0c0a4f4974bb9596d9bfc8d375",
            "2e21438873184521b2c65e8ae080bb40",
            "f759371caaee418f81a021798306a21d",
            "b5d49b7251774e75864c30a719ad4af8"
          ]
        },
        "id": "49hXEcqDtKc_",
        "outputId": "88fbe73b-8483-4ac2-8700-28d74483f67d"
      },
      "source": [
        "# Different embedding sizes\n",
        "n_train = 3000\n",
        "embed_size = 500\n",
        "model = LogisticRegression()\n",
        "accs_weights = {'word'  : [],\n",
        "        'lsa'   : [],\n",
        "        'combo' : []\n",
        "        }\n",
        "\n",
        "tf_weights = ['raw', 'term frequency', 'log normalization', \n",
        "              'double-0.25', 'double-0.5', 'double-0.75']\n",
        "\n",
        "features = ['word', 'lsa', 'combo']\n",
        "featurizers = [word_featurizer, lsa_featurizer, combo_featurizer]\n",
        "\n",
        "for tf_weight in tqdm(tf_weights):\n",
        "  reps = learn_reps_lsa(td_matrix, embed_size, tf_weight=tf_weight, tf_idf=True)\n",
        "\n",
        "  for feature,featurizer in zip(features,featurizers):\n",
        "    if feature == 'word':\n",
        "      accs_weights[feature].append(training_experiment(feature, n_train, model, featurizer, verbose=False))\n",
        "    else:\n",
        "      accs_weights[feature].append(\n",
        "          training_experiment(feature, n_train, model, featurizer, \n",
        "                              featurizer_args=[reps], \n",
        "                              featurizer_kwargs={'idf_weighting' : True}, \n",
        "                              verbose=False))"
      ],
      "execution_count": 28,
      "outputs": [
        {
          "output_type": "display_data",
          "data": {
            "application/vnd.jupyter.widget-view+json": {
              "model_id": "5fcca9574aac4a10ba5218e321e2dff5",
              "version_minor": 0,
              "version_major": 2
            },
            "text/plain": [
              "  0%|          | 0/6 [00:00<?, ?it/s]"
            ]
          },
          "metadata": {}
        }
      ]
    },
    {
      "cell_type": "code",
      "metadata": {
        "colab": {
          "base_uri": "https://localhost:8080/",
          "height": 342
        },
        "id": "mh6Cupdiugq3",
        "outputId": "7703e416-a20f-491d-80f4-dd214b3918d0"
      },
      "source": [
        "offset = (0,1)\n",
        "fig, ax = plt.subplots()\n",
        "ax.spines['top'].set_visible(False)\n",
        "ax.spines['right'].set_visible(False)\n",
        "\n",
        "for feature in features:\n",
        "  x = tf_weights\n",
        "  y = [acc*100 for acc in accs_weights[feature]]\n",
        "  sns.lineplot(x=x, y=y, label=feature, marker='o', ax=ax)\n",
        "\n",
        "for i in range(len(tf_weights)):\n",
        "  max_acc = max([accs_weights[feature][i] for feature in features])*100\n",
        "\n",
        "  s = f'{max_acc:.1f}%'\n",
        "  ax.text(x=i+offset[0], \n",
        "          y=max_acc+offset[1],\n",
        "          rotation=45,\n",
        "          fontsize=8,\n",
        "          s=s)\n",
        "\n",
        "plt.yticks([50 + 5*x for x in range(9)])\n",
        "plt.ylabel(\"Accuracy (%)\")\n",
        "plt.xticks(np.arange(len(tf_weights)), tf_weights, rotation=-45, rotation_mode='anchor', horizontalalignment=\"left\")\n",
        "plt.xlabel(\"Model\")\n",
        "plt.legend(loc='center right')\n",
        "\n",
        "fig.show()"
      ],
      "execution_count": 29,
      "outputs": [
        {
          "output_type": "display_data",
          "data": {
            "image/png": "[encoded data removed]",
            "text/plain": [
              "<Figure size 432x288 with 1 Axes>"
            ]
          },
          "metadata": {
            "needs_background": "light"
          }
        }
      ]
    },
    {
      "cell_type": "markdown",
      "metadata": {
        "id": "AxfunCYh5nmZ"
      },
      "source": [
        "# Part 2: word representations via language modeling\n",
        "\n",
        "In this section, we'll train a word embedding model with a word2vec-style objective rather than a matrix factorization objective. This requires a little more work; we've provided scaffolding for a PyTorch model implementation below.\n",
        "If you don't have much PyTorch experience, there are some tutorials [here](https://pytorch.org/tutorials/) which may be useful. You're also welcome to implement these experiments in any other framework of your choosing (note that we won't be able to provide debugging support if you use a different framework)."
      ]
    },
    {
      "cell_type": "code",
      "metadata": {
        "id": "M1napibQ6aub"
      },
      "source": [
        "import torch\n",
        "import torch.nn as nn\n",
        "import torch.nn.functional as F\n",
        "import torch.optim as optim\n",
        "import torch.utils.data as torch_data\n",
        "\n",
        "class Word2VecModel(nn.Module):\n",
        "    # A torch module implementing a word2vec predictor. The `forward` function\n",
        "    # should take a batch of context word ids as input and predict the word \n",
        "    # in the middle of the context as output, as in the CBOW model from lecture.\n",
        "    # Hint: look at how padding is handled in lab_util.get_ngrams when\n",
        "    # initializing `ctx`: vocab_size is used as the padding token for contexts\n",
        "    # near the beginning and end of sequences. If you use an embedding module\n",
        "    # in your Word2Vec implementation, make sure to account for this extra\n",
        "    # padding token, and account for it with the `padding_idx` kwarg.\n",
        "\n",
        "    def __init__(self, vocab_size, embed_dim):\n",
        "        super().__init__()\n",
        "\n",
        "        self.embed_dim = embed_dim\n",
        "        self.vocab_size = vocab_size\n",
        "        self.input_embed = nn.Embedding(vocab_size+1,embed_dim,padding_idx=vocab_size)\n",
        "        self.output_embed = nn.Embedding(vocab_size+1,embed_dim,padding_idx=vocab_size)\n",
        "\n",
        "    def forward(self, context):\n",
        "        # Context is an `n_batch x n_context` matrix of integer word ids\n",
        "        # this function should return an `n_batch x vocab_size` matrix with\n",
        "        # element i, j being the (possibly log) probability of the middle word\n",
        "        # in context i being word j.\n",
        "        \n",
        "        # Embed context using output embedding matrix\n",
        "        embed_context = self.input_embed(context)\n",
        "\n",
        "        # Project embedded context using average\n",
        "        proj_context = torch.mean(embed_context, 1)\n",
        "\n",
        "        # Obtain probability\n",
        "        prob = torch.matmul(proj_context,self.output_embed.weight.t())[:,:-1]\n",
        "\n",
        "        # Return log prob\n",
        "        return F.log_softmax(prob,dim=1)"
      ],
      "execution_count": 30,
      "outputs": []
    },
    {
      "cell_type": "code",
      "metadata": {
        "id": "ePgZlityuWr3"
      },
      "source": [
        "def learn_reps_word2vec(corpus, window_size, rep_size, n_epochs, n_batch, device='cuda', embedding_type='input', verbose=True):\n",
        "    # This method takes in a corpus of training sentences. It returns a matrix\n",
        "    # of word embeddings with the same structure as used in the previous section \n",
        "    # of the assignment. (You can extract this matrix from the parameters of the \n",
        "    # Word2VecModel.)\n",
        "\n",
        "    tokenizer = lab_util.Tokenizer()\n",
        "    tokenizer.fit(corpus)\n",
        "    tokenized_corpus = tokenizer.tokenize(corpus)\n",
        "\n",
        "    ngrams = lab_util.get_ngrams(tokenized_corpus, window_size, pad_idx=tokenizer.vocab_size)\n",
        "\n",
        "    model = Word2VecModel(tokenizer.vocab_size, rep_size).to(device)\n",
        "    opt = optim.Adam(model.parameters(), lr=0.001)\n",
        "\n",
        "    loader = torch_data.DataLoader(ngrams, batch_size=n_batch, shuffle=True)\n",
        "\n",
        "    # Use the Negative Log Likelihood loss\n",
        "    loss_fn = nn.NLLLoss(reduction='sum')\n",
        "\n",
        "    losses = []  # Potentially useful for debugging (loss should go down!)\n",
        "    for epoch in tqdm(range(n_epochs)):\n",
        "        epoch_loss = 0\n",
        "        for context, label in loader:\n",
        "          context = context.to(device)\n",
        "          label = label.to(device)\n",
        "\n",
        "          # As described above, `context` is a batch of context word ids, and\n",
        "          # `label` is a batch of predicted word labels.\n",
        "\n",
        "          # Obtain predictions (log-probabilities) using forward of model\n",
        "          preds = model(context)\n",
        "\n",
        "          # Now finish the backward pass and gradient update.\n",
        "          # Remember, you need to compute the loss, zero the gradients\n",
        "          # of the model parameters, perform the backward pass, and\n",
        "          # update the model parameters.\n",
        "          loss = loss_fn(preds,label)\n",
        "          loss.backward()          \n",
        "          opt.step()\n",
        "          opt.zero_grad()\n",
        "\n",
        "          epoch_loss += loss.item()\n",
        "\n",
        "        \n",
        "        if verbose:\n",
        "          print(f\"Loss in epoch {epoch+1}\" + \" \"*(epoch<n_epochs-1) + f\": {epoch_loss:.2f}\")\n",
        "\n",
        "        losses.append(epoch_loss)\n",
        "\n",
        "    # Hint: you want to return a `vocab_size x embedding_size` numpy array\n",
        "    # Return embedding matrix\n",
        "    input_embedding_matrix = model.input_embed.weight.data[:-1,:].cpu().numpy()\n",
        "    output_embedding_matrix = model.output_embed.weight.data[:-1,:].cpu().numpy()\n",
        "\n",
        "    if embedding_type == 'input':\n",
        "      return input_embedding_matrix\n",
        "\n",
        "    elif embedding_type == 'output':\n",
        "      return output_embedding_matrix \n",
        "\n",
        "    elif embedding_type == 'combo':\n",
        "      return 1/2 * (input_embedding_matrix + output_embedding_matrix)"
      ],
      "execution_count": 31,
      "outputs": []
    },
    {
      "cell_type": "code",
      "metadata": {
        "id": "aaUy1cNuB3W1",
        "colab": {
          "base_uri": "https://localhost:8080/",
          "height": 389
        },
        "outputId": "73182310-5d59-4caa-8ca9-d6ef8f6a8574"
      },
      "source": [
        "torch.manual_seed(0)\n",
        "\n",
        "# Parameters\n",
        "window_size = 2\n",
        "rep_size    = 500\n",
        "n_epochs    = 20\n",
        "n_batch     = 100\n",
        "device      = 'cuda'\n",
        "\n",
        "# Representations\n",
        "reps_word2vec = learn_reps_word2vec(train_reviews, window_size, rep_size, n_epochs, n_batch, embedding_type='combo', device=device)"
      ],
      "execution_count": 32,
      "outputs": [
        {
          "output_type": "display_data",
          "data": {
            "application/vnd.jupyter.widget-view+json": {
              "model_id": "83c3cf950d354ef69f1d1a30040e4a1f",
              "version_minor": 0,
              "version_major": 2
            },
            "text/plain": [
              "  0%|          | 0/20 [00:00<?, ?it/s]"
            ]
          },
          "metadata": {}
        },
        {
          "output_type": "stream",
          "name": "stdout",
          "text": [
            "Loss in epoch 1 : 5396952.41\n",
            "Loss in epoch 2 : 2774056.12\n",
            "Loss in epoch 3 : 2031070.42\n",
            "Loss in epoch 4 : 1677616.29\n",
            "Loss in epoch 5 : 1469701.29\n",
            "Loss in epoch 6 : 1332792.02\n",
            "Loss in epoch 7 : 1234739.39\n",
            "Loss in epoch 8 : 1162346.26\n",
            "Loss in epoch 9 : 1105968.33\n",
            "Loss in epoch 10 : 1061448.84\n",
            "Loss in epoch 11 : 1025744.45\n",
            "Loss in epoch 12 : 996659.37\n",
            "Loss in epoch 13 : 972755.66\n",
            "Loss in epoch 14 : 952759.69\n",
            "Loss in epoch 15 : 936306.21\n",
            "Loss in epoch 16 : 922620.30\n",
            "Loss in epoch 17 : 910782.37\n",
            "Loss in epoch 18 : 900763.09\n",
            "Loss in epoch 19 : 892281.07\n",
            "Loss in epoch 20: 885235.94\n"
          ]
        }
      ]
    },
    {
      "cell_type": "markdown",
      "metadata": {
        "id": "O3oE-tpR7I39"
      },
      "source": [
        "After training the embeddings, we can try to visualize the embedding space to see if it makes sense. First, we can take any word in the space and check its closest neighbors."
      ]
    },
    {
      "cell_type": "code",
      "metadata": {
        "id": "yMW4QND56bHF",
        "colab": {
          "base_uri": "https://localhost:8080/"
        },
        "outputId": "9afb254e-408c-4b05-b0bc-70b28845aaca"
      },
      "source": [
        "words = [\"good\", \"bad\", \"cookie\", \"jelly\", \"dog\", \"the\", \"3\"]\n",
        "show_tokens = [vectorizer.tokenizer.word_to_token[word] for word in words]\n",
        "lab_util.show_similar_words(vectorizer.tokenizer, reps_word2vec, show_tokens)"
      ],
      "execution_count": 33,
      "outputs": [
        {
          "output_type": "stream",
          "name": "stdout",
          "text": [
            "good 47\n",
            "  recommended 1.649\n",
            "  tasting 1.661\n",
            "  need 1.691\n",
            "  looked 1.720\n",
            "  at 1.726\n",
            "bad 201\n",
            "  luck 1.617\n",
            "  wasn't 1.683\n",
            "  barely 1.697\n",
            "  certainly 1.720\n",
            "  for 1.721\n",
            "cookie 504\n",
            "  gave 1.660\n",
            "  shape 1.663\n",
            "  dough 1.688\n",
            "  bars 1.691\n",
            "  nana's 1.703\n",
            "jelly 351\n",
            "  regular 1.579\n",
            "  gummy 1.603\n",
            "  milder 1.645\n",
            "  jars 1.698\n",
            "  mostly 1.708\n",
            "dog 925\n",
            "  blend 1.690\n",
            "  cat 1.694\n",
            "  healthier 1.700\n",
            "  stomach 1.714\n",
            "  again 1.721\n",
            "the 36\n",
            "  case 1.657\n",
            "  . 1.694\n",
            "  br 1.705\n",
            "  2 1.715\n",
            "  which 1.715\n",
            "3 289\n",
            "  boxes 1.626\n",
            "  carton 1.652\n",
            "  1 1.654\n",
            "  6 1.666\n",
            "  20 1.686\n"
          ]
        }
      ]
    },
    {
      "cell_type": "markdown",
      "metadata": {
        "id": "ue-9CPSc7fi9"
      },
      "source": [
        "We can also cluster the embedding space. Clustering in 4 or more dimensions is hard to visualize, and even clustering in 2 or 3 can be difficult because there are so many words in the vocabulary. One thing we can try to do is assign cluster labels and qualitiatively look for an underlying pattern in the clusters."
      ]
    },
    {
      "cell_type": "code",
      "metadata": {
        "id": "v-Yf6NMCXVx4",
        "colab": {
          "base_uri": "https://localhost:8080/"
        },
        "outputId": "34e212f7-7706-4444-b5cc-49e7561ce53f"
      },
      "source": [
        "from sklearn.cluster import KMeans\n",
        "\n",
        "indices = KMeans(n_clusters=10).fit_predict(reps_word2vec)\n",
        "zipped = list(zip(range(vectorizer.tokenizer.vocab_size), indices))\n",
        "np.random.shuffle(zipped)\n",
        "zipped = zipped[:100]\n",
        "zipped = sorted(zipped, key=lambda x: x[1], reverse=True)\n",
        "for token, cluster_idx in zipped:\n",
        "    word = vectorizer.tokenizer.token_to_word[token]\n",
        "    print(f\"{word}: {cluster_idx}\")"
      ],
      "execution_count": 34,
      "outputs": [
        {
          "output_type": "stream",
          "name": "stdout",
          "text": [
            "solid: 9\n",
            "might: 8\n",
            "orange: 8\n",
            "best: 8\n",
            "cup: 8\n",
            "smell: 8\n",
            "cheese: 8\n",
            "every: 8\n",
            "picky: 8\n",
            "tasting: 8\n",
            "milk: 8\n",
            "subtle: 8\n",
            "lower: 7\n",
            "paste: 7\n",
            "finish: 7\n",
            "unlike: 7\n",
            "cocoa: 7\n",
            "write: 7\n",
            "dirty: 7\n",
            "across: 7\n",
            "throw: 7\n",
            "considering: 7\n",
            "school: 7\n",
            "kernels: 6\n",
            "earlier: 6\n",
            "equivalent: 6\n",
            "acerola: 6\n",
            "walk: 6\n",
            "energy: 6\n",
            "high: 6\n",
            "disposable: 6\n",
            "shared: 6\n",
            "barely: 6\n",
            "spent: 6\n",
            "edible: 6\n",
            "star: 6\n",
            "weeks: 6\n",
            "p: 6\n",
            "subscription: 6\n",
            "amazon's: 6\n",
            "roasted: 6\n",
            "therefore: 6\n",
            "peach: 6\n",
            "thin: 5\n",
            "babies: 5\n",
            "arrive: 5\n",
            "iron: 5\n",
            "soy: 5\n",
            "type: 5\n",
            "count: 5\n",
            "hopes: 5\n",
            "weather: 5\n",
            "send: 5\n",
            "vomiting: 5\n",
            "sticky: 4\n",
            "mess: 4\n",
            "drank: 4\n",
            "aren't: 4\n",
            "somewhere: 4\n",
            "area: 4\n",
            "start: 4\n",
            "boost: 4\n",
            "opening: 4\n",
            "rica: 4\n",
            "breath: 4\n",
            "learned: 4\n",
            "thus: 4\n",
            "who: 4\n",
            "baking: 3\n",
            "smells: 3\n",
            "carries: 3\n",
            "spots: 3\n",
            "appeal: 3\n",
            "servings: 3\n",
            "interested: 3\n",
            "liked: 2\n",
            "carry: 2\n",
            "sale: 2\n",
            "tossed: 2\n",
            "crunch: 2\n",
            "got: 2\n",
            "others: 2\n",
            "chew: 2\n",
            "hit: 2\n",
            "ordering: 2\n",
            "stuck: 2\n",
            "also: 2\n",
            "idea: 2\n",
            "seller: 2\n",
            "where: 2\n",
            "keep: 2\n",
            "instead: 2\n",
            "fit: 2\n",
            "immediately: 2\n",
            "several: 2\n",
            "favorite: 2\n",
            "switch: 2\n",
            "thrown: 1\n",
            "results: 1\n",
            "works: 1\n"
          ]
        }
      ]
    },
    {
      "cell_type": "markdown",
      "metadata": {
        "id": "ci1TkENU78Wn"
      },
      "source": [
        "Finally, we can use the trained word embeddings to construct vector representations of full reviews. One common approach is to simply average all the word embeddings in the review to create an overall embedding. Implement the transform function in Word2VecFeaturizer to do this."
      ]
    },
    {
      "cell_type": "code",
      "metadata": {
        "id": "A5vjmRV6Dgbu",
        "colab": {
          "base_uri": "https://localhost:8080/"
        },
        "outputId": "8125bfa6-44e4-4b87-8131-9679e9c5dbe5"
      },
      "source": [
        "def w2v_featurizer(xs, reps, idf_weighting = False):\n",
        "    # This function takes in a matrix in which each row contains the word counts\n",
        "    # for the given review. It should return a matrix in which each row contains\n",
        "    # the average Word2Vec embedding of each review (hint: this will be very\n",
        "    # similar to `lsa_featurizer` from above, just using Word2Vec embeddings \n",
        "    # instead of LSA).\n",
        "\n",
        "    feats = np.zeros((xs.shape[0],reps.shape[1]))\n",
        "\n",
        "    if idf_weighting:\n",
        "      idf = idf_matrix(xs.T, 'idf')\n",
        "    else:\n",
        "      idf = np.ones_like(feats[0,:])\n",
        "\n",
        "    for i in range(xs.shape[0]):\n",
        "      doc_wordCount = (xs[i,:] > 0).T.reshape((-1,1))\n",
        "      feats[i,:] = np.sum(doc_wordCount * idf * reps,axis=0, keepdims=True)\n",
        "\n",
        "    # normalize\n",
        "    return feats / np.sqrt((feats ** 2).sum(axis=1, keepdims=True))\n",
        "\n",
        "training_experiment('word2vec', 3000, LogisticRegression(), w2v_featurizer, featurizer_args=[reps_word2vec], verbose=True)\n",
        "print()"
      ],
      "execution_count": 35,
      "outputs": [
        {
          "output_type": "stream",
          "name": "stdout",
          "text": [
            "word2vec features, 3000 examples\n",
            "Accuracy is 80.40%\n",
            "\n",
            "\n"
          ]
        }
      ]
    },
    {
      "cell_type": "markdown",
      "metadata": {
        "id": "XSfoQbxaXtfH"
      },
      "source": [
        "**Part 2: Lab writeup**\n",
        "\n",
        "Part 2 of your lab report should discuss any implementation details that were important to filling out the code above, as well as your answers to the questions in Part 2 of the Homework 2 handout. Below, you can set up and perform experiments that answer these questions (include figures, plots, and tables in your write-up as you see fit)."
      ]
    },
    {
      "cell_type": "markdown",
      "metadata": {
        "id": "Beb7dgqWycYx"
      },
      "source": [
        "## Experiments for Part 2"
      ]
    },
    {
      "cell_type": "markdown",
      "metadata": {
        "id": "J2DFSxjlAscu"
      },
      "source": [
        "### Different context sizes"
      ]
    },
    {
      "cell_type": "code",
      "metadata": {
        "colab": {
          "base_uri": "https://localhost:8080/",
          "height": 177
        },
        "id": "SomB19-yAq8s",
        "outputId": "5a47b662-1c79-4eef-df80-fe111298fceb"
      },
      "source": [
        "torch.manual_seed(0)\n",
        "\n",
        "# Parameters for W2V\n",
        "window_sizes = [2*x for x in range(1,6)]\n",
        "rep_size    = 500\n",
        "n_epochs    = 20\n",
        "n_batch     = 100\n",
        "device      = 'cuda'\n",
        "embedding_type = 'combo'\n",
        "\n",
        "# Parameters for classification\n",
        "n_train = 3000\n",
        "model = LogisticRegression()\n",
        "featurizer = w2v_featurizer\n",
        "\n",
        "# Initialize accuracy and representation lists\n",
        "accs_word2vec_window_size = []\n",
        "reps_word2vec_window_size = []\n",
        "\n",
        "for window_size in window_sizes:\n",
        "  reps_word2vec_window_size.append(learn_reps_word2vec(train_reviews, window_size, rep_size, \n",
        "                                      n_epochs, n_batch, embedding_type=embedding_type, \n",
        "                                      device=device, verbose=False))\n",
        "\n",
        "  accs_word2vec_window_size.append(\n",
        "      training_experiment('word2vec', n_train, model, featurizer, \n",
        "                          featurizer_args=[reps_word2vec_window_size[-1]],\n",
        "                          featurizer_kwargs={'idf_weighting':True}, \n",
        "                          verbose=False))"
      ],
      "execution_count": 36,
      "outputs": [
        {
          "output_type": "display_data",
          "data": {
            "application/vnd.jupyter.widget-view+json": {
              "model_id": "51a180f821ed40cfbd8ff3f659072928",
              "version_minor": 0,
              "version_major": 2
            },
            "text/plain": [
              "  0%|          | 0/20 [00:00<?, ?it/s]"
            ]
          },
          "metadata": {}
        },
        {
          "output_type": "display_data",
          "data": {
            "application/vnd.jupyter.widget-view+json": {
              "model_id": "ff551d0a9c4b4592a18aa67e7ec6473e",
              "version_minor": 0,
              "version_major": 2
            },
            "text/plain": [
              "  0%|          | 0/20 [00:00<?, ?it/s]"
            ]
          },
          "metadata": {}
        },
        {
          "output_type": "display_data",
          "data": {
            "application/vnd.jupyter.widget-view+json": {
              "model_id": "9d2f6ac3accd4054844df6daefa4d126",
              "version_minor": 0,
              "version_major": 2
            },
            "text/plain": [
              "  0%|          | 0/20 [00:00<?, ?it/s]"
            ]
          },
          "metadata": {}
        },
        {
          "output_type": "display_data",
          "data": {
            "application/vnd.jupyter.widget-view+json": {
              "model_id": "205d1e85145442ea9ffc04f4139f31fa",
              "version_minor": 0,
              "version_major": 2
            },
            "text/plain": [
              "  0%|          | 0/20 [00:00<?, ?it/s]"
            ]
          },
          "metadata": {}
        },
        {
          "output_type": "display_data",
          "data": {
            "application/vnd.jupyter.widget-view+json": {
              "model_id": "f09d5298d985484588c1f16a58a98083",
              "version_minor": 0,
              "version_major": 2
            },
            "text/plain": [
              "  0%|          | 0/20 [00:00<?, ?it/s]"
            ]
          },
          "metadata": {}
        }
      ]
    },
    {
      "cell_type": "code",
      "metadata": {
        "colab": {
          "base_uri": "https://localhost:8080/",
          "height": 283
        },
        "id": "a2ivYxPZBXAA",
        "outputId": "ddba2231-5162-4c39-ab60-163b5d1638aa"
      },
      "source": [
        "offset = (0,1)\n",
        "fig, ax = plt.subplots()\n",
        "ax.spines['top'].set_visible(False)\n",
        "ax.spines['right'].set_visible(False)\n",
        "\n",
        "x = window_sizes\n",
        "y = [acc*100 for acc in accs_word2vec_window_size]\n",
        "sns.lineplot(x=x, y=y, marker='o', ax=ax)\n",
        "\n",
        "for i in range(len(accs_word2vec_window_size)):\n",
        "  s = f'{y[i]:.1f}%'\n",
        "  ax.text(x=x[i]+offset[0], \n",
        "          y=y[i]+offset[1],\n",
        "          rotation=45,\n",
        "          fontsize=8,\n",
        "          s=s)\n",
        "\n",
        "plt.yticks([65 + 5*x for x in range(6)])\n",
        "plt.ylabel(\"Accuracy (%)\")\n",
        "plt.xticks(2*window_sizes)\n",
        "plt.xlabel(\"Context size (one sided)\")\n",
        "\n",
        "fig.show()"
      ],
      "execution_count": 37,
      "outputs": [
        {
          "output_type": "display_data",
          "data": {
            "image/png": "[encoded data removed]",
            "text/plain": [
              "<Figure size 432x288 with 1 Axes>"
            ]
          },
          "metadata": {
            "needs_background": "light"
          }
        }
      ]
    },
    {
      "cell_type": "markdown",
      "metadata": {
        "id": "67knU2475Iaq"
      },
      "source": [
        "### Different embedding matrices"
      ]
    },
    {
      "cell_type": "code",
      "metadata": {
        "colab": {
          "base_uri": "https://localhost:8080/",
          "height": 439
        },
        "id": "BaACdr1Y5Khp",
        "outputId": "0da5d267-3af1-4313-d24b-e0e882f4e449"
      },
      "source": [
        "torch.manual_seed(0)\n",
        "\n",
        "# Parameters for W2V\n",
        "window_size = 2\n",
        "rep_size    = 500\n",
        "n_epochs    = 20\n",
        "n_batch     = 100\n",
        "device      = 'cuda'\n",
        "\n",
        "# Parameters for classification\n",
        "n_train = 3000\n",
        "embedding_types = ['input', 'output', 'combo']\n",
        "model = LogisticRegression()\n",
        "featurizer = w2v_featurizer\n",
        "\n",
        "# Initialize accuracy and representation lists\n",
        "accs_word2vec_embed_type = []\n",
        "reps_word2vec_embed_type = []\n",
        "\n",
        "for embedding_type in embedding_types:\n",
        "  reps_word2vec_embed_type.append(learn_reps_word2vec(train_reviews, window_size, rep_size, \n",
        "                                      n_epochs, n_batch, embedding_type=embedding_type, \n",
        "                                      device=device, verbose=False))\n",
        "\n",
        "  accs_word2vec_embed_type.append(\n",
        "      training_experiment('word2vec', n_train, model, featurizer, \n",
        "                          featurizer_args=[reps_word2vec_embed_type[-1]], \n",
        "                          featurizer_kwargs={'idf_weighting':True}, \n",
        "                          verbose=False))"
      ],
      "execution_count": 38,
      "outputs": [
        {
          "output_type": "display_data",
          "data": {
            "application/vnd.jupyter.widget-view+json": {
              "model_id": "95517aa0296b410cb4b99ca8191f0b5d",
              "version_minor": 0,
              "version_major": 2
            },
            "text/plain": [
              "  0%|          | 0/20 [00:00<?, ?it/s]"
            ]
          },
          "metadata": {}
        },
        {
          "output_type": "display_data",
          "data": {
            "application/vnd.jupyter.widget-view+json": {
              "model_id": "21fa92b19aea484a8a154c2636c3b9b9",
              "version_minor": 0,
              "version_major": 2
            },
            "text/plain": [
              "  0%|          | 0/20 [00:00<?, ?it/s]"
            ]
          },
          "metadata": {}
        },
        {
          "output_type": "error",
          "ename": "KeyboardInterrupt",
          "evalue": "ignored",
          "traceback": [
            "\u001b[0;31m---------------------------------------------------------------------------\u001b[0m",
            "\u001b[0;31mKeyboardInterrupt\u001b[0m                         Traceback (most recent call last)",
            "\u001b[0;32m<ipython-input-38-f28c76ce7e0f>\u001b[0m in \u001b[0;36m<module>\u001b[0;34m()\u001b[0m\n\u001b[1;32m     21\u001b[0m   reps_word2vec_embed_type.append(learn_reps_word2vec(train_reviews, window_size, rep_size, \n\u001b[1;32m     22\u001b[0m                                       \u001b[0mn_epochs\u001b[0m\u001b[0;34m,\u001b[0m \u001b[0mn_batch\u001b[0m\u001b[0;34m,\u001b[0m \u001b[0membedding_type\u001b[0m\u001b[0;34m=\u001b[0m\u001b[0membedding_type\u001b[0m\u001b[0;34m,\u001b[0m\u001b[0;34m\u001b[0m\u001b[0;34m\u001b[0m\u001b[0m\n\u001b[0;32m---> 23\u001b[0;31m                                       device=device, verbose=False))\n\u001b[0m\u001b[1;32m     24\u001b[0m \u001b[0;34m\u001b[0m\u001b[0m\n\u001b[1;32m     25\u001b[0m   accs_word2vec_embed_type.append(\n",
            "\u001b[0;32m<ipython-input-31-0171a94699e0>\u001b[0m in \u001b[0;36mlearn_reps_word2vec\u001b[0;34m(corpus, window_size, rep_size, n_epochs, n_batch, device, embedding_type, verbose)\u001b[0m\n\u001b[1;32m     30\u001b[0m \u001b[0;34m\u001b[0m\u001b[0m\n\u001b[1;32m     31\u001b[0m           \u001b[0;31m# Obtain predictions (log-probabilities) using forward of model\u001b[0m\u001b[0;34m\u001b[0m\u001b[0;34m\u001b[0m\u001b[0;34m\u001b[0m\u001b[0m\n\u001b[0;32m---> 32\u001b[0;31m           \u001b[0mpreds\u001b[0m \u001b[0;34m=\u001b[0m \u001b[0mmodel\u001b[0m\u001b[0;34m(\u001b[0m\u001b[0mcontext\u001b[0m\u001b[0;34m)\u001b[0m\u001b[0;34m\u001b[0m\u001b[0;34m\u001b[0m\u001b[0m\n\u001b[0m\u001b[1;32m     33\u001b[0m \u001b[0;34m\u001b[0m\u001b[0m\n\u001b[1;32m     34\u001b[0m           \u001b[0;31m# Now finish the backward pass and gradient update.\u001b[0m\u001b[0;34m\u001b[0m\u001b[0;34m\u001b[0m\u001b[0;34m\u001b[0m\u001b[0m\n",
            "\u001b[0;32m/usr/local/lib/python3.7/dist-packages/torch/nn/modules/module.py\u001b[0m in \u001b[0;36m_call_impl\u001b[0;34m(self, *input, **kwargs)\u001b[0m\n\u001b[1;32m   1049\u001b[0m         if not (self._backward_hooks or self._forward_hooks or self._forward_pre_hooks or _global_backward_hooks\n\u001b[1;32m   1050\u001b[0m                 or _global_forward_hooks or _global_forward_pre_hooks):\n\u001b[0;32m-> 1051\u001b[0;31m             \u001b[0;32mreturn\u001b[0m \u001b[0mforward_call\u001b[0m\u001b[0;34m(\u001b[0m\u001b[0;34m*\u001b[0m\u001b[0minput\u001b[0m\u001b[0;34m,\u001b[0m \u001b[0;34m**\u001b[0m\u001b[0mkwargs\u001b[0m\u001b[0;34m)\u001b[0m\u001b[0;34m\u001b[0m\u001b[0;34m\u001b[0m\u001b[0m\n\u001b[0m\u001b[1;32m   1052\u001b[0m         \u001b[0;31m# Do not call functions when jit is used\u001b[0m\u001b[0;34m\u001b[0m\u001b[0;34m\u001b[0m\u001b[0;34m\u001b[0m\u001b[0m\n\u001b[1;32m   1053\u001b[0m         \u001b[0mfull_backward_hooks\u001b[0m\u001b[0;34m,\u001b[0m \u001b[0mnon_full_backward_hooks\u001b[0m \u001b[0;34m=\u001b[0m \u001b[0;34m[\u001b[0m\u001b[0;34m]\u001b[0m\u001b[0;34m,\u001b[0m \u001b[0;34m[\u001b[0m\u001b[0;34m]\u001b[0m\u001b[0;34m\u001b[0m\u001b[0;34m\u001b[0m\u001b[0m\n",
            "\u001b[0;32m<ipython-input-30-7e0d60fe753e>\u001b[0m in \u001b[0;36mforward\u001b[0;34m(self, context)\u001b[0m\n\u001b[1;32m     36\u001b[0m \u001b[0;34m\u001b[0m\u001b[0m\n\u001b[1;32m     37\u001b[0m         \u001b[0;31m# Obtain probability\u001b[0m\u001b[0;34m\u001b[0m\u001b[0;34m\u001b[0m\u001b[0;34m\u001b[0m\u001b[0m\n\u001b[0;32m---> 38\u001b[0;31m         \u001b[0mprob\u001b[0m \u001b[0;34m=\u001b[0m \u001b[0mtorch\u001b[0m\u001b[0;34m.\u001b[0m\u001b[0mmatmul\u001b[0m\u001b[0;34m(\u001b[0m\u001b[0mproj_context\u001b[0m\u001b[0;34m,\u001b[0m\u001b[0mself\u001b[0m\u001b[0;34m.\u001b[0m\u001b[0moutput_embed\u001b[0m\u001b[0;34m.\u001b[0m\u001b[0mweight\u001b[0m\u001b[0;34m.\u001b[0m\u001b[0mt\u001b[0m\u001b[0;34m(\u001b[0m\u001b[0;34m)\u001b[0m\u001b[0;34m)\u001b[0m\u001b[0;34m[\u001b[0m\u001b[0;34m:\u001b[0m\u001b[0;34m,\u001b[0m\u001b[0;34m:\u001b[0m\u001b[0;34m-\u001b[0m\u001b[0;36m1\u001b[0m\u001b[0;34m]\u001b[0m\u001b[0;34m\u001b[0m\u001b[0;34m\u001b[0m\u001b[0m\n\u001b[0m\u001b[1;32m     39\u001b[0m \u001b[0;34m\u001b[0m\u001b[0m\n\u001b[1;32m     40\u001b[0m         \u001b[0;31m# Return log prob\u001b[0m\u001b[0;34m\u001b[0m\u001b[0;34m\u001b[0m\u001b[0;34m\u001b[0m\u001b[0m\n",
            "\u001b[0;31mKeyboardInterrupt\u001b[0m: "
          ]
        }
      ]
    },
    {
      "cell_type": "code",
      "metadata": {
        "id": "3NgCyfhj7r7U"
      },
      "source": [
        "offset = (0,1)\n",
        "fig, ax = plt.subplots()\n",
        "ax.spines['top'].set_visible(False)\n",
        "ax.spines['right'].set_visible(False)\n",
        "\n",
        "x = embedding_types\n",
        "y = [acc*100 for acc in accs_word2vec_embed_type]\n",
        "sns.lineplot(x=x, y=y, marker='o', ax=ax)\n",
        "\n",
        "for i in range(len(accs_word2vec_embed_type)):\n",
        "  s = f'{y[i]:.1f}%'\n",
        "  ax.text(x=i+offset[0], \n",
        "          y=y[i]+offset[1],\n",
        "          rotation=45,\n",
        "          fontsize=8,\n",
        "          s=s)\n",
        "\n",
        "plt.yticks([65 + 5*x for x in range(6)])\n",
        "plt.ylabel(\"Accuracy (%)\")\n",
        "plt.xticks(np.arange(len(embedding_types)), embedding_types, rotation=-45, rotation_mode='anchor', horizontalalignment=\"left\")\n",
        "plt.xlabel(\"Embedding type\")\n",
        "# plt.legend(loc='lower right')\n",
        "\n",
        "fig.show()"
      ],
      "execution_count": null,
      "outputs": []
    },
    {
      "cell_type": "markdown",
      "metadata": {
        "id": "Lux3Rq_R3Fmm"
      },
      "source": [
        "### Different classifiers"
      ]
    },
    {
      "cell_type": "code",
      "metadata": {
        "id": "obr-zEmNydDm"
      },
      "source": [
        "torch.manual_seed(0)\n",
        "\n",
        "# Parameters for W2V\n",
        "window_size = 2\n",
        "rep_size    = 500\n",
        "n_epochs    = 20\n",
        "n_batch     = 100\n",
        "device      = 'cuda'\n",
        "\n",
        "\n",
        "# Different classifiers\n",
        "n_train = 3000\n",
        "models = [LogisticRegression(), RandomForestClassifier(), LinearSVC(), \n",
        "          MLPClassifier(), QuadraticDiscriminantAnalysis(), \n",
        "          KNeighborsClassifier(n_neighbors=3),KNeighborsClassifier(n_neighbors=5)]\n",
        "model_names = ['Logit', 'Random Forest', 'SVM', 'MLP', 'QDA', '3-NN', '5-NN']\n",
        "\n",
        "featurizer = w2v_featurizer\n",
        "\n",
        "# Initialize accuracy list\n",
        "accs_word2vec_classifiers = []\n",
        "\n",
        "# Representations\n",
        "reps_word2vec = learn_reps_word2vec(train_reviews, window_size, rep_size, n_epochs, n_batch, embedding_type='combo', device=device)\n",
        "\n",
        "for model in tqdm(models):\n",
        "  accs_word2vec_classifiers.append(\n",
        "      training_experiment('word2vec', n_train, model, featurizer, \n",
        "                          featurizer_args=[reps_word2vec], \n",
        "                          featurizer_kwargs={'idf_weighting':True}, \n",
        "                          verbose=False))"
      ],
      "execution_count": null,
      "outputs": []
    },
    {
      "cell_type": "code",
      "metadata": {
        "id": "W9Q5jW9t3wdc"
      },
      "source": [
        "offset = (0,1)\n",
        "fig, ax = plt.subplots()\n",
        "ax.spines['top'].set_visible(False)\n",
        "ax.spines['right'].set_visible(False)\n",
        "features = ['word', 'lsa', 'combo', 'word2vec']\n",
        "\n",
        "for feature in features:\n",
        "  x = model_names\n",
        "\n",
        "  if feature == 'word2vec':\n",
        "    y = [acc*100 for acc in accs_word2vec_classifiers]\n",
        "\n",
        "  else:\n",
        "    y = [acc*100 for acc in accs_classifiers[feature]]\n",
        "\n",
        "  sns.lineplot(x=x, y=y, label=feature, marker='o', ax=ax)\n",
        "\n",
        "for i in range(len(model_names)):\n",
        "  max_acc = max([accs_classifiers[feature][i] for feature in features if feature != 'word2vec'])\n",
        "  max_acc = max([max_acc, accs_word2vec_classifiers[i]])*100\n",
        "\n",
        "  s = f'{max_acc:.1f}%'\n",
        "  ax.text(x=i+offset[0], \n",
        "          y=max_acc+offset[1],\n",
        "          rotation=45,\n",
        "          fontsize=8,\n",
        "          s=s)\n",
        "\n",
        "plt.yticks([55 + 5*x for x in range(8)])\n",
        "plt.ylabel(\"Accuracy (%)\")\n",
        "plt.xticks(np.arange(len(model_names)), model_names, rotation=-45, rotation_mode='anchor', horizontalalignment=\"left\")\n",
        "plt.xlabel(\"Model\")\n",
        "plt.legend(loc='lower left')\n",
        "\n",
        "fig.show()"
      ],
      "execution_count": null,
      "outputs": []
    }
  ]
}