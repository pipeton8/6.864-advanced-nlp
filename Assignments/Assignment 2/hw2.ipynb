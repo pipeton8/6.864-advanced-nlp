{
  "nbformat": 4,
  "nbformat_minor": 0,
  "metadata": {
    "colab": {
      "name": "hw2.ipynb",
      "provenance": [],
      "collapsed_sections": [],
      "toc_visible": true,
      "machine_shape": "hm",
      "include_colab_link": true
    },
    "kernelspec": {
      "name": "python3",
      "display_name": "Python 3"
    },
    "accelerator": "GPU",
    "widgets": {
      "application/vnd.jupyter.widget-state+json": {
        "50e0ad259b604de29d4dbac7c69a4f86": {
          "model_module": "@jupyter-widgets/controls",
          "model_name": "HBoxModel",
          "model_module_version": "1.5.0",
          "state": {
            "_view_name": "HBoxView",
            "_dom_classes": [],
            "_model_name": "HBoxModel",
            "_view_module": "@jupyter-widgets/controls",
            "_model_module_version": "1.5.0",
            "_view_count": null,
            "_view_module_version": "1.5.0",
            "box_style": "",
            "layout": "IPY_MODEL_5a0604f9b19b4c4caca29ff17b72443a",
            "_model_module": "@jupyter-widgets/controls",
            "children": [
              "IPY_MODEL_67a8ebdf0efb4b949c75769ea8b21091",
              "IPY_MODEL_62a8613f0fc24862a2a8d9984ce7ac72",
              "IPY_MODEL_0f94f86d6284415f952329bb4449a3e4"
            ]
          }
        },
        "5a0604f9b19b4c4caca29ff17b72443a": {
          "model_module": "@jupyter-widgets/base",
          "model_name": "LayoutModel",
          "model_module_version": "1.2.0",
          "state": {
            "_view_name": "LayoutView",
            "grid_template_rows": null,
            "right": null,
            "justify_content": null,
            "_view_module": "@jupyter-widgets/base",
            "overflow": null,
            "_model_module_version": "1.2.0",
            "_view_count": null,
            "flex_flow": null,
            "width": null,
            "min_width": null,
            "border": null,
            "align_items": null,
            "bottom": null,
            "_model_module": "@jupyter-widgets/base",
            "top": null,
            "grid_column": null,
            "overflow_y": null,
            "overflow_x": null,
            "grid_auto_flow": null,
            "grid_area": null,
            "grid_template_columns": null,
            "flex": null,
            "_model_name": "LayoutModel",
            "justify_items": null,
            "grid_row": null,
            "max_height": null,
            "align_content": null,
            "visibility": null,
            "align_self": null,
            "height": null,
            "min_height": null,
            "padding": null,
            "grid_auto_rows": null,
            "grid_gap": null,
            "max_width": null,
            "order": null,
            "_view_module_version": "1.2.0",
            "grid_template_areas": null,
            "object_position": null,
            "object_fit": null,
            "grid_auto_columns": null,
            "margin": null,
            "display": null,
            "left": null
          }
        },
        "67a8ebdf0efb4b949c75769ea8b21091": {
          "model_module": "@jupyter-widgets/controls",
          "model_name": "HTMLModel",
          "model_module_version": "1.5.0",
          "state": {
            "_view_name": "HTMLView",
            "style": "IPY_MODEL_9a43cb131ae24a54b2f2e7143f5780bc",
            "_dom_classes": [],
            "description": "",
            "_model_name": "HTMLModel",
            "placeholder": "​",
            "_view_module": "@jupyter-widgets/controls",
            "_model_module_version": "1.5.0",
            "value": "100%",
            "_view_count": null,
            "_view_module_version": "1.5.0",
            "description_tooltip": null,
            "_model_module": "@jupyter-widgets/controls",
            "layout": "IPY_MODEL_114fd88445784f97bf18150ac192745d"
          }
        },
        "62a8613f0fc24862a2a8d9984ce7ac72": {
          "model_module": "@jupyter-widgets/controls",
          "model_name": "FloatProgressModel",
          "model_module_version": "1.5.0",
          "state": {
            "_view_name": "ProgressView",
            "style": "IPY_MODEL_6f5072d666824c3484028a759144ee5c",
            "_dom_classes": [],
            "description": "",
            "_model_name": "FloatProgressModel",
            "bar_style": "success",
            "max": 6,
            "_view_module": "@jupyter-widgets/controls",
            "_model_module_version": "1.5.0",
            "value": 6,
            "_view_count": null,
            "_view_module_version": "1.5.0",
            "orientation": "horizontal",
            "min": 0,
            "description_tooltip": null,
            "_model_module": "@jupyter-widgets/controls",
            "layout": "IPY_MODEL_5304f8f53eb1492d96dedf710cbed588"
          }
        },
        "0f94f86d6284415f952329bb4449a3e4": {
          "model_module": "@jupyter-widgets/controls",
          "model_name": "HTMLModel",
          "model_module_version": "1.5.0",
          "state": {
            "_view_name": "HTMLView",
            "style": "IPY_MODEL_da30aaac5682405da4bc67284f250904",
            "_dom_classes": [],
            "description": "",
            "_model_name": "HTMLModel",
            "placeholder": "​",
            "_view_module": "@jupyter-widgets/controls",
            "_model_module_version": "1.5.0",
            "value": " 6/6 [01:16&lt;00:00, 15.25s/it]",
            "_view_count": null,
            "_view_module_version": "1.5.0",
            "description_tooltip": null,
            "_model_module": "@jupyter-widgets/controls",
            "layout": "IPY_MODEL_a1170d18f2844cf4b335554cc69dc2c9"
          }
        },
        "9a43cb131ae24a54b2f2e7143f5780bc": {
          "model_module": "@jupyter-widgets/controls",
          "model_name": "DescriptionStyleModel",
          "model_module_version": "1.5.0",
          "state": {
            "_view_name": "StyleView",
            "_model_name": "DescriptionStyleModel",
            "description_width": "",
            "_view_module": "@jupyter-widgets/base",
            "_model_module_version": "1.5.0",
            "_view_count": null,
            "_view_module_version": "1.2.0",
            "_model_module": "@jupyter-widgets/controls"
          }
        },
        "114fd88445784f97bf18150ac192745d": {
          "model_module": "@jupyter-widgets/base",
          "model_name": "LayoutModel",
          "model_module_version": "1.2.0",
          "state": {
            "_view_name": "LayoutView",
            "grid_template_rows": null,
            "right": null,
            "justify_content": null,
            "_view_module": "@jupyter-widgets/base",
            "overflow": null,
            "_model_module_version": "1.2.0",
            "_view_count": null,
            "flex_flow": null,
            "width": null,
            "min_width": null,
            "border": null,
            "align_items": null,
            "bottom": null,
            "_model_module": "@jupyter-widgets/base",
            "top": null,
            "grid_column": null,
            "overflow_y": null,
            "overflow_x": null,
            "grid_auto_flow": null,
            "grid_area": null,
            "grid_template_columns": null,
            "flex": null,
            "_model_name": "LayoutModel",
            "justify_items": null,
            "grid_row": null,
            "max_height": null,
            "align_content": null,
            "visibility": null,
            "align_self": null,
            "height": null,
            "min_height": null,
            "padding": null,
            "grid_auto_rows": null,
            "grid_gap": null,
            "max_width": null,
            "order": null,
            "_view_module_version": "1.2.0",
            "grid_template_areas": null,
            "object_position": null,
            "object_fit": null,
            "grid_auto_columns": null,
            "margin": null,
            "display": null,
            "left": null
          }
        },
        "6f5072d666824c3484028a759144ee5c": {
          "model_module": "@jupyter-widgets/controls",
          "model_name": "ProgressStyleModel",
          "model_module_version": "1.5.0",
          "state": {
            "_view_name": "StyleView",
            "_model_name": "ProgressStyleModel",
            "description_width": "",
            "_view_module": "@jupyter-widgets/base",
            "_model_module_version": "1.5.0",
            "_view_count": null,
            "_view_module_version": "1.2.0",
            "bar_color": null,
            "_model_module": "@jupyter-widgets/controls"
          }
        },
        "5304f8f53eb1492d96dedf710cbed588": {
          "model_module": "@jupyter-widgets/base",
          "model_name": "LayoutModel",
          "model_module_version": "1.2.0",
          "state": {
            "_view_name": "LayoutView",
            "grid_template_rows": null,
            "right": null,
            "justify_content": null,
            "_view_module": "@jupyter-widgets/base",
            "overflow": null,
            "_model_module_version": "1.2.0",
            "_view_count": null,
            "flex_flow": null,
            "width": null,
            "min_width": null,
            "border": null,
            "align_items": null,
            "bottom": null,
            "_model_module": "@jupyter-widgets/base",
            "top": null,
            "grid_column": null,
            "overflow_y": null,
            "overflow_x": null,
            "grid_auto_flow": null,
            "grid_area": null,
            "grid_template_columns": null,
            "flex": null,
            "_model_name": "LayoutModel",
            "justify_items": null,
            "grid_row": null,
            "max_height": null,
            "align_content": null,
            "visibility": null,
            "align_self": null,
            "height": null,
            "min_height": null,
            "padding": null,
            "grid_auto_rows": null,
            "grid_gap": null,
            "max_width": null,
            "order": null,
            "_view_module_version": "1.2.0",
            "grid_template_areas": null,
            "object_position": null,
            "object_fit": null,
            "grid_auto_columns": null,
            "margin": null,
            "display": null,
            "left": null
          }
        },
        "da30aaac5682405da4bc67284f250904": {
          "model_module": "@jupyter-widgets/controls",
          "model_name": "DescriptionStyleModel",
          "model_module_version": "1.5.0",
          "state": {
            "_view_name": "StyleView",
            "_model_name": "DescriptionStyleModel",
            "description_width": "",
            "_view_module": "@jupyter-widgets/base",
            "_model_module_version": "1.5.0",
            "_view_count": null,
            "_view_module_version": "1.2.0",
            "_model_module": "@jupyter-widgets/controls"
          }
        },
        "a1170d18f2844cf4b335554cc69dc2c9": {
          "model_module": "@jupyter-widgets/base",
          "model_name": "LayoutModel",
          "model_module_version": "1.2.0",
          "state": {
            "_view_name": "LayoutView",
            "grid_template_rows": null,
            "right": null,
            "justify_content": null,
            "_view_module": "@jupyter-widgets/base",
            "overflow": null,
            "_model_module_version": "1.2.0",
            "_view_count": null,
            "flex_flow": null,
            "width": null,
            "min_width": null,
            "border": null,
            "align_items": null,
            "bottom": null,
            "_model_module": "@jupyter-widgets/base",
            "top": null,
            "grid_column": null,
            "overflow_y": null,
            "overflow_x": null,
            "grid_auto_flow": null,
            "grid_area": null,
            "grid_template_columns": null,
            "flex": null,
            "_model_name": "LayoutModel",
            "justify_items": null,
            "grid_row": null,
            "max_height": null,
            "align_content": null,
            "visibility": null,
            "align_self": null,
            "height": null,
            "min_height": null,
            "padding": null,
            "grid_auto_rows": null,
            "grid_gap": null,
            "max_width": null,
            "order": null,
            "_view_module_version": "1.2.0",
            "grid_template_areas": null,
            "object_position": null,
            "object_fit": null,
            "grid_auto_columns": null,
            "margin": null,
            "display": null,
            "left": null
          }
        },
        "224bbb9fe59d4cd98d671f4b5d93a9aa": {
          "model_module": "@jupyter-widgets/controls",
          "model_name": "HBoxModel",
          "model_module_version": "1.5.0",
          "state": {
            "_view_name": "HBoxView",
            "_dom_classes": [],
            "_model_name": "HBoxModel",
            "_view_module": "@jupyter-widgets/controls",
            "_model_module_version": "1.5.0",
            "_view_count": null,
            "_view_module_version": "1.5.0",
            "box_style": "",
            "layout": "IPY_MODEL_01a5509b4c9b49c6be90314a98c60ff7",
            "_model_module": "@jupyter-widgets/controls",
            "children": [
              "IPY_MODEL_8741638b7fd14db1a920e55c03754897",
              "IPY_MODEL_2b53f4c8a1554d2fade1ec62fdbc41f1",
              "IPY_MODEL_850d75e8dd3643518f32c99cd87d24f3"
            ]
          }
        },
        "01a5509b4c9b49c6be90314a98c60ff7": {
          "model_module": "@jupyter-widgets/base",
          "model_name": "LayoutModel",
          "model_module_version": "1.2.0",
          "state": {
            "_view_name": "LayoutView",
            "grid_template_rows": null,
            "right": null,
            "justify_content": null,
            "_view_module": "@jupyter-widgets/base",
            "overflow": null,
            "_model_module_version": "1.2.0",
            "_view_count": null,
            "flex_flow": null,
            "width": null,
            "min_width": null,
            "border": null,
            "align_items": null,
            "bottom": null,
            "_model_module": "@jupyter-widgets/base",
            "top": null,
            "grid_column": null,
            "overflow_y": null,
            "overflow_x": null,
            "grid_auto_flow": null,
            "grid_area": null,
            "grid_template_columns": null,
            "flex": null,
            "_model_name": "LayoutModel",
            "justify_items": null,
            "grid_row": null,
            "max_height": null,
            "align_content": null,
            "visibility": null,
            "align_self": null,
            "height": null,
            "min_height": null,
            "padding": null,
            "grid_auto_rows": null,
            "grid_gap": null,
            "max_width": null,
            "order": null,
            "_view_module_version": "1.2.0",
            "grid_template_areas": null,
            "object_position": null,
            "object_fit": null,
            "grid_auto_columns": null,
            "margin": null,
            "display": null,
            "left": null
          }
        },
        "8741638b7fd14db1a920e55c03754897": {
          "model_module": "@jupyter-widgets/controls",
          "model_name": "HTMLModel",
          "model_module_version": "1.5.0",
          "state": {
            "_view_name": "HTMLView",
            "style": "IPY_MODEL_fa09a911c56f4a919eac67ec64c8a100",
            "_dom_classes": [],
            "description": "",
            "_model_name": "HTMLModel",
            "placeholder": "​",
            "_view_module": "@jupyter-widgets/controls",
            "_model_module_version": "1.5.0",
            "value": "100%",
            "_view_count": null,
            "_view_module_version": "1.5.0",
            "description_tooltip": null,
            "_model_module": "@jupyter-widgets/controls",
            "layout": "IPY_MODEL_76f323db37ee47b686b58d622ee66dbb"
          }
        },
        "2b53f4c8a1554d2fade1ec62fdbc41f1": {
          "model_module": "@jupyter-widgets/controls",
          "model_name": "FloatProgressModel",
          "model_module_version": "1.5.0",
          "state": {
            "_view_name": "ProgressView",
            "style": "IPY_MODEL_1af0e75d7c32419a870f384794f77c42",
            "_dom_classes": [],
            "description": "",
            "_model_name": "FloatProgressModel",
            "bar_style": "success",
            "max": 6,
            "_view_module": "@jupyter-widgets/controls",
            "_model_module_version": "1.5.0",
            "value": 6,
            "_view_count": null,
            "_view_module_version": "1.5.0",
            "orientation": "horizontal",
            "min": 0,
            "description_tooltip": null,
            "_model_module": "@jupyter-widgets/controls",
            "layout": "IPY_MODEL_438bef2b0a4f481a8e5b6b3708bb88c9"
          }
        },
        "850d75e8dd3643518f32c99cd87d24f3": {
          "model_module": "@jupyter-widgets/controls",
          "model_name": "HTMLModel",
          "model_module_version": "1.5.0",
          "state": {
            "_view_name": "HTMLView",
            "style": "IPY_MODEL_597391a5b0ab47d7b2cd42945c9cdb06",
            "_dom_classes": [],
            "description": "",
            "_model_name": "HTMLModel",
            "placeholder": "​",
            "_view_module": "@jupyter-widgets/controls",
            "_model_module_version": "1.5.0",
            "value": " 6/6 [02:14&lt;00:00, 22.51s/it]",
            "_view_count": null,
            "_view_module_version": "1.5.0",
            "description_tooltip": null,
            "_model_module": "@jupyter-widgets/controls",
            "layout": "IPY_MODEL_8ffd07c3b0e649debfb9eaf6a499a2e4"
          }
        },
        "fa09a911c56f4a919eac67ec64c8a100": {
          "model_module": "@jupyter-widgets/controls",
          "model_name": "DescriptionStyleModel",
          "model_module_version": "1.5.0",
          "state": {
            "_view_name": "StyleView",
            "_model_name": "DescriptionStyleModel",
            "description_width": "",
            "_view_module": "@jupyter-widgets/base",
            "_model_module_version": "1.5.0",
            "_view_count": null,
            "_view_module_version": "1.2.0",
            "_model_module": "@jupyter-widgets/controls"
          }
        },
        "76f323db37ee47b686b58d622ee66dbb": {
          "model_module": "@jupyter-widgets/base",
          "model_name": "LayoutModel",
          "model_module_version": "1.2.0",
          "state": {
            "_view_name": "LayoutView",
            "grid_template_rows": null,
            "right": null,
            "justify_content": null,
            "_view_module": "@jupyter-widgets/base",
            "overflow": null,
            "_model_module_version": "1.2.0",
            "_view_count": null,
            "flex_flow": null,
            "width": null,
            "min_width": null,
            "border": null,
            "align_items": null,
            "bottom": null,
            "_model_module": "@jupyter-widgets/base",
            "top": null,
            "grid_column": null,
            "overflow_y": null,
            "overflow_x": null,
            "grid_auto_flow": null,
            "grid_area": null,
            "grid_template_columns": null,
            "flex": null,
            "_model_name": "LayoutModel",
            "justify_items": null,
            "grid_row": null,
            "max_height": null,
            "align_content": null,
            "visibility": null,
            "align_self": null,
            "height": null,
            "min_height": null,
            "padding": null,
            "grid_auto_rows": null,
            "grid_gap": null,
            "max_width": null,
            "order": null,
            "_view_module_version": "1.2.0",
            "grid_template_areas": null,
            "object_position": null,
            "object_fit": null,
            "grid_auto_columns": null,
            "margin": null,
            "display": null,
            "left": null
          }
        },
        "1af0e75d7c32419a870f384794f77c42": {
          "model_module": "@jupyter-widgets/controls",
          "model_name": "ProgressStyleModel",
          "model_module_version": "1.5.0",
          "state": {
            "_view_name": "StyleView",
            "_model_name": "ProgressStyleModel",
            "description_width": "",
            "_view_module": "@jupyter-widgets/base",
            "_model_module_version": "1.5.0",
            "_view_count": null,
            "_view_module_version": "1.2.0",
            "bar_color": null,
            "_model_module": "@jupyter-widgets/controls"
          }
        },
        "438bef2b0a4f481a8e5b6b3708bb88c9": {
          "model_module": "@jupyter-widgets/base",
          "model_name": "LayoutModel",
          "model_module_version": "1.2.0",
          "state": {
            "_view_name": "LayoutView",
            "grid_template_rows": null,
            "right": null,
            "justify_content": null,
            "_view_module": "@jupyter-widgets/base",
            "overflow": null,
            "_model_module_version": "1.2.0",
            "_view_count": null,
            "flex_flow": null,
            "width": null,
            "min_width": null,
            "border": null,
            "align_items": null,
            "bottom": null,
            "_model_module": "@jupyter-widgets/base",
            "top": null,
            "grid_column": null,
            "overflow_y": null,
            "overflow_x": null,
            "grid_auto_flow": null,
            "grid_area": null,
            "grid_template_columns": null,
            "flex": null,
            "_model_name": "LayoutModel",
            "justify_items": null,
            "grid_row": null,
            "max_height": null,
            "align_content": null,
            "visibility": null,
            "align_self": null,
            "height": null,
            "min_height": null,
            "padding": null,
            "grid_auto_rows": null,
            "grid_gap": null,
            "max_width": null,
            "order": null,
            "_view_module_version": "1.2.0",
            "grid_template_areas": null,
            "object_position": null,
            "object_fit": null,
            "grid_auto_columns": null,
            "margin": null,
            "display": null,
            "left": null
          }
        },
        "597391a5b0ab47d7b2cd42945c9cdb06": {
          "model_module": "@jupyter-widgets/controls",
          "model_name": "DescriptionStyleModel",
          "model_module_version": "1.5.0",
          "state": {
            "_view_name": "StyleView",
            "_model_name": "DescriptionStyleModel",
            "description_width": "",
            "_view_module": "@jupyter-widgets/base",
            "_model_module_version": "1.5.0",
            "_view_count": null,
            "_view_module_version": "1.2.0",
            "_model_module": "@jupyter-widgets/controls"
          }
        },
        "8ffd07c3b0e649debfb9eaf6a499a2e4": {
          "model_module": "@jupyter-widgets/base",
          "model_name": "LayoutModel",
          "model_module_version": "1.2.0",
          "state": {
            "_view_name": "LayoutView",
            "grid_template_rows": null,
            "right": null,
            "justify_content": null,
            "_view_module": "@jupyter-widgets/base",
            "overflow": null,
            "_model_module_version": "1.2.0",
            "_view_count": null,
            "flex_flow": null,
            "width": null,
            "min_width": null,
            "border": null,
            "align_items": null,
            "bottom": null,
            "_model_module": "@jupyter-widgets/base",
            "top": null,
            "grid_column": null,
            "overflow_y": null,
            "overflow_x": null,
            "grid_auto_flow": null,
            "grid_area": null,
            "grid_template_columns": null,
            "flex": null,
            "_model_name": "LayoutModel",
            "justify_items": null,
            "grid_row": null,
            "max_height": null,
            "align_content": null,
            "visibility": null,
            "align_self": null,
            "height": null,
            "min_height": null,
            "padding": null,
            "grid_auto_rows": null,
            "grid_gap": null,
            "max_width": null,
            "order": null,
            "_view_module_version": "1.2.0",
            "grid_template_areas": null,
            "object_position": null,
            "object_fit": null,
            "grid_auto_columns": null,
            "margin": null,
            "display": null,
            "left": null
          }
        }
      }
    }
  },
  "cells": [
    {
      "cell_type": "markdown",
      "metadata": {
        "id": "view-in-github",
        "colab_type": "text"
      },
      "source": [
        "<a href=\"https://colab.research.google.com/github/pipeton8/6.864-advanced-nlp/blob/main/Assignments/Assignment%202/hw2.ipynb\" target=\"_parent\"><img src=\"https://colab.research.google.com/assets/colab-badge.svg\" alt=\"Open In Colab\"/></a>"
      ]
    },
    {
      "cell_type": "code",
      "metadata": {
        "id": "FU7xWiY6TyWS"
      },
      "source": [
        "# %%bash\n",
        "# !(stat -t /usr/local/lib/*/dist-packages/google/colab > /dev/null 2>&1) && exit \n",
        "from IPython.display import clear_output\n",
        "\n",
        "!rm -rf hw2\n",
        "!wget https://github.com/pipeton8/6.864-advanced-nlp/raw/main/Assignments/Assignment%202/lab_util.py -P hw2\n",
        "!wget https://github.com/pipeton8/6.864-advanced-nlp/raw/main/Assignments/Assignment%202/reviews.csv -P hw2\n",
        "\n",
        "clear_output()"
      ],
      "execution_count": 1,
      "outputs": []
    },
    {
      "cell_type": "code",
      "metadata": {
        "id": "A0MHaHrdUACZ"
      },
      "source": [
        "import sys\n",
        "sys.path.insert(1,'/content/hw2')\n",
        "\n",
        "import csv\n",
        "import itertools as it\n",
        "import numpy as np\n",
        "import matplotlib.pyplot as plt\n",
        "import seaborn as sns\n",
        "import lab_util\n",
        "\n",
        "from sklearn.pipeline              import Pipeline\n",
        "from sklearn.decomposition         import TruncatedSVD, PCA\n",
        "from sklearn.linear_model          import LogisticRegression\n",
        "from sklearn.ensemble              import RandomForestClassifier\n",
        "from sklearn.svm                   import LinearSVC\n",
        "from sklearn.neural_network        import MLPClassifier\n",
        "from sklearn.discriminant_analysis import QuadraticDiscriminantAnalysis\n",
        "from sklearn.neighbors             import KNeighborsClassifier\n",
        "\n",
        "from tqdm.auto import tqdm"
      ],
      "execution_count": 2,
      "outputs": []
    },
    {
      "cell_type": "markdown",
      "metadata": {
        "id": "cZ3MUj4iUf76"
      },
      "source": [
        "# Introduction\n",
        "\n",
        "In this notebook, you will find code scaffolding for the implementation portion of Homework 2. There are certain parts of the scaffolding marked with `# Your code here!` comments where you can fill in code to perform the specified tasks. After implementing the methods in this notebook, you will need to design and perform experiments to evaluate each method and respond to the questions in the Homework 2 handout (available on Canvas). You should be able to complete this assignment without changing any of the scaffolding code, just writing code to fill in the scaffolding and run experiments."
      ]
    },
    {
      "cell_type": "markdown",
      "metadata": {
        "id": "gG654Y9J3yHw"
      },
      "source": [
        "## Dataset\n",
        "\n",
        "We're going to be working with a dataset of product reviews. The following cell loads the dataset and splits it into training, validation, and test sets."
      ]
    },
    {
      "cell_type": "code",
      "metadata": {
        "id": "JwiX-Tc9V1xI",
        "colab": {
          "base_uri": "https://localhost:8080/"
        },
        "outputId": "01b86abb-a0fe-4913-ba96-e157221aabf2"
      },
      "source": [
        "data = []\n",
        "n_positive = 0\n",
        "n_disp = 0\n",
        "\n",
        "with open(\"hw2/reviews.csv\") as reader:\n",
        "  csvreader = csv.reader(reader)\n",
        "  next(csvreader)\n",
        "  for id, review, label in csvreader:\n",
        "    label = int(label)\n",
        "\n",
        "    # hacky class balancing\n",
        "    if label == 1:\n",
        "      if n_positive == 2000:\n",
        "        continue\n",
        "\n",
        "      n_positive += 1\n",
        "\n",
        "    if len(data) == 4000:\n",
        "      break\n",
        "\n",
        "    data.append((review, label))\n",
        "    \n",
        "    if n_disp > 5:\n",
        "      continue\n",
        "\n",
        "    n_disp += 1\n",
        "\n",
        "    print(\"review:\", review)\n",
        "    print(\"rating:\", label, \"(good)\" if label == 1 else \"(bad)\")\n",
        "    print()\n",
        "\n",
        "print(f\"Read {len(data)} total reviews.\")\n",
        "\n",
        "# Shuffle before splitting\n",
        "np.random.shuffle(data)\n",
        "reviews, labels = zip(*data)\n",
        "\n",
        "# Training (3000 samples)\n",
        "train_reviews = reviews[:3000]\n",
        "train_labels = labels[:3000]\n",
        "\n",
        "# Validation (500 samples)\n",
        "val_reviews = reviews[3000:3500]\n",
        "val_labels = labels[3000:3500]\n",
        "\n",
        "# Testing (500 samples)\n",
        "test_reviews = reviews[3500:]\n",
        "test_labels = labels[3500:]"
      ],
      "execution_count": 3,
      "outputs": [
        {
          "output_type": "stream",
          "name": "stdout",
          "text": [
            "review: I have bought several of the Vitality canned dog food products and have found them all to be of good quality. The product looks more like a stew than a processed meat and it smells better. My Labrador is finicky and she appreciates this product better than  most.\n",
            "rating: 1 (good)\n",
            "\n",
            "review: Product arrived labeled as Jumbo Salted Peanuts...the peanuts were actually small sized unsalted. Not sure if this was an error or if the vendor intended to represent the product as \"Jumbo\".\n",
            "rating: 0 (bad)\n",
            "\n",
            "review: This is a confection that has been around a few centuries.  It is a light, pillowy citrus gelatin with nuts - in this case Filberts. And it is cut into tiny squares and then liberally coated with powdered sugar.  And it is a tiny mouthful of heaven.  Not too chewy, and very flavorful.  I highly recommend this yummy treat.  If you are familiar with the story of C.S. Lewis' \"The Lion, The Witch, and The Wardrobe\" - this is the treat that seduces Edmund into selling out his Brother and Sisters to the Witch.\n",
            "rating: 1 (good)\n",
            "\n",
            "review: If you are looking for the secret ingredient in Robitussin I believe I have found it.  I got this in addition to the Root Beer Extract I ordered (which was good) and made some cherry soda.  The flavor is very medicinal.\n",
            "rating: 0 (bad)\n",
            "\n",
            "review: Great taffy at a great price.  There was a wide assortment of yummy taffy.  Delivery was very quick.  If your a taffy lover, this is a deal.\n",
            "rating: 1 (good)\n",
            "\n",
            "review: I got a wild hair for taffy and ordered this five pound bag. The taffy was all very enjoyable with many flavors: watermelon, root beer, melon, peppermint, grape, etc. My only complaint is there was a bit too much red/black licorice-flavored pieces (just not my particular favorites). Between me, my kids, and my husband, this lasted only two weeks! I would recommend this brand of taffy -- it was a delightful treat.\n",
            "rating: 1 (good)\n",
            "\n",
            "Read 4000 total reviews.\n"
          ]
        }
      ]
    },
    {
      "cell_type": "markdown",
      "metadata": {
        "id": "twLHWqM6Z5xD"
      },
      "source": [
        "# Part 1: word representations via matrix factorization\n",
        "\n",
        "First, we'll construct the term-document matrix (look at `/content/hw2/lab_util.py` in the file browser on the left if you want to see how this works)."
      ]
    },
    {
      "cell_type": "code",
      "metadata": {
        "id": "3WPt6Y7-Z_7P",
        "colab": {
          "base_uri": "https://localhost:8080/"
        },
        "outputId": "fc84412a-5272-4828-a0b5-c5405e68b4f1"
      },
      "source": [
        "vectorizer = lab_util.CountVectorizer()\n",
        "vectorizer.fit(train_reviews)\n",
        "td_matrix = vectorizer.transform(train_reviews).T\n",
        "print(f\"TD matrix is {td_matrix.shape[0]} x {td_matrix.shape[1]}\")"
      ],
      "execution_count": 4,
      "outputs": [
        {
          "output_type": "stream",
          "name": "stdout",
          "text": [
            "TD matrix is 2000 x 3000\n"
          ]
        }
      ]
    },
    {
      "cell_type": "markdown",
      "metadata": {
        "id": "hd3-pw4XbD4B"
      },
      "source": [
        "First, implement the function `learn_reps_lsa` that computes word representations via latent semantic analysis. The `sklearn.decomposition` or `np.linalg` packages may be useful."
      ]
    },
    {
      "cell_type": "code",
      "metadata": {
        "id": "KASVs8KubeBE"
      },
      "source": [
        "def idf_matrix(matrix, idf_weight = 'idf'):\n",
        "  \"\"\" Given a |V| x n TD matrix, returns the |V| IDF vector associated, where\n",
        "      idf(w) = log (# documents / (1 + # documents that contain w) )\n",
        "  \"\"\"\n",
        "  reviews_per_word = np.sum(matrix > 0, axis=1, keepdims=True)\n",
        "  reviews = matrix.shape[1]\n",
        "\n",
        "  if idf_weight == 'idf':\n",
        "    return np.log(reviews/(1+reviews_per_word))\n",
        "\n",
        "def tf_matrix(matrix, tf_weight = 'raw'):\n",
        "  \"\"\"\n",
        "    Given a |V| x n TD matrix, returns the |V| x n tf matrix, weighted according\n",
        "    to tf_weight.\n",
        "  \"\"\"\n",
        "\n",
        "  if tf_weight == 'raw':\n",
        "    tf_matrix = matrix\n",
        "\n",
        "  elif tf_weight == 'term frequency':\n",
        "    tf_matrix = matrix/matrix.sum()\n",
        "\n",
        "  elif tf_weight == 'log normalization':\n",
        "    tf_matrix = np.log(1+matrix)\n",
        "\n",
        "  elif tf_weight.find('double') != -1:\n",
        "    try:\n",
        "      dash_pos = tf_weight.find('-')\n",
        "      k = float(tf_weight[dash_pos+1:])\n",
        "      tf_matrix =  k + (1-k) * matrix/matrix.max(axis=0,keepdims=True)\n",
        "    except:\n",
        "      print(\"Double-k misspecified, raw weight applied.\")\n",
        "      tf_matrix = matrix\n",
        "\n",
        "  return tf_matrix\n",
        "\n",
        "def learn_reps_lsa(matrix, rep_size, tf_weight='raw', tf_idf=False, idf_weight='idf'):\n",
        "    # `matrix` is a `|V| x n` matrix (usually a TD matrix), \n",
        "    # where `|V|` is the number of words in the vocabulary and `n`\n",
        "    # is the number of reviews in the (training) corpus.\n",
        "    # This function should return a `|V| x rep_size` matrix with each\n",
        "    # row corresponding to a word representation.\n",
        "    \n",
        "    LSA_matrix = tf_matrix(matrix, tf_weight)\n",
        "\n",
        "    if tf_idf:\n",
        "      # Get IDF vector\n",
        "      idf = idf_matrix(matrix, idf_weight)\n",
        "\n",
        "      # Compute TF-IDF matrix\n",
        "      LSA_matrix = LSA_matrix * idf\n",
        "\n",
        "    # Initialize svd object\n",
        "    svd = TruncatedSVD(n_components=rep_size)\n",
        "\n",
        "    # Decompose TF-IDF matrix\n",
        "    return svd.fit_transform(LSA_matrix)"
      ],
      "execution_count": 5,
      "outputs": []
    },
    {
      "cell_type": "markdown",
      "metadata": {
        "id": "SKWzRC0dclVK"
      },
      "source": [
        "Let's look at some representations:"
      ]
    },
    {
      "cell_type": "code",
      "metadata": {
        "id": "YmRFpxYx61BM"
      },
      "source": [
        "words = [\"good\", \"bad\", \"cookie\", \"jelly\", \"dog\", \"the\", \"3\"]\n",
        "show_tokens = [vectorizer.tokenizer.word_to_token[word] for word in words]"
      ],
      "execution_count": 6,
      "outputs": []
    },
    {
      "cell_type": "code",
      "metadata": {
        "id": "XQJyABwM5RwN",
        "colab": {
          "base_uri": "https://localhost:8080/"
        },
        "outputId": "722c8b7b-d5b5-49ae-cf6f-0cb532506e25"
      },
      "source": [
        "reps = learn_reps_lsa(td_matrix, 500)\n",
        "lab_util.show_similar_words(vectorizer.tokenizer, reps, show_tokens)"
      ],
      "execution_count": 7,
      "outputs": [
        {
          "output_type": "stream",
          "name": "stdout",
          "text": [
            "good 92\n",
            "  . 1.069\n",
            "  a 1.104\n",
            "  and 1.141\n",
            "  but 1.149\n",
            "  the 1.161\n",
            "bad 250\n",
            "  news 1.412\n",
            "  . 1.423\n",
            "  it 1.440\n",
            "  a 1.443\n",
            "  i 1.446\n",
            "cookie 506\n",
            "  nana's 0.806\n",
            "  cookies 1.180\n",
            "  re 1.359\n",
            "  gluten 1.417\n",
            "  bites 1.440\n",
            "jelly 1313\n",
            "  bean 0.963\n",
            "  absolute 1.247\n",
            "  twist 1.357\n",
            "  savor 1.369\n",
            "  superior 1.394\n",
            "dog 40\n",
            "  food 0.958\n",
            "  pets 1.067\n",
            "  pet 1.074\n",
            "  dogs 1.188\n",
            "  foods 1.245\n",
            "the 31\n",
            "  . 0.319\n",
            "  of 0.390\n",
            "  <unk> 0.396\n",
            "  and 0.427\n",
            "  to 0.444\n",
            "3 327\n",
            "  . 1.278\n",
            "  1 1.299\n",
            "  4 1.301\n",
            "  of 1.329\n",
            "  to 1.337\n"
          ]
        }
      ]
    },
    {
      "cell_type": "markdown",
      "metadata": {
        "id": "LsOAGLB3iRjT"
      },
      "source": [
        "We've been operating on the raw count matrix, but in class we discussed several reweighting schemes aimed at making LSA representations more informative. \n",
        "\n",
        "Here, implement the TF-IDF transform and see how it affects learned representations. While it is okay (and in fact encouraged) to use vectorized numpy operations, you should refrain from using pre-implemented library functions for computing TF-IDF.\n",
        "\n",
        "How does TF-IDF normalization change the learned similarity function?"
      ]
    },
    {
      "cell_type": "code",
      "metadata": {
        "id": "SV5xKLYTi7LA",
        "colab": {
          "base_uri": "https://localhost:8080/"
        },
        "outputId": "02fef225-d178-42b1-8299-cd91384898d4"
      },
      "source": [
        "reps_tfidf = learn_reps_lsa(td_matrix, 500, tf_idf=True)\n",
        "lab_util.show_similar_words(vectorizer.tokenizer, reps_tfidf, show_tokens)"
      ],
      "execution_count": 8,
      "outputs": [
        {
          "output_type": "stream",
          "name": "stdout",
          "text": [
            "good 92\n",
            "  . 0.999\n",
            "  a 1.033\n",
            "  but 1.051\n",
            "  and 1.060\n",
            "  the 1.102\n",
            "bad 250\n",
            "  . 1.361\n",
            "  it 1.389\n",
            "  a 1.390\n",
            "  i 1.392\n",
            "  taste 1.394\n",
            "cookie 506\n",
            "  nana's 0.861\n",
            "  cookies 1.281\n",
            "  gluten 1.456\n",
            "  bites 1.485\n",
            "  re 1.485\n",
            "jelly 1313\n",
            "  bean 1.066\n",
            "  absolute 1.242\n",
            "  tooth 1.368\n",
            "  superior 1.421\n",
            "  savor 1.422\n",
            "dog 40\n",
            "  food 0.938\n",
            "  pets 1.096\n",
            "  pet 1.104\n",
            "  dogs 1.173\n",
            "  foods 1.211\n",
            "the 31\n",
            "  . 0.197\n",
            "  of 0.291\n",
            "  and 0.295\n",
            "  <unk> 0.321\n",
            "  to 0.343\n",
            "3 327\n",
            "  4 1.221\n",
            "  . 1.221\n",
            "  1 1.246\n",
            "  of 1.279\n",
            "  8 1.284\n"
          ]
        }
      ]
    },
    {
      "cell_type": "markdown",
      "metadata": {
        "id": "HO-NG4u1kG9z"
      },
      "source": [
        "Now that we have some representations, let's see if we can do something useful with them.\n",
        "\n",
        "Below, implement a feature function that represents a document as the sum of its\n",
        "learned word embeddings.\n",
        "\n",
        "The remaining code trains a logistic regression model on a set of *labeled* reviews; we're interested in seeing how much representations learned from *unlabeled* reviews improve classification.\n",
        "\n",
        "(Note: the staff solutions for each of the three featurizers achieve accuracies of between .78 and .83 with the full training corpus (3000 examples).)"
      ]
    },
    {
      "cell_type": "code",
      "metadata": {
        "id": "6B08xvIFlee3"
      },
      "source": [
        "def word_featurizer(xs):\n",
        "    # normalize\n",
        "    return xs / np.sqrt((xs ** 2).sum(axis=1, keepdims=True))\n",
        "\n",
        "def lsa_featurizer(xs, reps, idf_weighting = False):\n",
        "    # This function takes in a `|D| x |V|` TD matrix in which each row contains\n",
        "    # the word counts for the given review.\n",
        "    # It should return a matrix where each row contains the learned feature\n",
        "    # representation of each review (e.g. the sum of LSA word representations).\n",
        "    # (Hint: use TF-IDF LSA features, which should be a global variable after\n",
        "    # running the previous cell; no need to pass it in as an argument.)\n",
        "    feats = np.zeros((xs.shape[0],reps.shape[1]))\n",
        "\n",
        "    if idf_weighting:\n",
        "      idf = idf_matrix(xs.T, 'idf')\n",
        "    else:\n",
        "      idf = np.ones_like(feats[0,:])\n",
        "\n",
        "    for i in range(xs.shape[0]):\n",
        "      doc_wordDummies = (xs[i,:] > 0).T.reshape((-1,1))\n",
        "      feats[i,:] = np.sum(doc_wordDummies * idf * reps,axis=0, keepdims=True)\n",
        "\n",
        "    # normalize\n",
        "    return feats / np.sqrt((feats ** 2).sum(axis=1, keepdims=True))\n",
        "\n",
        "# We've implemented the remainder of the training and evaluation pipeline,\n",
        "# so you likely won't need to modify the following four functions.\n",
        "def combo_featurizer(xs, reps, idf_weighting = False):\n",
        "    return np.concatenate((word_featurizer(xs), lsa_featurizer(xs, reps, idf_weighting=idf_weighting)), axis=1)\n",
        "\n",
        "def train_model(xs, ys, featurizer, featurizer_args, featurizer_kwargs, model):\n",
        "    xs_featurized = featurizer(xs, *featurizer_args, **featurizer_kwargs)\n",
        "\n",
        "    model.fit(xs_featurized, ys)\n",
        "\n",
        "    return model\n",
        "\n",
        "def eval_model(model, xs, ys, featurizer, featurizer_args, featurizer_kwargs):\n",
        "    xs_featurized = featurizer(xs, *featurizer_args, **featurizer_kwargs)\n",
        "\n",
        "    pred_ys = model.predict(xs_featurized)\n",
        "\n",
        "    return np.mean(pred_ys == ys)\n",
        "\n",
        "def training_experiment(name, n_train, model, featurizer, featurizer_args = [], featurizer_kwargs = {}, verbose=True):\n",
        "    if verbose:\n",
        "      print(f\"{name} features, {n_train} examples\")\n",
        "\n",
        "    train_xs = vectorizer.transform(train_reviews[:n_train])\n",
        "    train_ys = train_labels[:n_train]\n",
        "    test_xs = vectorizer.transform(test_reviews)\n",
        "    test_ys = test_labels\n",
        "    model = train_model(train_xs, train_ys, featurizer, featurizer_args, featurizer_kwargs, model)\n",
        "    acc = eval_model(model, test_xs, test_ys, featurizer, featurizer_args, featurizer_kwargs)\n",
        "\n",
        "    if verbose:\n",
        "      print(f\"Accuracy is {acc*100:.2f}%\")\n",
        "      print(\"\")\n",
        "\n",
        "    return acc"
      ],
      "execution_count": 9,
      "outputs": []
    },
    {
      "cell_type": "code",
      "metadata": {
        "id": "Cuhuj7Ek1Q8i",
        "colab": {
          "base_uri": "https://localhost:8080/"
        },
        "outputId": "83e26a14-18a6-4ee0-965a-9a8823df0205"
      },
      "source": [
        "# Train\n",
        "n_train = 3000\n",
        "embed_size = 500\n",
        "model = LogisticRegression()\n",
        "\n",
        "reps_tfidf = learn_reps_lsa(td_matrix, embed_size, tf_idf=True)\n",
        "acc = training_experiment(\"word\", n_train, model, word_featurizer)\n",
        "acc = training_experiment(\"lsa\", n_train, model, lsa_featurizer, \n",
        "                          featurizer_args=[reps_tfidf], featurizer_kwargs={'idf_weighting' : True})\n",
        "acc = training_experiment(\"combo\", n_train, model, combo_featurizer, \n",
        "                          featurizer_args=[reps_tfidf],featurizer_kwargs={'idf_weighting' : True})"
      ],
      "execution_count": 10,
      "outputs": [
        {
          "output_type": "stream",
          "name": "stdout",
          "text": [
            "word features, 3000 examples\n",
            "Accuracy is 78.20%\n",
            "\n",
            "lsa features, 3000 examples\n",
            "Accuracy is 81.60%\n",
            "\n",
            "combo features, 3000 examples\n",
            "Accuracy is 83.40%\n",
            "\n"
          ]
        }
      ]
    },
    {
      "cell_type": "markdown",
      "metadata": {
        "id": "rpXziVNrlfp2"
      },
      "source": [
        "**Part 1: Lab writeup**\n",
        "\n",
        "Part 1 of your lab report should discuss any implementation details that were important to filling out the code above, as well as your answers to the questions in Part 1 of the Homework 2 handout. Below, you can set up and perform experiments that answer these questions (include figures, plots, and tables in your write-up as you see fit)."
      ]
    },
    {
      "cell_type": "markdown",
      "metadata": {
        "id": "L3WrzsHhC1I5"
      },
      "source": [
        "## Experiments for Part 1"
      ]
    },
    {
      "cell_type": "markdown",
      "metadata": {
        "id": "MXMcQysM7j8o"
      },
      "source": [
        "### Part (a)"
      ]
    },
    {
      "cell_type": "code",
      "metadata": {
        "id": "QX_6yxZQPXFP"
      },
      "source": [
        "def cosine_similarity(A,B, axis=0):\n",
        "  \"\"\"\n",
        "  Given matrices A and B, computes cosine similarity between column vectors if\n",
        "  axis = 0 and between rows if axis = 1.\n",
        "  \"\"\"\n",
        "  norm_A = np.linalg.norm(A,axis=axis)\n",
        "  norm_B = np.linalg.norm(B,axis=axis)\n",
        "  \n",
        "  return np.sum(A * B,axis=axis)/(norm_A*norm_B)"
      ],
      "execution_count": 11,
      "outputs": []
    },
    {
      "cell_type": "code",
      "metadata": {
        "colab": {
          "base_uri": "https://localhost:8080/",
          "height": 371
        },
        "id": "Kq1X6YMD7luQ",
        "outputId": "2898d0ec-dd84-4b41-f393-c4673df27804"
      },
      "source": [
        "# Set embed_size and compute W_tt\n",
        "embed_size = 500\n",
        "w_tt = td_matrix @ td_matrix.T\n",
        "\n",
        "# Initialize SVD objects\n",
        "svd_TD = TruncatedSVD(n_components=embed_size, random_state=0)\n",
        "svd_TT = TruncatedSVD(n_components=embed_size, random_state=0)\n",
        "\n",
        "# Obtain low rand representation\n",
        "decomposed_TD = svd_TD.fit_transform(td_matrix)\n",
        "decomposed_TT = svd_TT.fit_transform(w_tt)\n",
        "\n",
        "# Obtain left_singular vectors (in absolute value)\n",
        "left_singular_TD = decomposed_TD/svd_TD.singular_values_\n",
        "left_singular_TT = decomposed_TT/svd_TT.singular_values_\n",
        "\n",
        "# Singular value similarity\n",
        "values_TD = svd_TD.singular_values_\n",
        "values_TT = svd_TT.singular_values_\n",
        "value_similarity = cosine_similarity(values_TD, np.sqrt(values_TT))\n",
        "\n",
        "# Compute cosine similarity between each column\n",
        "vector_similarity = cosine_similarity(left_singular_TD,left_singular_TT)\n",
        "vector_similarity = np.abs(vector_similarity)\n",
        "\n",
        "ax = sns.histplot(vector_similarity, binwidth=0.05)\n",
        "ax.set_xticks([0.2*x for x in range(6)])\n",
        "\n",
        "print(f\"Singular values coincide: \" + \"Yes\"*(value_similarity>=0.99) + \"No\"*(value_similarity<0.99))\n",
        "print(f\"Share of vectors with similarity (in absolute value) equal or greater that 0.90: {(vector_similarity>=0.90).sum()/embed_size:.2f}\")\n",
        "print(f\"Share of vectors with similarity (in absolute value) equal or greater that 0.95: {(vector_similarity>=0.95).sum()/embed_size:.2f}\")\n",
        "print(f\"Share of vectors with similarity (in absolute value) equal or greater that 0.99: {(vector_similarity>=0.99).sum()/embed_size:.2f}\")"
      ],
      "execution_count": 12,
      "outputs": [
        {
          "output_type": "stream",
          "name": "stderr",
          "text": [
            "/usr/local/lib/python3.7/dist-packages/ipykernel_launcher.py:29: DeprecationWarning: In future, it will be an error for 'np.bool_' scalars to be interpreted as an index\n"
          ]
        },
        {
          "output_type": "stream",
          "name": "stdout",
          "text": [
            "Singular values coincide: Yes\n",
            "Share of vectors with similarity (in absolute value) equal or greater that 0.90: 0.81\n",
            "Share of vectors with similarity (in absolute value) equal or greater that 0.95: 0.78\n",
            "Share of vectors with similarity (in absolute value) equal or greater that 0.99: 0.73\n"
          ]
        },
        {
          "output_type": "display_data",
          "data": {
            "image/png": "[encoded data removed]",
            "text/plain": [
              "<Figure size 432x288 with 1 Axes>"
            ]
          },
          "metadata": {
            "needs_background": "light"
          }
        }
      ]
    },
    {
      "cell_type": "markdown",
      "metadata": {
        "id": "ZX2XkAs5Z7_2"
      },
      "source": [
        "### Part (b)"
      ]
    },
    {
      "cell_type": "code",
      "metadata": {
        "id": "rjxPhuqKG_RI"
      },
      "source": [
        "words = ['the', 'dog', '3', 'good']\n",
        "show_tokens = [vectorizer.tokenizer.word_to_token[word] for word in words]"
      ],
      "execution_count": 13,
      "outputs": []
    },
    {
      "cell_type": "code",
      "metadata": {
        "colab": {
          "base_uri": "https://localhost:8080/"
        },
        "id": "Q7FDct_pZ9Oc",
        "outputId": "75faf13d-43b7-4050-e16e-2f1669529be3"
      },
      "source": [
        "embed_size = 1000\n",
        "kwargs = {'tf_weight'  : 'term frequency',\n",
        "          'tf_idf'     : True}\n",
        "\n",
        "reps = learn_reps_lsa(td_matrix, embed_size, **kwargs)\n",
        "lab_util.show_similar_words(vectorizer.tokenizer, reps, show_tokens)"
      ],
      "execution_count": 14,
      "outputs": [
        {
          "output_type": "stream",
          "name": "stdout",
          "text": [
            "the 45\n",
            "  . 0.241\n",
            "  and 0.340\n",
            "  <unk> 0.349\n",
            "  of 0.352\n",
            "  to 0.372\n",
            "dog 637\n",
            "  food 1.118\n",
            "  pets 1.210\n",
            "  dogs 1.239\n",
            "  pet 1.289\n",
            "  nutritious 1.341\n",
            "3 271\n",
            "  8 1.220\n",
            "  . 1.255\n",
            "  the 1.287\n",
            "  of 1.295\n",
            "  to 1.302\n",
            "good 211\n",
            "  . 1.030\n",
            "  a 1.089\n",
            "  and 1.127\n",
            "  but 1.147\n",
            "  the 1.155\n"
          ]
        }
      ]
    },
    {
      "cell_type": "markdown",
      "metadata": {
        "id": "Avm1gpBjYLNI"
      },
      "source": [
        "### Part (c)"
      ]
    },
    {
      "cell_type": "markdown",
      "metadata": {
        "id": "jCs3hDlTpg9g"
      },
      "source": [
        "#### Different training sizes"
      ]
    },
    {
      "cell_type": "code",
      "metadata": {
        "colab": {
          "base_uri": "https://localhost:8080/",
          "height": 49,
          "referenced_widgets": [
            "50e0ad259b604de29d4dbac7c69a4f86",
            "5a0604f9b19b4c4caca29ff17b72443a",
            "67a8ebdf0efb4b949c75769ea8b21091",
            "62a8613f0fc24862a2a8d9984ce7ac72",
            "0f94f86d6284415f952329bb4449a3e4",
            "9a43cb131ae24a54b2f2e7143f5780bc",
            "114fd88445784f97bf18150ac192745d",
            "6f5072d666824c3484028a759144ee5c",
            "5304f8f53eb1492d96dedf710cbed588",
            "da30aaac5682405da4bc67284f250904",
            "a1170d18f2844cf4b335554cc69dc2c9"
          ]
        },
        "id": "LlMSHB0hYKp5",
        "outputId": "7a6f53d5-fde1-4f94-e903-4288c58b8825"
      },
      "source": [
        "# Different training sizes\n",
        "n_trains = [500*i for i in range(1,7)]\n",
        "embed_size = 500\n",
        "model = LogisticRegression()\n",
        "accs_train_size = {'word'  : [],\n",
        "                   'lsa'   : [],\n",
        "                   'combo' : []\n",
        "                  }\n",
        "\n",
        "features = ['word', 'lsa', 'combo']\n",
        "featurizers = [word_featurizer, lsa_featurizer, combo_featurizer]\n",
        "\n",
        "reps = learn_reps_lsa(td_matrix, embed_size, tf_weight='term frequency', tf_idf=True)\n",
        "\n",
        "for n_train in tqdm(n_trains):\n",
        "  for feature,featurizer in zip(features,featurizers):\n",
        "    if feature == 'word':\n",
        "      accs_train_size[feature].append(training_experiment(feature, n_train, model, featurizer, verbose=False))\n",
        "    else:\n",
        "      accs_train_size[feature].append(\n",
        "          training_experiment(feature, n_train, model, featurizer, \n",
        "                              featurizer_args=[reps], \n",
        "                              featurizer_kwargs={'idf_weighting' : True}, \n",
        "                              verbose=False))"
      ],
      "execution_count": 40,
      "outputs": [
        {
          "output_type": "display_data",
          "data": {
            "application/vnd.jupyter.widget-view+json": {
              "model_id": "50e0ad259b604de29d4dbac7c69a4f86",
              "version_minor": 0,
              "version_major": 2
            },
            "text/plain": [
              "  0%|          | 0/6 [00:00<?, ?it/s]"
            ]
          },
          "metadata": {}
        }
      ]
    },
    {
      "cell_type": "code",
      "metadata": {
        "colab": {
          "base_uri": "https://localhost:8080/",
          "height": 283
        },
        "id": "CiK1cdyEppMM",
        "outputId": "7a7d8f2c-cfb0-46a4-bc72-4d14b8611aaf"
      },
      "source": [
        "offset = (0,1)\n",
        "fig, ax = plt.subplots()\n",
        "ax.spines['top'].set_visible(False)\n",
        "ax.spines['right'].set_visible(False)\n",
        "\n",
        "for feature in features:\n",
        "  x = n_trains\n",
        "  y = [acc*100 for acc in accs_train_size[feature]]\n",
        "  sns.lineplot(x=x, y=y, label=feature, marker='o', ax=ax)\n",
        "\n",
        "for i in range(len(n_trains)):\n",
        "  max_acc = max([accs_train_size[feature][i] for feature in features])*100\n",
        "\n",
        "  s = f'{max_acc:.1f}%'\n",
        "  ax.text(x=n_trains[i]+offset[0], \n",
        "          y=max_acc+offset[1],\n",
        "          rotation=45,\n",
        "          fontsize=8,\n",
        "          s=s)\n",
        "\n",
        "plt.yticks([70 + 5*x for x in range(5)])\n",
        "plt.ylabel(\"Accuracy (%)\")\n",
        "plt.xticks(n_trains)\n",
        "plt.xlabel(\"Training size (samples)\")\n",
        "plt.legend(loc='lower right')\n",
        "\n",
        "fig.show()"
      ],
      "execution_count": 46,
      "outputs": [
        {
          "output_type": "display_data",
          "data": {
            "image/png": "[encoded data removed]",
            "text/plain": [
              "<Figure size 432x288 with 1 Axes>"
            ]
          },
          "metadata": {
            "needs_background": "light"
          }
        }
      ]
    },
    {
      "cell_type": "markdown",
      "metadata": {
        "id": "9uXachaM0l06"
      },
      "source": [
        "#### Different embedding sizes"
      ]
    },
    {
      "cell_type": "code",
      "metadata": {
        "id": "aTVF9JdRNOsx",
        "colab": {
          "base_uri": "https://localhost:8080/",
          "height": 49
        },
        "outputId": "152bd72e-9f59-468b-85e6-7422251aade8"
      },
      "source": [
        "# Different embedding sizes\n",
        "n_train = 3000\n",
        "embed_sizes = [100*i for i in range(1,11)]\n",
        "model = LogisticRegression()\n",
        "accs_embed_size = {'word'  : [],\n",
        "                   'lsa'   : [],\n",
        "                  'combo' : []\n",
        "                  }\n",
        "\n",
        "features = ['word', 'lsa', 'combo']\n",
        "featurizers = [word_featurizer, lsa_featurizer, combo_featurizer]\n",
        "\n",
        "for embed_size in tqdm(embed_sizes):\n",
        "  reps = learn_reps_lsa(td_matrix, embed_size, tf_weight='term frequency', tf_idf=True)\n",
        "\n",
        "  for feature,featurizer in zip(features,featurizers):\n",
        "    if feature == 'word':\n",
        "      accs_embed_size[feature].append(training_experiment(feature, n_train, model, featurizer, verbose=False))\n",
        "    else:\n",
        "      accs_embed_size[feature].append(\n",
        "          training_experiment(feature, n_train, model, featurizer, \n",
        "                              featurizer_args=[reps], \n",
        "                              featurizer_kwargs={'idf_weighting' : True}, \n",
        "                              verbose=False))"
      ],
      "execution_count": 11,
      "outputs": [
        {
          "output_type": "display_data",
          "data": {
            "application/vnd.jupyter.widget-view+json": {
              "model_id": "636c21297bc04c1994b71649b6d6da8a",
              "version_minor": 0,
              "version_major": 2
            },
            "text/plain": [
              "  0%|          | 0/10 [00:00<?, ?it/s]"
            ]
          },
          "metadata": {}
        }
      ]
    },
    {
      "cell_type": "code",
      "metadata": {
        "id": "JNcvPN4tmdOl",
        "colab": {
          "base_uri": "https://localhost:8080/",
          "height": 283
        },
        "outputId": "325330c8-47f5-4319-c012-20c3ad29fc18"
      },
      "source": [
        "offset = (0,0.5)\n",
        "fig, ax = plt.subplots()\n",
        "ax.spines['top'].set_visible(False)\n",
        "ax.spines['right'].set_visible(False)\n",
        "\n",
        "for feature in features:\n",
        "  x = embed_sizes\n",
        "  y = [acc*100 for acc in accs_embed_size[feature]]\n",
        "  sns.lineplot(x=x, y=y, label=feature, marker='o', ax=ax)\n",
        "\n",
        "for i in range(len(embed_sizes)):\n",
        "  max_acc = max([accs_embed_size[feature][i] for feature in features])*100\n",
        "\n",
        "  s = f'{max_acc:.1f}%'\n",
        "  ax.text(x=embed_sizes[i]+offset[0], \n",
        "          y=max_acc+offset[1],\n",
        "          rotation=45,\n",
        "          fontsize=8,\n",
        "          s=s)\n",
        "\n",
        "plt.yticks([75 + 5*x for x in range(4)])\n",
        "plt.ylabel(\"Accuracy (%)\")\n",
        "plt.xticks(embed_sizes)\n",
        "plt.xlabel(\"Embedding size (dimensions)\")\n",
        "plt.legend(loc='lower right')\n",
        "\n",
        "fig.show()"
      ],
      "execution_count": 12,
      "outputs": [
        {
          "output_type": "display_data",
          "data": {
            "image/png": "[encoded data removed]",
            "text/plain": [
              "<Figure size 432x288 with 1 Axes>"
            ]
          },
          "metadata": {
            "needs_background": "light"
          }
        }
      ]
    },
    {
      "cell_type": "markdown",
      "metadata": {
        "id": "KGgEOFpF0pBa"
      },
      "source": [
        "### Different classifiers"
      ]
    },
    {
      "cell_type": "code",
      "metadata": {
        "colab": {
          "base_uri": "https://localhost:8080/",
          "height": 171
        },
        "id": "ejoV12RT1fbm",
        "outputId": "746ef8a2-1d7c-4476-e827-18a9f60c8b93"
      },
      "source": [
        "# Different classifiers\n",
        "n_train = 3000\n",
        "embed_size = 500\n",
        "models = [LogisticRegression(random_state=0), RandomForestClassifier(random_state=0), LinearSVC(random_state=0), \n",
        "          MLPClassifier(random_state=0), QuadraticDiscriminantAnalysis(), \n",
        "          KNeighborsClassifier(n_neighbors=3),KNeighborsClassifier(n_neighbors=5)]\n",
        "model_names = ['Logit', 'Random Forest', 'SVM', 'MLP', 'QDA', '3-NN', '5-NN']\n",
        "\n",
        "accs_classifiers = {'word'  : [],\n",
        "                    'lsa'   : [],\n",
        "                    'combo' : []\n",
        "                  }\n",
        "\n",
        "features = ['word', 'lsa', 'combo']\n",
        "featurizers = [word_featurizer, lsa_featurizer, combo_featurizer]\n",
        "\n",
        "reps = learn_reps_lsa(td_matrix, embed_size, tf_weight='term frequency', tf_idf=True)\n",
        "\n",
        "for model in tqdm(models):\n",
        "  for feature,featurizer in zip(features,featurizers):\n",
        "    if feature == 'word':\n",
        "      accs_classifiers[feature].append(training_experiment(feature, n_train, model, featurizer, verbose=False))\n",
        "    else:\n",
        "      accs_classifiers[feature].append(\n",
        "          training_experiment(feature, n_train, model, featurizer, \n",
        "                              featurizer_args=[reps], \n",
        "                              featurizer_kwargs={'idf_weighting' : True}, \n",
        "                              verbose=False))"
      ],
      "execution_count": 13,
      "outputs": [
        {
          "output_type": "display_data",
          "data": {
            "application/vnd.jupyter.widget-view+json": {
              "model_id": "3448482602614d37b5504d5d1093900c",
              "version_minor": 0,
              "version_major": 2
            },
            "text/plain": [
              "  0%|          | 0/7 [00:00<?, ?it/s]"
            ]
          },
          "metadata": {}
        },
        {
          "output_type": "stream",
          "name": "stderr",
          "text": [
            "/usr/local/lib/python3.7/dist-packages/sklearn/neural_network/_multilayer_perceptron.py:571: ConvergenceWarning: Stochastic Optimizer: Maximum iterations (200) reached and the optimization hasn't converged yet.\n",
            "  % self.max_iter, ConvergenceWarning)\n",
            "/usr/local/lib/python3.7/dist-packages/sklearn/discriminant_analysis.py:691: UserWarning: Variables are collinear\n",
            "  warnings.warn(\"Variables are collinear\")\n",
            "/usr/local/lib/python3.7/dist-packages/sklearn/discriminant_analysis.py:691: UserWarning: Variables are collinear\n",
            "  warnings.warn(\"Variables are collinear\")\n"
          ]
        }
      ]
    },
    {
      "cell_type": "code",
      "metadata": {
        "colab": {
          "base_uri": "https://localhost:8080/",
          "height": 333
        },
        "id": "-Rgclw8O332Q",
        "outputId": "028640de-c2bc-42f3-a435-659890f35ba8"
      },
      "source": [
        "offset = (0,1.5)\n",
        "fig, ax = plt.subplots()\n",
        "ax.spines['top'].set_visible(False)\n",
        "ax.spines['right'].set_visible(False)\n",
        "\n",
        "for feature in features:\n",
        "  x = model_names\n",
        "  y = [acc*100 for acc in accs_classifiers[feature]]\n",
        "  sns.lineplot(x=x, y=y, label=feature, marker='o', ax=ax)\n",
        "\n",
        "for i in range(len(model_names)):\n",
        "  max_acc = max([accs_classifiers[feature][i] for feature in features])*100\n",
        "\n",
        "  s = f'{max_acc:.1f}%'\n",
        "  ax.text(x=i+offset[0], \n",
        "          y=max_acc+offset[1],\n",
        "          rotation=45,\n",
        "          fontsize=8,\n",
        "          s=s)\n",
        "\n",
        "plt.yticks([55 + 5*x for x in range(8)])\n",
        "plt.ylabel(\"Accuracy (%)\")\n",
        "plt.xticks(np.arange(len(model_names)), model_names, rotation=-45, rotation_mode='anchor', horizontalalignment=\"left\")\n",
        "plt.xlabel(\"Model\")\n",
        "plt.legend(loc='upper right')\n",
        "\n",
        "fig.show()"
      ],
      "execution_count": 14,
      "outputs": [
        {
          "output_type": "display_data",
          "data": {
            "image/png": "[encoded data removed]",
            "text/plain": [
              "<Figure size 432x288 with 1 Axes>"
            ]
          },
          "metadata": {
            "needs_background": "light"
          }
        }
      ]
    },
    {
      "cell_type": "markdown",
      "metadata": {
        "id": "0a7UxMFwtDdY"
      },
      "source": [
        "### Best classifier with different weighting"
      ]
    },
    {
      "cell_type": "code",
      "metadata": {
        "colab": {
          "base_uri": "https://localhost:8080/",
          "height": 49,
          "referenced_widgets": [
            "224bbb9fe59d4cd98d671f4b5d93a9aa",
            "01a5509b4c9b49c6be90314a98c60ff7",
            "8741638b7fd14db1a920e55c03754897",
            "2b53f4c8a1554d2fade1ec62fdbc41f1",
            "850d75e8dd3643518f32c99cd87d24f3",
            "fa09a911c56f4a919eac67ec64c8a100",
            "76f323db37ee47b686b58d622ee66dbb",
            "1af0e75d7c32419a870f384794f77c42",
            "438bef2b0a4f481a8e5b6b3708bb88c9",
            "597391a5b0ab47d7b2cd42945c9cdb06",
            "8ffd07c3b0e649debfb9eaf6a499a2e4"
          ]
        },
        "id": "49hXEcqDtKc_",
        "outputId": "14f54c22-cd03-41c9-b4cb-fdb36d92a9cc"
      },
      "source": [
        "# Different embedding sizes\n",
        "n_train = 3000\n",
        "embed_size = 500\n",
        "model = LogisticRegression()\n",
        "accs_weights = {'word'  : [],\n",
        "        'lsa'   : [],\n",
        "        'combo' : []\n",
        "        }\n",
        "\n",
        "tf_weights = ['raw', 'term frequency', 'log normalization', \n",
        "              'double-0.25', 'double-0.5', 'double-0.75']\n",
        "\n",
        "features = ['word', 'lsa', 'combo']\n",
        "featurizers = [word_featurizer, lsa_featurizer, combo_featurizer]\n",
        "\n",
        "for tf_weight in tqdm(tf_weights):\n",
        "  reps = learn_reps_lsa(td_matrix, embed_size, tf_weight=tf_weight, tf_idf=True)\n",
        "\n",
        "  for feature,featurizer in zip(features,featurizers):\n",
        "    if feature == 'word':\n",
        "      accs_weights[feature].append(training_experiment(feature, n_train, model, featurizer, verbose=False))\n",
        "    else:\n",
        "      accs_weights[feature].append(\n",
        "          training_experiment(feature, n_train, model, featurizer, \n",
        "                              featurizer_args=[reps], \n",
        "                              featurizer_kwargs={'idf_weighting' : True}, \n",
        "                              verbose=False))"
      ],
      "execution_count": 34,
      "outputs": [
        {
          "output_type": "display_data",
          "data": {
            "application/vnd.jupyter.widget-view+json": {
              "model_id": "224bbb9fe59d4cd98d671f4b5d93a9aa",
              "version_minor": 0,
              "version_major": 2
            },
            "text/plain": [
              "  0%|          | 0/6 [00:00<?, ?it/s]"
            ]
          },
          "metadata": {}
        }
      ]
    },
    {
      "cell_type": "code",
      "metadata": {
        "colab": {
          "base_uri": "https://localhost:8080/",
          "height": 342
        },
        "id": "mh6Cupdiugq3",
        "outputId": "cfa6591a-eeca-4fc3-fb03-d06e82c617d6"
      },
      "source": [
        "offset = (0,1)\n",
        "fig, ax = plt.subplots()\n",
        "ax.spines['top'].set_visible(False)\n",
        "ax.spines['right'].set_visible(False)\n",
        "\n",
        "for feature in features:\n",
        "  x = tf_weights\n",
        "  y = [acc*100 for acc in accs_weights[feature]]\n",
        "  sns.lineplot(x=x, y=y, label=feature, marker='o', ax=ax)\n",
        "\n",
        "for i in range(len(tf_weights)):\n",
        "  max_acc = max([accs_weights[feature][i] for feature in features])*100\n",
        "\n",
        "  s = f'{max_acc:.1f}%'\n",
        "  ax.text(x=i+offset[0], \n",
        "          y=max_acc+offset[1],\n",
        "          rotation=45,\n",
        "          fontsize=8,\n",
        "          s=s)\n",
        "\n",
        "plt.yticks([50 + 5*x for x in range(9)])\n",
        "plt.ylabel(\"Accuracy (%)\")\n",
        "plt.xticks(np.arange(len(tf_weights)), tf_weights, rotation=-45, rotation_mode='anchor', horizontalalignment=\"left\")\n",
        "plt.xlabel(\"Model\")\n",
        "plt.legend(loc='center right')\n",
        "\n",
        "fig.show()"
      ],
      "execution_count": 48,
      "outputs": [
        {
          "output_type": "display_data",
          "data": {
            "image/png": "[encoded data removed]",
            "text/plain": [
              "<Figure size 432x288 with 1 Axes>"
            ]
          },
          "metadata": {
            "needs_background": "light"
          }
        }
      ]
    },
    {
      "cell_type": "markdown",
      "metadata": {
        "id": "AxfunCYh5nmZ"
      },
      "source": [
        "# Part 2: word representations via language modeling\n",
        "\n",
        "In this section, we'll train a word embedding model with a word2vec-style objective rather than a matrix factorization objective. This requires a little more work; we've provided scaffolding for a PyTorch model implementation below.\n",
        "If you don't have much PyTorch experience, there are some tutorials [here](https://pytorch.org/tutorials/) which may be useful. You're also welcome to implement these experiments in any other framework of your choosing (note that we won't be able to provide debugging support if you use a different framework)."
      ]
    },
    {
      "cell_type": "code",
      "metadata": {
        "id": "M1napibQ6aub"
      },
      "source": [
        "import torch\n",
        "import torch.nn as nn\n",
        "import torch.nn.functional as F\n",
        "import torch.optim as optim\n",
        "import torch.utils.data as torch_data\n",
        "\n",
        "class Word2VecModel(nn.Module):\n",
        "    # A torch module implementing a word2vec predictor. The `forward` function\n",
        "    # should take a batch of context word ids as input and predict the word \n",
        "    # in the middle of the context as output, as in the CBOW model from lecture.\n",
        "    # Hint: look at how padding is handled in lab_util.get_ngrams when\n",
        "    # initializing `ctx`: vocab_size is used as the padding token for contexts\n",
        "    # near the beginning and end of sequences. If you use an embedding module\n",
        "    # in your Word2Vec implementation, make sure to account for this extra\n",
        "    # padding token, and account for it with the `padding_idx` kwarg.\n",
        "\n",
        "    def __init__(self, vocab_size, embed_dim):\n",
        "        super().__init__()\n",
        "\n",
        "        self.embed_dim = embed_dim\n",
        "        self.vocab_size = vocab_size\n",
        "        self.input_embed = nn.Embedding(vocab_size+1,embed_dim,padding_idx=vocab_size)\n",
        "        self.output_embed = nn.Embedding(vocab_size+1,embed_dim,padding_idx=vocab_size)\n",
        "\n",
        "    def forward(self, context):\n",
        "        # Context is an `n_batch x n_context` matrix of integer word ids\n",
        "        # this function should return an `n_batch x vocab_size` matrix with\n",
        "        # element i, j being the (possibly log) probability of the middle word\n",
        "        # in context i being word j.\n",
        "        \n",
        "        # Embed context using output embedding matrix\n",
        "        embed_context = self.input_embed(context)\n",
        "\n",
        "        # Project embedded context using average\n",
        "        proj_context = torch.mean(embed_context, 1)\n",
        "\n",
        "        # Obtain probability\n",
        "        prob = torch.matmul(proj_context,self.output_embed.weight.t())[:,:-1]\n",
        "\n",
        "        # Return log prob\n",
        "        return F.log_softmax(prob,dim=1)"
      ],
      "execution_count": 36,
      "outputs": []
    },
    {
      "cell_type": "code",
      "metadata": {
        "id": "ePgZlityuWr3"
      },
      "source": [
        "def learn_reps_word2vec(corpus, window_size, rep_size, n_epochs, n_batch, device='cuda', embedding_type='input', verbose=True):\n",
        "    # This method takes in a corpus of training sentences. It returns a matrix\n",
        "    # of word embeddings with the same structure as used in the previous section \n",
        "    # of the assignment. (You can extract this matrix from the parameters of the \n",
        "    # Word2VecModel.)\n",
        "\n",
        "    tokenizer = lab_util.Tokenizer()\n",
        "    tokenizer.fit(corpus)\n",
        "    tokenized_corpus = tokenizer.tokenize(corpus)\n",
        "\n",
        "    ngrams = lab_util.get_ngrams(tokenized_corpus, window_size, pad_idx=tokenizer.vocab_size)\n",
        "\n",
        "    model = Word2VecModel(tokenizer.vocab_size, rep_size).to(device)\n",
        "    opt = optim.Adam(model.parameters(), lr=0.001)\n",
        "\n",
        "    loader = torch_data.DataLoader(ngrams, batch_size=n_batch, shuffle=True)\n",
        "\n",
        "    # Use the Negative Log Likelihood loss\n",
        "    loss_fn = nn.NLLLoss(reduction='sum')\n",
        "\n",
        "    losses = []  # Potentially useful for debugging (loss should go down!)\n",
        "    for epoch in tqdm(range(n_epochs)):\n",
        "        epoch_loss = 0\n",
        "        for context, label in loader:\n",
        "          context = context.to(device)\n",
        "          label = label.to(device)\n",
        "\n",
        "          # As described above, `context` is a batch of context word ids, and\n",
        "          # `label` is a batch of predicted word labels.\n",
        "\n",
        "          # Obtain predictions (log-probabilities) using forward of model\n",
        "          preds = model(context)\n",
        "\n",
        "          # Now finish the backward pass and gradient update.\n",
        "          # Remember, you need to compute the loss, zero the gradients\n",
        "          # of the model parameters, perform the backward pass, and\n",
        "          # update the model parameters.\n",
        "          loss = loss_fn(preds,label)\n",
        "          loss.backward()          \n",
        "          opt.step()\n",
        "          opt.zero_grad()\n",
        "\n",
        "          epoch_loss += loss.item()\n",
        "\n",
        "        \n",
        "        if verbose:\n",
        "          print(f\"Loss in epoch {epoch+1}\" + \" \"*(epoch<n_epochs-1) + f\": {epoch_loss:.2f}\")\n",
        "\n",
        "        losses.append(epoch_loss)\n",
        "\n",
        "    # Hint: you want to return a `vocab_size x embedding_size` numpy array\n",
        "    # Return embedding matrix\n",
        "    input_embedding_matrix = model.input_embed.weight.data[:-1,:].cpu().numpy()\n",
        "    output_embedding_matrix = model.output_embed.weight.data[:-1,:].cpu().numpy()\n",
        "\n",
        "    if embedding_type == 'input':\n",
        "      return input_embedding_matrix\n",
        "\n",
        "    elif embedding_type == 'output':\n",
        "      return output_embedding_matrix \n",
        "\n",
        "    elif embedding_type == 'combo':\n",
        "      return 1/2 * (input_embedding_matrix + output_embedding_matrix)"
      ],
      "execution_count": 27,
      "outputs": []
    },
    {
      "cell_type": "code",
      "metadata": {
        "id": "aaUy1cNuB3W1",
        "colab": {
          "base_uri": "https://localhost:8080/",
          "height": 389
        },
        "outputId": "42aed680-9f83-4374-951f-09ac1aa3228e"
      },
      "source": [
        "torch.manual_seed(0)\n",
        "\n",
        "# Parameters\n",
        "window_size = 2\n",
        "rep_size    = 500\n",
        "n_epochs    = 20\n",
        "n_batch     = 100\n",
        "device      = 'cuda'\n",
        "\n",
        "# Representations\n",
        "reps_word2vec = learn_reps_word2vec(train_reviews, window_size, rep_size, n_epochs, n_batch, embedding_type='combo', device=device)"
      ],
      "execution_count": 37,
      "outputs": [
        {
          "output_type": "display_data",
          "data": {
            "application/vnd.jupyter.widget-view+json": {
              "model_id": "7971164ed55f4f27ba21018be4d5ade7",
              "version_minor": 0,
              "version_major": 2
            },
            "text/plain": [
              "  0%|          | 0/20 [00:00<?, ?it/s]"
            ]
          },
          "metadata": {}
        },
        {
          "output_type": "stream",
          "name": "stdout",
          "text": [
            "Loss in epoch 1 : 5324427.93\n",
            "Loss in epoch 2 : 2754001.02\n",
            "Loss in epoch 3 : 2011723.58\n",
            "Loss in epoch 4 : 1657409.76\n",
            "Loss in epoch 5 : 1448847.80\n",
            "Loss in epoch 6 : 1311538.66\n",
            "Loss in epoch 7 : 1214296.53\n",
            "Loss in epoch 8 : 1142148.60\n",
            "Loss in epoch 9 : 1086168.52\n",
            "Loss in epoch 10 : 1042636.59\n",
            "Loss in epoch 11 : 1007288.99\n",
            "Loss in epoch 12 : 978813.63\n",
            "Loss in epoch 13 : 955203.75\n",
            "Loss in epoch 14 : 935688.31\n",
            "Loss in epoch 15 : 919503.30\n",
            "Loss in epoch 16 : 905613.56\n",
            "Loss in epoch 17 : 894046.54\n",
            "Loss in epoch 18 : 884378.53\n",
            "Loss in epoch 19 : 875927.59\n",
            "Loss in epoch 20: 868701.89\n"
          ]
        }
      ]
    },
    {
      "cell_type": "markdown",
      "metadata": {
        "id": "O3oE-tpR7I39"
      },
      "source": [
        "After training the embeddings, we can try to visualize the embedding space to see if it makes sense. First, we can take any word in the space and check its closest neighbors."
      ]
    },
    {
      "cell_type": "code",
      "metadata": {
        "id": "yMW4QND56bHF",
        "colab": {
          "base_uri": "https://localhost:8080/"
        },
        "outputId": "71477c0b-00a4-4904-e131-525b4fefc061"
      },
      "source": [
        "words = [\"good\", \"bad\", \"cookie\", \"jelly\", \"dog\", \"the\", \"3\"]\n",
        "show_tokens = [vectorizer.tokenizer.word_to_token[word] for word in words]\n",
        "lab_util.show_similar_words(vectorizer.tokenizer, reps_word2vec, show_tokens)"
      ],
      "execution_count": 38,
      "outputs": [
        {
          "output_type": "stream",
          "name": "stdout",
          "text": [
            "good 92\n",
            "  me 1.655\n",
            "  this 1.667\n",
            "  bit 1.686\n",
            "  taste 1.713\n",
            "  brew 1.723\n",
            "bad 250\n",
            "  wasn't 1.681\n",
            "  news 1.687\n",
            "  luck 1.709\n",
            "  goes 1.722\n",
            "  iced 1.726\n",
            "cookie 506\n",
            "  lemonade 1.657\n",
            "  ridiculous 1.690\n",
            "  bars 1.703\n",
            "  single 1.704\n",
            "  gluten 1.708\n",
            "jelly 1313\n",
            "  together 1.683\n",
            "  couple 1.697\n",
            "  licorice 1.714\n",
            "  bean 1.722\n",
            "  yummy 1.725\n",
            "dog 40\n",
            "  freeze 1.702\n",
            "  this 1.710\n",
            "  medium 1.711\n",
            "  foods 1.716\n",
            "  decent 1.728\n",
            "the 31\n",
            "  first 1.635\n",
            "  without 1.678\n",
            "  did 1.706\n",
            "  when 1.719\n",
            "  or 1.739\n",
            "3 327\n",
            "  2 1.623\n",
            "  up 1.657\n",
            "  99 1.673\n",
            "  2011 1.677\n",
            "  7 1.692\n"
          ]
        }
      ]
    },
    {
      "cell_type": "markdown",
      "metadata": {
        "id": "ue-9CPSc7fi9"
      },
      "source": [
        "We can also cluster the embedding space. Clustering in 4 or more dimensions is hard to visualize, and even clustering in 2 or 3 can be difficult because there are so many words in the vocabulary. One thing we can try to do is assign cluster labels and qualitiatively look for an underlying pattern in the clusters."
      ]
    },
    {
      "cell_type": "code",
      "metadata": {
        "id": "v-Yf6NMCXVx4",
        "colab": {
          "base_uri": "https://localhost:8080/"
        },
        "outputId": "6ecc4329-6bbe-4ecc-d60c-eaa398de50cb"
      },
      "source": [
        "from sklearn.cluster import KMeans\n",
        "\n",
        "indices = KMeans(n_clusters=10).fit_predict(reps_word2vec)\n",
        "zipped = list(zip(range(vectorizer.tokenizer.vocab_size), indices))\n",
        "np.random.shuffle(zipped)\n",
        "zipped = zipped[:100]\n",
        "zipped = sorted(zipped, key=lambda x: x[1], reverse=True)\n",
        "for token, cluster_idx in zipped:\n",
        "    word = vectorizer.tokenizer.token_to_word[token]\n",
        "    print(f\"{word}: {cluster_idx}\")"
      ],
      "execution_count": 39,
      "outputs": [
        {
          "output_type": "stream",
          "name": "stdout",
          "text": [
            "gas: 9\n",
            "turn: 9\n",
            "older: 9\n",
            "fairly: 9\n",
            "money: 9\n",
            "barely: 9\n",
            "myself: 9\n",
            "off: 9\n",
            "personally: 9\n",
            "popchips: 9\n",
            "state: 9\n",
            "bigger: 9\n",
            "getting: 9\n",
            "sticky: 9\n",
            "consider: 9\n",
            "work: 9\n",
            "receive: 9\n",
            "buy: 9\n",
            "last: 9\n",
            "none: 9\n",
            "balance: 8\n",
            "n: 8\n",
            "fat: 8\n",
            "prepared: 8\n",
            "rave: 8\n",
            "following: 8\n",
            "says: 8\n",
            "walmart: 7\n",
            "17: 7\n",
            "entirely: 7\n",
            "tin: 7\n",
            "beautiful: 7\n",
            "slightly: 7\n",
            "pouch: 7\n",
            "date: 7\n",
            "awesome: 7\n",
            "tastes: 7\n",
            "makes: 7\n",
            "dessert: 7\n",
            "putting: 7\n",
            "properly: 7\n",
            "themselves: 7\n",
            "effort: 5\n",
            "bay: 5\n",
            "concentrate: 5\n",
            "birthday: 5\n",
            "apples: 5\n",
            "shop: 5\n",
            "interested: 5\n",
            "taken: 5\n",
            "control: 5\n",
            "superb: 5\n",
            "mint: 5\n",
            "pepper: 5\n",
            "eaten: 5\n",
            "costs: 5\n",
            "cup: 5\n",
            "scratch: 5\n",
            "nor: 5\n",
            "clam: 5\n",
            "veggies: 5\n",
            "supposed: 5\n",
            "color: 5\n",
            "bake: 5\n",
            "beverages: 5\n",
            "tart: 5\n",
            "told: 5\n",
            "room: 4\n",
            "decaf: 4\n",
            "puree: 4\n",
            "falls: 4\n",
            "minute: 4\n",
            "previous: 3\n",
            "burnt: 3\n",
            "pain: 3\n",
            "paying: 3\n",
            "system: 3\n",
            "already: 3\n",
            "count: 3\n",
            "crazy: 3\n",
            "compared: 3\n",
            "flowers: 3\n",
            "dented: 3\n",
            "impossible: 3\n",
            "rose: 3\n",
            "are: 1\n",
            "more: 1\n",
            "sold: 1\n",
            "half: 1\n",
            "coffees: 1\n",
            "prepare: 1\n",
            "years: 1\n",
            "and: 1\n",
            "husband: 1\n",
            "remember: 1\n",
            "convenient: 1\n",
            "need: 1\n",
            "away: 1\n",
            "or: 1\n",
            "put: 1\n"
          ]
        }
      ]
    },
    {
      "cell_type": "markdown",
      "metadata": {
        "id": "ci1TkENU78Wn"
      },
      "source": [
        "Finally, we can use the trained word embeddings to construct vector representations of full reviews. One common approach is to simply average all the word embeddings in the review to create an overall embedding. Implement the transform function in Word2VecFeaturizer to do this."
      ]
    },
    {
      "cell_type": "code",
      "metadata": {
        "id": "A5vjmRV6Dgbu",
        "colab": {
          "base_uri": "https://localhost:8080/"
        },
        "outputId": "628345f9-5ecc-419b-96fd-2021c9762228"
      },
      "source": [
        "def w2v_featurizer(xs, reps, idf_weighting = False):\n",
        "    # This function takes in a matrix in which each row contains the word counts\n",
        "    # for the given review. It should return a matrix in which each row contains\n",
        "    # the average Word2Vec embedding of each review (hint: this will be very\n",
        "    # similar to `lsa_featurizer` from above, just using Word2Vec embeddings \n",
        "    # instead of LSA).\n",
        "\n",
        "    feats = np.zeros((xs.shape[0],reps.shape[1]))\n",
        "\n",
        "    if idf_weighting:\n",
        "      idf = idf_matrix(xs.T, 'idf')\n",
        "    else:\n",
        "      idf = np.ones_like(feats[0,:])\n",
        "\n",
        "    for i in range(xs.shape[0]):\n",
        "      doc_wordCount = (xs[i,:] > 0).T.reshape((-1,1))\n",
        "      feats[i,:] = np.sum(doc_wordCount * idf * reps,axis=0, keepdims=True)\n",
        "\n",
        "    # normalize\n",
        "    return feats / np.sqrt((feats ** 2).sum(axis=1, keepdims=True))\n",
        "\n",
        "training_experiment('word2vec', 3000, LogisticRegression(), w2v_featurizer, featurizer_args=[reps_word2vec], verbose=True)\n",
        "print()"
      ],
      "execution_count": 44,
      "outputs": [
        {
          "output_type": "stream",
          "name": "stdout",
          "text": [
            "word2vec features, 3000 examples\n",
            "Accuracy is 77.60%\n",
            "\n",
            "\n"
          ]
        }
      ]
    },
    {
      "cell_type": "markdown",
      "metadata": {
        "id": "XSfoQbxaXtfH"
      },
      "source": [
        "**Part 2: Lab writeup**\n",
        "\n",
        "Part 2 of your lab report should discuss any implementation details that were important to filling out the code above, as well as your answers to the questions in Part 2 of the Homework 2 handout. Below, you can set up and perform experiments that answer these questions (include figures, plots, and tables in your write-up as you see fit)."
      ]
    },
    {
      "cell_type": "markdown",
      "metadata": {
        "id": "Beb7dgqWycYx"
      },
      "source": [
        "## Experiments for Part 2"
      ]
    },
    {
      "cell_type": "markdown",
      "metadata": {
        "id": "J2DFSxjlAscu"
      },
      "source": [
        "### Different context sizes"
      ]
    },
    {
      "cell_type": "code",
      "metadata": {
        "id": "SomB19-yAq8s",
        "outputId": "d605dd35-1804-4ad0-9ff8-a2f409449ea5",
        "colab": {
          "base_uri": "https://localhost:8080/",
          "height": 49
        }
      },
      "source": [
        "torch.manual_seed(0)\n",
        "\n",
        "# Parameters for W2V\n",
        "window_sizes = [2*x for x in range(1,6)]\n",
        "rep_size    = 500\n",
        "n_epochs    = 20\n",
        "n_batch     = 100\n",
        "device      = 'cuda'\n",
        "embedding_type = 'combo'\n",
        "\n",
        "# Parameters for classification\n",
        "n_train = 3000\n",
        "model = LogisticRegression()\n",
        "featurizer = w2v_featurizer\n",
        "\n",
        "# Initialize accuracy and representation lists\n",
        "accs_word2vec_window_size = []\n",
        "reps_word2vec_window_size = []\n",
        "\n",
        "for window_size in window_sizes:\n",
        "  reps_word2vec_window_size.append(learn_reps_word2vec(train_reviews, window_size, rep_size, \n",
        "                                      n_epochs, n_batch, embedding_type=embedding_type, \n",
        "                                      device=device, verbose=False))\n",
        "\n",
        "  accs_word2vec_window_size.append(\n",
        "      training_experiment('word2vec', n_train, model, featurizer, \n",
        "                          featurizer_args=[reps_word2vec_window_size[-1]],\n",
        "                          featurizer_kwargs={idf_weighting:True}, \n",
        "                          verbose=False))"
      ],
      "execution_count": null,
      "outputs": [
        {
          "output_type": "display_data",
          "data": {
            "application/vnd.jupyter.widget-view+json": {
              "model_id": "d7792a3ef9ae4ca4a5edecc47d66646d",
              "version_minor": 0,
              "version_major": 2
            },
            "text/plain": [
              "  0%|          | 0/20 [00:00<?, ?it/s]"
            ]
          },
          "metadata": {}
        }
      ]
    },
    {
      "cell_type": "code",
      "metadata": {
        "id": "a2ivYxPZBXAA"
      },
      "source": [
        "offset = (0,1)\n",
        "fig, ax = plt.subplots()\n",
        "ax.spines['top'].set_visible(False)\n",
        "ax.spines['right'].set_visible(False)\n",
        "\n",
        "x = window_sizes\n",
        "y = [acc*100 for acc in accs_word2vec_window_size]\n",
        "sns.lineplot(x=x, y=y, marker='o', ax=ax)\n",
        "\n",
        "for i in range(len(accs_word2vec_window_size)):\n",
        "  s = f'{y[i]:.1f}%'\n",
        "  ax.text(x=x[i]+offset[0], \n",
        "          y=y[i]+offset[1],\n",
        "          rotation=45,\n",
        "          fontsize=8,\n",
        "          s=s)\n",
        "\n",
        "plt.yticks([65 + 5*x for x in range(6)])\n",
        "plt.ylabel(\"Accuracy (%)\")\n",
        "plt.xticks(2*window_sizes)\n",
        "plt.xlabel(\"Context size (one sided)\")\n",
        "\n",
        "fig.show()"
      ],
      "execution_count": null,
      "outputs": []
    },
    {
      "cell_type": "markdown",
      "metadata": {
        "id": "67knU2475Iaq"
      },
      "source": [
        "### Different embedding matrices"
      ]
    },
    {
      "cell_type": "code",
      "metadata": {
        "id": "BaACdr1Y5Khp"
      },
      "source": [
        "torch.manual_seed(0)\n",
        "\n",
        "# Parameters for W2V\n",
        "window_size = 2\n",
        "rep_size    = 500\n",
        "n_epochs    = 20\n",
        "n_batch     = 100\n",
        "device      = 'cuda'\n",
        "\n",
        "# Parameters for classification\n",
        "n_train = 3000\n",
        "embedding_types = ['input', 'output', 'combo']\n",
        "model = LogisticRegression()\n",
        "featurizer = w2v_featurizer\n",
        "\n",
        "# Initialize accuracy and representation lists\n",
        "accs_word2vec_embed_type = []\n",
        "reps_word2vec_embed_type = []\n",
        "\n",
        "for embedding_type in embedding_types:\n",
        "  reps_word2vec_embed_type.append(learn_reps_word2vec(train_reviews, window_size, rep_size, \n",
        "                                      n_epochs, n_batch, embedding_type=embedding_type, \n",
        "                                      device=device, verbose=False))\n",
        "\n",
        "  accs_word2vec_embed_type.append(\n",
        "      training_experiment('word2vec', n_train, model, featurizer, \n",
        "                          featurizer_args=[reps_word2vec_embed_type[-1]], \n",
        "                          featurizer_kwargs={idf_weighting:True}, \n",
        "                          verbose=False))"
      ],
      "execution_count": null,
      "outputs": []
    },
    {
      "cell_type": "code",
      "metadata": {
        "id": "3NgCyfhj7r7U"
      },
      "source": [
        "offset = (0,1)\n",
        "fig, ax = plt.subplots()\n",
        "ax.spines['top'].set_visible(False)\n",
        "ax.spines['right'].set_visible(False)\n",
        "\n",
        "x = embedding_types\n",
        "y = [acc*100 for acc in accs_word2vec_embed_type]\n",
        "sns.lineplot(x=x, y=y, marker='o', ax=ax)\n",
        "\n",
        "for i in range(len(accs_word2vec_embed_type)):\n",
        "  s = f'{y[i]:.1f}%'\n",
        "  ax.text(x=i+offset[0], \n",
        "          y=y[i]+offset[1],\n",
        "          rotation=45,\n",
        "          fontsize=8,\n",
        "          s=s)\n",
        "\n",
        "plt.yticks([65 + 5*x for x in range(6)])\n",
        "plt.ylabel(\"Accuracy (%)\")\n",
        "plt.xticks(np.arange(len(embedding_types)), embedding_types, rotation=-45, rotation_mode='anchor', horizontalalignment=\"left\")\n",
        "plt.xlabel(\"Embedding type\")\n",
        "# plt.legend(loc='lower right')\n",
        "\n",
        "fig.show()"
      ],
      "execution_count": null,
      "outputs": []
    },
    {
      "cell_type": "markdown",
      "metadata": {
        "id": "Lux3Rq_R3Fmm"
      },
      "source": [
        "### Different classifiers"
      ]
    },
    {
      "cell_type": "code",
      "metadata": {
        "id": "obr-zEmNydDm"
      },
      "source": [
        "torch.manual_seed(0)\n",
        "\n",
        "# Parameters for W2V\n",
        "window_size = 2\n",
        "rep_size    = 500\n",
        "n_epochs    = 20\n",
        "n_batch     = 100\n",
        "device      = 'cuda'\n",
        "\n",
        "\n",
        "# Different classifiers\n",
        "n_train = 3000\n",
        "models = [LogisticRegression(), RandomForestClassifier(), LinearSVC(), \n",
        "          MLPClassifier(), QuadraticDiscriminantAnalysis(), \n",
        "          KNeighborsClassifier(n_neighbors=3),KNeighborsClassifier(n_neighbors=5)]\n",
        "model_names = ['Logit', 'Random Forest', 'SVM', 'MLP', 'QDA', '3-NN', '5-NN']\n",
        "\n",
        "featurizer = w2v_featurizer\n",
        "\n",
        "# Initialize accuracy list\n",
        "accs_word2vec_classifiers = []\n",
        "\n",
        "# Representations\n",
        "reps_word2vec = learn_reps_word2vec(train_reviews, window_size, rep_size, n_epochs, n_batch, embedding_type='combo', device=device)\n",
        "\n",
        "for model in tqdm(models):\n",
        "  accs_word2vec_classifiers.append(\n",
        "      training_experiment('word2vec', n_train, model, featurizer, \n",
        "                          featurizer_args=[reps_word2vec], \n",
        "                          featurizer_kwargs={idf_weighting:True}, \n",
        "                          verbose=False))"
      ],
      "execution_count": null,
      "outputs": []
    },
    {
      "cell_type": "code",
      "metadata": {
        "id": "W9Q5jW9t3wdc"
      },
      "source": [
        "offset = (0,1)\n",
        "fig, ax = plt.subplots()\n",
        "ax.spines['top'].set_visible(False)\n",
        "ax.spines['right'].set_visible(False)\n",
        "features = ['word', 'lsa', 'combo', 'word2vec']\n",
        "\n",
        "for feature in features:\n",
        "  x = model_names\n",
        "\n",
        "  if feature == 'word2vec':\n",
        "    y = [acc*100 for acc in accs_word2vec_classifiers]\n",
        "\n",
        "  else:\n",
        "    y = [acc*100 for acc in accs_classifiers[feature]]\n",
        "\n",
        "  sns.lineplot(x=x, y=y, label=feature, marker='o', ax=ax)\n",
        "\n",
        "for i in range(len(model_names)):\n",
        "  max_acc = max([accs_classifiers[feature][i] for feature in features if feature != 'word2vec'])\n",
        "  max_acc = max([max_acc, accs_word2vec_classifiers[i]])*100\n",
        "\n",
        "  s = f'{max_acc:.1f}%'\n",
        "  ax.text(x=i+offset[0], \n",
        "          y=max_acc+offset[1],\n",
        "          rotation=45,\n",
        "          fontsize=8,\n",
        "          s=s)\n",
        "\n",
        "plt.yticks([55 + 5*x for x in range(8)])\n",
        "plt.ylabel(\"Accuracy (%)\")\n",
        "plt.xticks(np.arange(len(model_names)), model_names, rotation=-45, rotation_mode='anchor', horizontalalignment=\"left\")\n",
        "plt.xlabel(\"Model\")\n",
        "plt.legend(loc='lower left')\n",
        "\n",
        "fig.show()"
      ],
      "execution_count": null,
      "outputs": []
    }
  ]
}