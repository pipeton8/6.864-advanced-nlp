{
  "nbformat": 4,
  "nbformat_minor": 0,
  "metadata": {
    "colab": {
      "name": "hw2.ipynb",
      "provenance": [],
      "collapsed_sections": [],
      "machine_shape": "hm",
      "include_colab_link": true
    },
    "kernelspec": {
      "name": "python3",
      "display_name": "Python 3"
    },
    "widgets": {
      "application/vnd.jupyter.widget-state+json": {
        "64cad37d2bc94bc7adb2b71f62d7277b": {
          "model_module": "@jupyter-widgets/controls",
          "model_name": "HBoxModel",
          "model_module_version": "1.5.0",
          "state": {
            "_view_name": "HBoxView",
            "_dom_classes": [],
            "_model_name": "HBoxModel",
            "_view_module": "@jupyter-widgets/controls",
            "_model_module_version": "1.5.0",
            "_view_count": null,
            "_view_module_version": "1.5.0",
            "box_style": "",
            "layout": "IPY_MODEL_0bbf1acd833d4290b8adbe580063bf05",
            "_model_module": "@jupyter-widgets/controls",
            "children": [
              "IPY_MODEL_ab7a2de9cf8c4951bacff980a8756203",
              "IPY_MODEL_65cb3a779c094a6f914a7a969c4186f7",
              "IPY_MODEL_4d87190b9eff4f5d8821e64144e0e6bf"
            ]
          }
        },
        "0bbf1acd833d4290b8adbe580063bf05": {
          "model_module": "@jupyter-widgets/base",
          "model_name": "LayoutModel",
          "model_module_version": "1.2.0",
          "state": {
            "_view_name": "LayoutView",
            "grid_template_rows": null,
            "right": null,
            "justify_content": null,
            "_view_module": "@jupyter-widgets/base",
            "overflow": null,
            "_model_module_version": "1.2.0",
            "_view_count": null,
            "flex_flow": null,
            "width": null,
            "min_width": null,
            "border": null,
            "align_items": null,
            "bottom": null,
            "_model_module": "@jupyter-widgets/base",
            "top": null,
            "grid_column": null,
            "overflow_y": null,
            "overflow_x": null,
            "grid_auto_flow": null,
            "grid_area": null,
            "grid_template_columns": null,
            "flex": null,
            "_model_name": "LayoutModel",
            "justify_items": null,
            "grid_row": null,
            "max_height": null,
            "align_content": null,
            "visibility": null,
            "align_self": null,
            "height": null,
            "min_height": null,
            "padding": null,
            "grid_auto_rows": null,
            "grid_gap": null,
            "max_width": null,
            "order": null,
            "_view_module_version": "1.2.0",
            "grid_template_areas": null,
            "object_position": null,
            "object_fit": null,
            "grid_auto_columns": null,
            "margin": null,
            "display": null,
            "left": null
          }
        },
        "ab7a2de9cf8c4951bacff980a8756203": {
          "model_module": "@jupyter-widgets/controls",
          "model_name": "HTMLModel",
          "model_module_version": "1.5.0",
          "state": {
            "_view_name": "HTMLView",
            "style": "IPY_MODEL_372c7bb7c78a400cb62f031fb126c023",
            "_dom_classes": [],
            "description": "",
            "_model_name": "HTMLModel",
            "placeholder": "​",
            "_view_module": "@jupyter-widgets/controls",
            "_model_module_version": "1.5.0",
            "value": "100%",
            "_view_count": null,
            "_view_module_version": "1.5.0",
            "description_tooltip": null,
            "_model_module": "@jupyter-widgets/controls",
            "layout": "IPY_MODEL_ae4264a5460142119e18a711c8f270fd"
          }
        },
        "65cb3a779c094a6f914a7a969c4186f7": {
          "model_module": "@jupyter-widgets/controls",
          "model_name": "FloatProgressModel",
          "model_module_version": "1.5.0",
          "state": {
            "_view_name": "ProgressView",
            "style": "IPY_MODEL_a690551088e04dd9a2616fda9079cf91",
            "_dom_classes": [],
            "description": "",
            "_model_name": "FloatProgressModel",
            "bar_style": "success",
            "max": 10,
            "_view_module": "@jupyter-widgets/controls",
            "_model_module_version": "1.5.0",
            "value": 10,
            "_view_count": null,
            "_view_module_version": "1.5.0",
            "orientation": "horizontal",
            "min": 0,
            "description_tooltip": null,
            "_model_module": "@jupyter-widgets/controls",
            "layout": "IPY_MODEL_16d24070dce649449878923131417ff3"
          }
        },
        "4d87190b9eff4f5d8821e64144e0e6bf": {
          "model_module": "@jupyter-widgets/controls",
          "model_name": "HTMLModel",
          "model_module_version": "1.5.0",
          "state": {
            "_view_name": "HTMLView",
            "style": "IPY_MODEL_9c1f514e15a545faa1fef924eeae097b",
            "_dom_classes": [],
            "description": "",
            "_model_name": "HTMLModel",
            "placeholder": "​",
            "_view_module": "@jupyter-widgets/controls",
            "_model_module_version": "1.5.0",
            "value": " 10/10 [05:18&lt;00:00, 43.69s/it]",
            "_view_count": null,
            "_view_module_version": "1.5.0",
            "description_tooltip": null,
            "_model_module": "@jupyter-widgets/controls",
            "layout": "IPY_MODEL_b42ce8b17caa457fa41652f30b1676a5"
          }
        },
        "372c7bb7c78a400cb62f031fb126c023": {
          "model_module": "@jupyter-widgets/controls",
          "model_name": "DescriptionStyleModel",
          "model_module_version": "1.5.0",
          "state": {
            "_view_name": "StyleView",
            "_model_name": "DescriptionStyleModel",
            "description_width": "",
            "_view_module": "@jupyter-widgets/base",
            "_model_module_version": "1.5.0",
            "_view_count": null,
            "_view_module_version": "1.2.0",
            "_model_module": "@jupyter-widgets/controls"
          }
        },
        "ae4264a5460142119e18a711c8f270fd": {
          "model_module": "@jupyter-widgets/base",
          "model_name": "LayoutModel",
          "model_module_version": "1.2.0",
          "state": {
            "_view_name": "LayoutView",
            "grid_template_rows": null,
            "right": null,
            "justify_content": null,
            "_view_module": "@jupyter-widgets/base",
            "overflow": null,
            "_model_module_version": "1.2.0",
            "_view_count": null,
            "flex_flow": null,
            "width": null,
            "min_width": null,
            "border": null,
            "align_items": null,
            "bottom": null,
            "_model_module": "@jupyter-widgets/base",
            "top": null,
            "grid_column": null,
            "overflow_y": null,
            "overflow_x": null,
            "grid_auto_flow": null,
            "grid_area": null,
            "grid_template_columns": null,
            "flex": null,
            "_model_name": "LayoutModel",
            "justify_items": null,
            "grid_row": null,
            "max_height": null,
            "align_content": null,
            "visibility": null,
            "align_self": null,
            "height": null,
            "min_height": null,
            "padding": null,
            "grid_auto_rows": null,
            "grid_gap": null,
            "max_width": null,
            "order": null,
            "_view_module_version": "1.2.0",
            "grid_template_areas": null,
            "object_position": null,
            "object_fit": null,
            "grid_auto_columns": null,
            "margin": null,
            "display": null,
            "left": null
          }
        },
        "a690551088e04dd9a2616fda9079cf91": {
          "model_module": "@jupyter-widgets/controls",
          "model_name": "ProgressStyleModel",
          "model_module_version": "1.5.0",
          "state": {
            "_view_name": "StyleView",
            "_model_name": "ProgressStyleModel",
            "description_width": "",
            "_view_module": "@jupyter-widgets/base",
            "_model_module_version": "1.5.0",
            "_view_count": null,
            "_view_module_version": "1.2.0",
            "bar_color": null,
            "_model_module": "@jupyter-widgets/controls"
          }
        },
        "16d24070dce649449878923131417ff3": {
          "model_module": "@jupyter-widgets/base",
          "model_name": "LayoutModel",
          "model_module_version": "1.2.0",
          "state": {
            "_view_name": "LayoutView",
            "grid_template_rows": null,
            "right": null,
            "justify_content": null,
            "_view_module": "@jupyter-widgets/base",
            "overflow": null,
            "_model_module_version": "1.2.0",
            "_view_count": null,
            "flex_flow": null,
            "width": null,
            "min_width": null,
            "border": null,
            "align_items": null,
            "bottom": null,
            "_model_module": "@jupyter-widgets/base",
            "top": null,
            "grid_column": null,
            "overflow_y": null,
            "overflow_x": null,
            "grid_auto_flow": null,
            "grid_area": null,
            "grid_template_columns": null,
            "flex": null,
            "_model_name": "LayoutModel",
            "justify_items": null,
            "grid_row": null,
            "max_height": null,
            "align_content": null,
            "visibility": null,
            "align_self": null,
            "height": null,
            "min_height": null,
            "padding": null,
            "grid_auto_rows": null,
            "grid_gap": null,
            "max_width": null,
            "order": null,
            "_view_module_version": "1.2.0",
            "grid_template_areas": null,
            "object_position": null,
            "object_fit": null,
            "grid_auto_columns": null,
            "margin": null,
            "display": null,
            "left": null
          }
        },
        "9c1f514e15a545faa1fef924eeae097b": {
          "model_module": "@jupyter-widgets/controls",
          "model_name": "DescriptionStyleModel",
          "model_module_version": "1.5.0",
          "state": {
            "_view_name": "StyleView",
            "_model_name": "DescriptionStyleModel",
            "description_width": "",
            "_view_module": "@jupyter-widgets/base",
            "_model_module_version": "1.5.0",
            "_view_count": null,
            "_view_module_version": "1.2.0",
            "_model_module": "@jupyter-widgets/controls"
          }
        },
        "b42ce8b17caa457fa41652f30b1676a5": {
          "model_module": "@jupyter-widgets/base",
          "model_name": "LayoutModel",
          "model_module_version": "1.2.0",
          "state": {
            "_view_name": "LayoutView",
            "grid_template_rows": null,
            "right": null,
            "justify_content": null,
            "_view_module": "@jupyter-widgets/base",
            "overflow": null,
            "_model_module_version": "1.2.0",
            "_view_count": null,
            "flex_flow": null,
            "width": null,
            "min_width": null,
            "border": null,
            "align_items": null,
            "bottom": null,
            "_model_module": "@jupyter-widgets/base",
            "top": null,
            "grid_column": null,
            "overflow_y": null,
            "overflow_x": null,
            "grid_auto_flow": null,
            "grid_area": null,
            "grid_template_columns": null,
            "flex": null,
            "_model_name": "LayoutModel",
            "justify_items": null,
            "grid_row": null,
            "max_height": null,
            "align_content": null,
            "visibility": null,
            "align_self": null,
            "height": null,
            "min_height": null,
            "padding": null,
            "grid_auto_rows": null,
            "grid_gap": null,
            "max_width": null,
            "order": null,
            "_view_module_version": "1.2.0",
            "grid_template_areas": null,
            "object_position": null,
            "object_fit": null,
            "grid_auto_columns": null,
            "margin": null,
            "display": null,
            "left": null
          }
        }
      }
    }
  },
  "cells": [
    {
      "cell_type": "markdown",
      "metadata": {
        "id": "view-in-github",
        "colab_type": "text"
      },
      "source": [
        "<a href=\"https://colab.research.google.com/github/pipeton8/6.864-advanced-nlp/blob/main/Assignments/Assignment%202/hw2.ipynb\" target=\"_parent\"><img src=\"https://colab.research.google.com/assets/colab-badge.svg\" alt=\"Open In Colab\"/></a>"
      ]
    },
    {
      "cell_type": "code",
      "metadata": {
        "id": "FU7xWiY6TyWS",
        "outputId": "ba874b13-9a2f-4f22-fae4-5fbf2b5110dd",
        "colab": {
          "base_uri": "https://localhost:8080/"
        }
      },
      "source": [
        "%%bash\n",
        "!(stat -t /usr/local/lib/*/dist-packages/google/colab > /dev/null 2>&1) && exit \n",
        "rm -rf hw2\n",
        "git clone https://github.com/mit-6864/hw2.git"
      ],
      "execution_count": 1,
      "outputs": [
        {
          "output_type": "stream",
          "name": "stderr",
          "text": [
            "Cloning into 'hw2'...\n"
          ]
        }
      ]
    },
    {
      "cell_type": "code",
      "metadata": {
        "id": "A0MHaHrdUACZ"
      },
      "source": [
        "import sys\n",
        "sys.path.append(\"/content/hw2\")\n",
        "\n",
        "import csv\n",
        "import itertools as it\n",
        "import numpy as np\n",
        "import sklearn.decomposition\n",
        "np.random.seed(0)\n",
        "from tqdm.auto import tqdm\n",
        "import matplotlib.pyplot as plt\n",
        "import seaborn as sns\n",
        "\n",
        "import lab_util"
      ],
      "execution_count": 37,
      "outputs": []
    },
    {
      "cell_type": "markdown",
      "metadata": {
        "id": "cZ3MUj4iUf76"
      },
      "source": [
        "# Introduction\n",
        "\n",
        "In this notebook, you will find code scaffolding for the implementation portion of Homework 2. There are certain parts of the scaffolding marked with `# Your code here!` comments where you can fill in code to perform the specified tasks. After implementing the methods in this notebook, you will need to design and perform experiments to evaluate each method and respond to the questions in the Homework 2 handout (available on Canvas). You should be able to complete this assignment without changing any of the scaffolding code, just writing code to fill in the scaffolding and run experiments."
      ]
    },
    {
      "cell_type": "markdown",
      "metadata": {
        "id": "gG654Y9J3yHw"
      },
      "source": [
        "## Dataset\n",
        "\n",
        "We're going to be working with a dataset of product reviews. The following cell loads the dataset and splits it into training, validation, and test sets."
      ]
    },
    {
      "cell_type": "code",
      "metadata": {
        "id": "JwiX-Tc9V1xI",
        "outputId": "09c63ad3-8825-4f96-e45e-b5d57851f9f6",
        "colab": {
          "base_uri": "https://localhost:8080/"
        }
      },
      "source": [
        "data = []\n",
        "n_positive = 0\n",
        "n_disp = 0\n",
        "\n",
        "with open(\"/content/hw2/reviews.csv\") as reader:\n",
        "  csvreader = csv.reader(reader)\n",
        "  next(csvreader)\n",
        "  for id, review, label in csvreader:\n",
        "    label = int(label)\n",
        "\n",
        "    # hacky class balancing\n",
        "    if label == 1:\n",
        "      if n_positive == 2000:\n",
        "        continue\n",
        "\n",
        "      n_positive += 1\n",
        "\n",
        "    if len(data) == 4000:\n",
        "      break\n",
        "\n",
        "    data.append((review, label))\n",
        "    \n",
        "    if n_disp > 5:\n",
        "      continue\n",
        "\n",
        "    n_disp += 1\n",
        "\n",
        "    print(\"review:\", review)\n",
        "    print(\"rating:\", label, \"(good)\" if label == 1 else \"(bad)\")\n",
        "    print()\n",
        "\n",
        "print(f\"Read {len(data)} total reviews.\")\n",
        "\n",
        "# Shuffle before splitting\n",
        "np.random.shuffle(data)\n",
        "reviews, labels = zip(*data)\n",
        "\n",
        "# Training (3000 samples)\n",
        "train_reviews = reviews[:3000]\n",
        "train_labels = labels[:3000]\n",
        "\n",
        "# Validation (500 samples)\n",
        "val_reviews = reviews[3000:3500]\n",
        "val_labels = labels[3000:3500]\n",
        "\n",
        "# Testing (500 samples)\n",
        "test_reviews = reviews[3500:]\n",
        "test_labels = labels[3500:]"
      ],
      "execution_count": 3,
      "outputs": [
        {
          "output_type": "stream",
          "name": "stdout",
          "text": [
            "review: I have bought several of the Vitality canned dog food products and have found them all to be of good quality. The product looks more like a stew than a processed meat and it smells better. My Labrador is finicky and she appreciates this product better than  most.\n",
            "rating: 1 (good)\n",
            "\n",
            "review: Product arrived labeled as Jumbo Salted Peanuts...the peanuts were actually small sized unsalted. Not sure if this was an error or if the vendor intended to represent the product as \"Jumbo\".\n",
            "rating: 0 (bad)\n",
            "\n",
            "review: This is a confection that has been around a few centuries.  It is a light, pillowy citrus gelatin with nuts - in this case Filberts. And it is cut into tiny squares and then liberally coated with powdered sugar.  And it is a tiny mouthful of heaven.  Not too chewy, and very flavorful.  I highly recommend this yummy treat.  If you are familiar with the story of C.S. Lewis' \"The Lion, The Witch, and The Wardrobe\" - this is the treat that seduces Edmund into selling out his Brother and Sisters to the Witch.\n",
            "rating: 1 (good)\n",
            "\n",
            "review: If you are looking for the secret ingredient in Robitussin I believe I have found it.  I got this in addition to the Root Beer Extract I ordered (which was good) and made some cherry soda.  The flavor is very medicinal.\n",
            "rating: 0 (bad)\n",
            "\n",
            "review: Great taffy at a great price.  There was a wide assortment of yummy taffy.  Delivery was very quick.  If your a taffy lover, this is a deal.\n",
            "rating: 1 (good)\n",
            "\n",
            "review: I got a wild hair for taffy and ordered this five pound bag. The taffy was all very enjoyable with many flavors: watermelon, root beer, melon, peppermint, grape, etc. My only complaint is there was a bit too much red/black licorice-flavored pieces (just not my particular favorites). Between me, my kids, and my husband, this lasted only two weeks! I would recommend this brand of taffy -- it was a delightful treat.\n",
            "rating: 1 (good)\n",
            "\n",
            "Read 4000 total reviews.\n"
          ]
        }
      ]
    },
    {
      "cell_type": "markdown",
      "metadata": {
        "id": "twLHWqM6Z5xD"
      },
      "source": [
        "# Part 1: word representations via matrix factorization\n",
        "\n",
        "First, we'll construct the term-document matrix (look at `/content/hw2/lab_util.py` in the file browser on the left if you want to see how this works)."
      ]
    },
    {
      "cell_type": "code",
      "metadata": {
        "id": "3WPt6Y7-Z_7P",
        "outputId": "e6fc86c4-6a70-4fab-a2dd-5c2bfeef93ca",
        "colab": {
          "base_uri": "https://localhost:8080/"
        }
      },
      "source": [
        "vectorizer = lab_util.CountVectorizer()\n",
        "vectorizer.fit(train_reviews)\n",
        "td_matrix = vectorizer.transform(train_reviews).T\n",
        "print(f\"TD matrix is {td_matrix.shape[0]} x {td_matrix.shape[1]}\")"
      ],
      "execution_count": 4,
      "outputs": [
        {
          "output_type": "stream",
          "name": "stdout",
          "text": [
            "TD matrix is 2006 x 3000\n"
          ]
        }
      ]
    },
    {
      "cell_type": "markdown",
      "metadata": {
        "id": "hd3-pw4XbD4B"
      },
      "source": [
        "First, implement the function `learn_reps_lsa` that computes word representations via latent semantic analysis. The `sklearn.decomposition` or `np.linalg` packages may be useful."
      ]
    },
    {
      "cell_type": "code",
      "metadata": {
        "id": "NJvWh9jbF5QX",
        "outputId": "d63c0924-1c3d-4cdc-e568-2ef9a2305c64",
        "colab": {
          "base_uri": "https://localhost:8080/"
        }
      },
      "source": [
        "print(a)\n",
        "b = a.max(axis=1,keepdims=True)\n",
        "print(b)\n",
        "print(a/b)"
      ],
      "execution_count": 29,
      "outputs": [
        {
          "output_type": "stream",
          "name": "stdout",
          "text": [
            "[[0 1]\n",
            " [2 3]]\n",
            "[[1]\n",
            " [3]]\n",
            "[[0.         1.        ]\n",
            " [0.66666667 1.        ]]\n"
          ]
        }
      ]
    },
    {
      "cell_type": "code",
      "metadata": {
        "id": "KASVs8KubeBE"
      },
      "source": [
        "def idf_matrix(matrix, idf_weight = 'idf'):\n",
        "  \"\"\" Given a |V| x n TD matrix, returns the |V| IDF vector associated, where\n",
        "      idf(w) = log (# documents / # documents that contain w)\n",
        "  \"\"\"\n",
        "  reviews_per_word = np.sum(matrix > 0, axis=1, keepdims=True)\n",
        "  reviews = matrix.shape[1]\n",
        "\n",
        "  if idf_weight == 'idf':\n",
        "    return np.log(reviews/(1+reviews_per_word))\n",
        "\n",
        "def tf_matrix(matrix, tf_weight = 'raw'):\n",
        "  \"\"\"\n",
        "    Given a |V| x n TD matrix, returns the |V| x n tf matrix, weighted according\n",
        "    to tf_weight.\n",
        "  \"\"\"\n",
        "\n",
        "  if tf_weight == 'raw':\n",
        "    tf_matrix = matrix\n",
        "\n",
        "  elif tf_weight == 'term frequency':\n",
        "    tf_matrix = matrix/matrix.sum()\n",
        "\n",
        "  elif tf_weight == 'log normalization':\n",
        "    tf_matrix = np.log(1+matrix)\n",
        "\n",
        "  elif tf_weight.find('double') != -1:\n",
        "    try:\n",
        "      k = int(tf_weight[-1])\n",
        "      tf_matrix =  k + (1-k) * matrix/matrix.max(axis=0,keepdims=True)\n",
        "    except:\n",
        "      print(\"Double-k misspecified, raw weight applied\")\n",
        "      tf_matrix = matrix\n",
        "\n",
        "  return tf_matrix\n",
        "\n",
        "def learn_reps_lsa(matrix, rep_size, tf_weight='raw', tf_idf=False, idf_weight='idf'):\n",
        "    # `matrix` is a `|V| x n` matrix (usually a TD matrix), \n",
        "    # where `|V|` is the number of words in the vocabulary and `n`\n",
        "    # is the number of reviews in the (training) corpus.\n",
        "    # This function should return a `|V| x rep_size` matrix with each\n",
        "    # row corresponding to a word representation.\n",
        "    \n",
        "    LSA_matrix = tf_matrix(matrix,tf_weight)\n",
        "\n",
        "    if tf_idf:\n",
        "      # Get IDF vector\n",
        "      idf = idf_matrix(matrix, idf_weight)\n",
        "\n",
        "      # Compute TF-IDF matrix\n",
        "      LSA_matrix = LSA_matrix * idf\n",
        "\n",
        "    # Initialize svd object\n",
        "    svd = sklearn.decomposition.TruncatedSVD(n_components=rep_size)\n",
        "\n",
        "    # Decompose TF-IDF matrix\n",
        "    return svd.fit_transform(LSA_matrix)"
      ],
      "execution_count": 62,
      "outputs": []
    },
    {
      "cell_type": "markdown",
      "metadata": {
        "id": "SKWzRC0dclVK"
      },
      "source": [
        "Let's look at some representations:"
      ]
    },
    {
      "cell_type": "code",
      "metadata": {
        "id": "YmRFpxYx61BM"
      },
      "source": [
        "words = [\"good\", \"bad\", \"cookie\", \"jelly\", \"dog\", \"the\", \"3\"]\n",
        "show_tokens = [vectorizer.tokenizer.word_to_token[word] for word in words]"
      ],
      "execution_count": 7,
      "outputs": []
    },
    {
      "cell_type": "code",
      "metadata": {
        "id": "XQJyABwM5RwN",
        "outputId": "351cc0be-9f32-4a9c-bc43-eeade6739df6",
        "colab": {
          "base_uri": "https://localhost:8080/"
        }
      },
      "source": [
        "reps = learn_reps_lsa(td_matrix, 500)\n",
        "lab_util.show_similar_words(vectorizer.tokenizer, reps, show_tokens)"
      ],
      "execution_count": 8,
      "outputs": [
        {
          "output_type": "stream",
          "name": "stdout",
          "text": [
            "good 47\n",
            "  . 1.056\n",
            "  a 1.101\n",
            "  but 1.121\n",
            "  , 1.152\n",
            "  the 1.157\n",
            "bad 201\n",
            "  . 1.396\n",
            "  taste 1.416\n",
            "  but 1.434\n",
            "  a 1.435\n",
            "  i 1.449\n",
            "cookie 504\n",
            "  nana's 0.777\n",
            "  cookies 1.036\n",
            "  oreos 1.287\n",
            "  bars 1.362\n",
            "  bites 1.425\n",
            "jelly 351\n",
            "  twist 1.144\n",
            "  cardboard 1.230\n",
            "  advertised 1.382\n",
            "  peanuts 1.406\n",
            "  plastic 1.454\n",
            "dog 925\n",
            "  food 1.048\n",
            "  pet 1.069\n",
            "  pets 1.071\n",
            "  switched 1.208\n",
            "  foods 1.230\n",
            "the 36\n",
            "  . 0.331\n",
            "  <unk> 0.366\n",
            "  of 0.395\n",
            "  and 0.403\n",
            "  to 0.422\n",
            "3 289\n",
            "  8 1.210\n",
            "  . 1.239\n",
            "  the 1.271\n",
            "  to 1.272\n",
            "  <unk> 1.279\n"
          ]
        }
      ]
    },
    {
      "cell_type": "markdown",
      "metadata": {
        "id": "LsOAGLB3iRjT"
      },
      "source": [
        "We've been operating on the raw count matrix, but in class we discussed several reweighting schemes aimed at making LSA representations more informative. \n",
        "\n",
        "Here, implement the TF-IDF transform and see how it affects learned representations. While it is okay (and in fact encouraged) to use vectorized numpy operations, you should refrain from using pre-implemented library functions for computing TF-IDF.\n",
        "\n",
        "How does TF-IDF normalization change the learned similarity function?"
      ]
    },
    {
      "cell_type": "code",
      "metadata": {
        "id": "SV5xKLYTi7LA",
        "outputId": "f31cc7a9-60de-47e4-e244-db64e8fe4038",
        "colab": {
          "base_uri": "https://localhost:8080/"
        }
      },
      "source": [
        "reps_tfidf = learn_reps_lsa(td_matrix, 500, tf_idf=True)\n",
        "lab_util.show_similar_words(vectorizer.tokenizer, reps_tfidf, show_tokens)"
      ],
      "execution_count": 33,
      "outputs": [
        {
          "output_type": "stream",
          "name": "stdout",
          "text": [
            "good 47\n",
            "  . 0.981\n",
            "  but 1.013\n",
            "  a 1.030\n",
            "  and 1.087\n",
            "  is 1.090\n",
            "bad 201\n",
            "  . 1.329\n",
            "  taste 1.340\n",
            "  but 1.361\n",
            "  a 1.372\n",
            "  not 1.380\n",
            "cookie 504\n",
            "  nana's 0.811\n",
            "  cookies 1.145\n",
            "  moist 1.437\n",
            "  bars 1.438\n",
            "  oreos 1.451\n",
            "jelly 351\n",
            "  twist 1.100\n",
            "  cardboard 1.233\n",
            "  advertised 1.307\n",
            "  plastic 1.506\n",
            "  plum 1.512\n",
            "dog 925\n",
            "  food 1.031\n",
            "  pets 1.097\n",
            "  pet 1.102\n",
            "  foods 1.192\n",
            "  switched 1.250\n",
            "the 36\n",
            "  . 0.212\n",
            "  and 0.269\n",
            "  <unk> 0.291\n",
            "  of 0.303\n",
            "  to 0.323\n",
            "3 289\n",
            "  8 1.143\n",
            "  . 1.173\n",
            "  to 1.220\n",
            "  the 1.220\n",
            "  of 1.234\n"
          ]
        }
      ]
    },
    {
      "cell_type": "markdown",
      "metadata": {
        "id": "HO-NG4u1kG9z"
      },
      "source": [
        "Now that we have some representations, let's see if we can do something useful with them.\n",
        "\n",
        "Below, implement a feature function that represents a document as the sum of its\n",
        "learned word embeddings.\n",
        "\n",
        "The remaining code trains a logistic regression model on a set of *labeled* reviews; we're interested in seeing how much representations learned from *unlabeled* reviews improve classification.\n",
        "\n",
        "(Note: the staff solutions for each of the three featurizers achieve accuracies of between .78 and .83 with the full training corpus (3000 examples).)"
      ]
    },
    {
      "cell_type": "code",
      "metadata": {
        "id": "6B08xvIFlee3",
        "outputId": "73329459-851b-4955-e0fa-419114999be4",
        "colab": {
          "base_uri": "https://localhost:8080/"
        }
      },
      "source": [
        "import sklearn.linear_model\n",
        "\n",
        "def word_featurizer(xs):\n",
        "    # normalize\n",
        "    return xs / np.sqrt((xs ** 2).sum(axis=1, keepdims=True))\n",
        "\n",
        "def lsa_featurizer(xs, reps):\n",
        "    # This function takes in a `|D| x |V|` TD matrix in which each row contains\n",
        "    # the word counts for the given review.\n",
        "    # It should return a matrix where each row contains the learned feature\n",
        "    # representation of each review (e.g. the sum of LSA word representations).\n",
        "    # (Hint: use TF-IDF LSA features, which should be a global variable after\n",
        "    # running the previous cell; no need to pass it in as an argument.)\n",
        "    feats = np.zeros((xs.shape[0],reps.shape[1]))\n",
        "    idf = idf_matrix(xs.T, 'idf')\n",
        "\n",
        "    for i in range(xs.shape[0]):\n",
        "      doc_wordCount = (xs[i,:] > 0).T.reshape((-1,1))\n",
        "      feats[i,:] = np.sum(doc_wordCount * idf * reps,axis=0, keepdims=True)\n",
        "\n",
        "    # normalize\n",
        "    return feats / np.sqrt((feats ** 2).sum(axis=1, keepdims=True))\n",
        "\n",
        "# We've implemented the remainder of the training and evaluation pipeline,\n",
        "# so you likely won't need to modify the following four functions.\n",
        "def combo_featurizer(xs, reps):\n",
        "    return np.concatenate((word_featurizer(xs), lsa_featurizer(xs, reps)), axis=1)\n",
        "\n",
        "def train_model(xs, ys, featurizer, reps = None):\n",
        "    if reps is None:\n",
        "      xs_featurized = featurizer(xs)\n",
        "    else:\n",
        "      xs_featurized = featurizer(xs, reps)\n",
        "\n",
        "    model = sklearn.linear_model.LogisticRegression()\n",
        "    model.fit(xs_featurized, ys)\n",
        "\n",
        "    return model\n",
        "\n",
        "def eval_model(model, xs, ys, featurizer, reps=None):\n",
        "    if reps is None:\n",
        "      xs_featurized = featurizer(xs)\n",
        "    else:\n",
        "      xs_featurized = featurizer(xs, reps)\n",
        "\n",
        "    pred_ys = model.predict(xs_featurized)\n",
        "\n",
        "    return np.mean(pred_ys == ys)\n",
        "\n",
        "def training_experiment(name, n_train, featurizer, reps=None, verbose=True):\n",
        "    if verbose:\n",
        "      print(f\"{name} features, {n_train} examples\")\n",
        "\n",
        "    train_xs = vectorizer.transform(train_reviews[:n_train])\n",
        "    train_ys = train_labels[:n_train]\n",
        "    test_xs = vectorizer.transform(test_reviews)\n",
        "    test_ys = test_labels\n",
        "    model = train_model(train_xs, train_ys, featurizer, reps)\n",
        "    acc = eval_model(model, test_xs, test_ys, featurizer, reps)\n",
        "\n",
        "    if verbose:\n",
        "      print(f\"Accuracy is {acc*100:.2f}%\")\n",
        "      print(\"\")\n",
        "\n",
        "    return acc\n",
        "\n",
        "# The following four lines will run a training experiment with all 3k examples\n",
        "# in training set for each feature type. `training_experiment` may be useful to\n",
        "# you when performing experiments to answer questions in the handout.\n",
        "n_train = 3000\n",
        "embed_size = 500\n",
        "\n",
        "reps_tfidf = learn_reps_lsa(td_matrix, embed_size, tf_idf=True)\n",
        "acc = training_experiment(\"word\", n_train, word_featurizer)\n",
        "acc = training_experiment(\"lsa\", n_train, lsa_featurizer, reps=reps_tfidf)\n",
        "acc = training_experiment(\"combo\", n_train, combo_featurizer, reps=reps_tfidf)\n",
        "print()"
      ],
      "execution_count": 63,
      "outputs": [
        {
          "output_type": "stream",
          "name": "stdout",
          "text": [
            "word features, 3000 examples\n",
            "Accuracy is 78.40%\n",
            "\n",
            "lsa features, 3000 examples\n",
            "Accuracy is 81.00%\n",
            "\n",
            "combo features, 3000 examples\n",
            "Accuracy is 82.40%\n",
            "\n",
            "\n"
          ]
        }
      ]
    },
    {
      "cell_type": "markdown",
      "metadata": {
        "id": "rpXziVNrlfp2"
      },
      "source": [
        "**Part 1: Lab writeup**\n",
        "\n",
        "Part 1 of your lab report should discuss any implementation details that were important to filling out the code above, as well as your answers to the questions in Part 1 of the Homework 2 handout. Below, you can set up and perform experiments that answer these questions (include figures, plots, and tables in your write-up as you see fit)."
      ]
    },
    {
      "cell_type": "markdown",
      "metadata": {
        "id": "L3WrzsHhC1I5"
      },
      "source": [
        "## Experiments for Part 1"
      ]
    },
    {
      "cell_type": "code",
      "metadata": {
        "id": "aTVF9JdRNOsx",
        "outputId": "07b4c3d6-f193-493d-d62d-72744cbab2bb",
        "colab": {
          "base_uri": "https://localhost:8080/",
          "height": 49,
          "referenced_widgets": [
            "64cad37d2bc94bc7adb2b71f62d7277b",
            "0bbf1acd833d4290b8adbe580063bf05",
            "ab7a2de9cf8c4951bacff980a8756203",
            "65cb3a779c094a6f914a7a969c4186f7",
            "4d87190b9eff4f5d8821e64144e0e6bf",
            "372c7bb7c78a400cb62f031fb126c023",
            "ae4264a5460142119e18a711c8f270fd",
            "a690551088e04dd9a2616fda9079cf91",
            "16d24070dce649449878923131417ff3",
            "9c1f514e15a545faa1fef924eeae097b",
            "b42ce8b17caa457fa41652f30b1676a5"
          ]
        }
      },
      "source": [
        "# The following four lines will run a training experiment with all 3k examples\n",
        "# in training set for each feature type. `training_experiment` may be useful to\n",
        "# you when performing experiments to answer questions in the handout.\n",
        "n_train = 3000\n",
        "embed_sizes = [100*i for i in range(1,11)]\n",
        "accs = {'word'  : [],\n",
        "        'lsa'   : [],\n",
        "        'combo' : []\n",
        "        }\n",
        "\n",
        "features = ['word', 'lsa', 'combo']\n",
        "featurizers = [word_featurizer, lsa_featurizer, combo_featurizer]\n",
        "\n",
        "for embed_size in tqdm(embed_sizes):\n",
        "  reps = learn_reps_lsa(td_matrix, embed_size, tf_weight='term frequency', tf_idf=True)\n",
        "  # print(f\"Using embedding size of {embed_size} dimensions.\")\n",
        "  # print(\"-\"*40)\n",
        "\n",
        "  for feature,featurizer in zip(features,featurizers):\n",
        "    if feature == 'word':\n",
        "      accs[feature].append(training_experiment(feature, n_train, featurizer, verbose =False))\n",
        "    else:\n",
        "      accs[feature].append(training_experiment(feature, n_train, featurizer,reps, verbose=False))"
      ],
      "execution_count": 64,
      "outputs": [
        {
          "output_type": "display_data",
          "data": {
            "application/vnd.jupyter.widget-view+json": {
              "model_id": "64cad37d2bc94bc7adb2b71f62d7277b",
              "version_minor": 0,
              "version_major": 2
            },
            "text/plain": [
              "  0%|          | 0/10 [00:00<?, ?it/s]"
            ]
          },
          "metadata": {}
        }
      ]
    },
    {
      "cell_type": "code",
      "metadata": {
        "id": "tKZlhNOUsGu1",
        "outputId": "3e949a3e-136d-4e15-b9d2-6fc9aba02199",
        "colab": {
          "base_uri": "https://localhost:8080/"
        }
      },
      "source": [
        "print(\"Max accuracies:\")\n",
        "for feature in features:\n",
        "  print(\" \"*3 + f\"{feature}: {sorted(accs[feature])[-1]*100:.2f}%\")"
      ],
      "execution_count": 69,
      "outputs": [
        {
          "output_type": "stream",
          "name": "stdout",
          "text": [
            "Max accuracies:\n",
            "   word: 78.40%\n",
            "   lsa: 80.80%\n",
            "   combo: 82.40%\n"
          ]
        }
      ]
    },
    {
      "cell_type": "code",
      "metadata": {
        "id": "JNcvPN4tmdOl",
        "outputId": "00144aab-d978-4696-dc76-ad79a533fba0",
        "colab": {
          "base_uri": "https://localhost:8080/",
          "height": 283
        }
      },
      "source": [
        "offset = (0,0.5)\n",
        "fig, ax = plt.subplots()\n",
        "ax.spines['top'].set_visible(False)\n",
        "ax.spines['right'].set_visible(False)\n",
        "\n",
        "for feature in features:\n",
        "  x = embed_sizes\n",
        "  y = [acc*100 for acc in accs[feature]]\n",
        "  sns.lineplot(x=x, y=y, label=feature, ax=ax)\n",
        "\n",
        "  if feature == 'combo':\n",
        "    for x_i,y_i in zip(x,y):\n",
        "      s = f'{y_i:.1f}%'\n",
        "      ax.text(x=x_i+offset[0], \n",
        "              y=y_i+offset[1],\n",
        "              rotation=45,\n",
        "              fontsize=7,\n",
        "              s=s)\n",
        "\n",
        "  plt.yticks([70 + 5*x for x in range(6)])\n",
        "  plt.ylabel(\"Accuracy (%)\")\n",
        "  plt.xticks(embed_sizes)\n",
        "  plt.xlabel(\"Embedding size (dimensions)\")"
      ],
      "execution_count": 110,
      "outputs": [
        {
          "output_type": "display_data",
          "data": {
            "image/png": "[encoded data removed]",
            "text/plain": [
              "<Figure size 432x288 with 1 Axes>"
            ]
          },
          "metadata": {
            "needs_background": "light"
          }
        }
      ]
    },
    {
      "cell_type": "markdown",
      "metadata": {
        "id": "AxfunCYh5nmZ"
      },
      "source": [
        "## Part 2: word representations via language modeling\n",
        "\n",
        "In this section, we'll train a word embedding model with a word2vec-style objective rather than a matrix factorization objective. This requires a little more work; we've provided scaffolding for a PyTorch model implementation below.\n",
        "If you don't have much PyTorch experience, there are some tutorials [here](https://pytorch.org/tutorials/) which may be useful. You're also welcome to implement these experiments in any other framework of your choosing (note that we won't be able to provide debugging support if you use a different framework)."
      ]
    },
    {
      "cell_type": "code",
      "metadata": {
        "id": "M1napibQ6aub"
      },
      "source": [
        "import torch\n",
        "import torch.nn as nn\n",
        "import torch.nn.functional as F\n",
        "import torch.optim as optim\n",
        "import torch.utils.data as torch_data\n",
        "\n",
        "class Word2VecModel(nn.Module):\n",
        "    # A torch module implementing a word2vec predictor. The `forward` function\n",
        "    # should take a batch of context word ids as input and predict the word \n",
        "    # in the middle of the context as output, as in the CBOW model from lecture.\n",
        "    # Hint: look at how padding is handled in lab_util.get_ngrams when\n",
        "    # initializing `ctx`: vocab_size is used as the padding token for contexts\n",
        "    # near the beginning and end of sequences. If you use an embedding module\n",
        "    # in your Word2Vec implementation, make sure to account for this extra\n",
        "    # padding token, and account for it with the `padding_idx` kwarg.\n",
        "\n",
        "    def __init__(self, vocab_size, embed_dim, padding_idx=2006):\n",
        "        super().__init__()\n",
        "\n",
        "        self.embed_dim = embed_dim\n",
        "        self.vocab_size = vocab_size\n",
        "        self.padding_idx = padding_idx\n",
        "\n",
        "    def forward(self, context):\n",
        "        # Context is an `n_batch x vocab_size` matrix of integer word ids\n",
        "        # this function should return an `n_batch x vocab_size` matrix with\n",
        "        # element i, j being the (possibly log) probability of the middle word\n",
        "        # in context i being word j.\n",
        "\n",
        "        # Your code here!\n",
        "        raise NotImplementedError"
      ],
      "execution_count": null,
      "outputs": []
    },
    {
      "cell_type": "code",
      "metadata": {
        "id": "ePgZlityuWr3"
      },
      "source": [
        "def learn_reps_word2vec(corpus, window_size, rep_size, n_epochs, n_batch):\n",
        "    #This method takes in a corpus of training sentences. It returns a matrix of\n",
        "    # word embeddings with the same structure as used in the previous section of \n",
        "    # the assignment. (You can extract this matrix from the parameters of the \n",
        "    # Word2VecModel.)\n",
        "\n",
        "    tokenizer = lab_util.Tokenizer()\n",
        "    tokenizer.fit(corpus)\n",
        "    tokenized_corpus = tokenizer.tokenize(corpus)\n",
        "\n",
        "    ngrams = lab_util.get_ngrams(tokenized_corpus, window_size, pad_idx=2006)\n",
        "\n",
        "    device = torch.device('cuda')  # run on colab gpu\n",
        "    model = Word2VecModel(tokenizer.vocab_size, rep_size).to(device)\n",
        "    opt = optim.Adam(model.parameters(), lr=0.001)\n",
        "\n",
        "    loader = torch_data.DataLoader(ngrams, batch_size=n_batch, shuffle=True)\n",
        "\n",
        "    # What loss function should we use for Word2Vec?\n",
        "    loss_fn = None  # Your code here!\n",
        "\n",
        "    losses = []  # Potentially useful for debugging (loss should go down!)\n",
        "    for epoch in tqdm(range(n_epochs)):\n",
        "        epoch_loss = 0\n",
        "        for context, label in loader:\n",
        "            # As described above, `context` is a batch of context word ids, and\n",
        "            # `label` is a batch of predicted word labels.\n",
        "\n",
        "            # Here, perform a forward pass to compute predictions for the model.\n",
        "            # Your code here!\n",
        "            preds = None\n",
        "\n",
        "\n",
        "            # Now finish the backward pass and gradient update.\n",
        "            # Remember, you need to compute the loss, zero the gradients\n",
        "            # of the model parameters, perform the backward pass, and\n",
        "            # update the model parameters.\n",
        "            # Your code here!\n",
        "            loss = None\n",
        "\n",
        "\n",
        "            epoch_loss += loss.item()\n",
        "        losses.append(epoch_loss)\n",
        "\n",
        "    # Hint: you want to return a `vocab_size x embedding_size` numpy array\n",
        "    embedding_matrix = None  # Your code here!\n",
        "\n",
        "    return embedding_matrix"
      ],
      "execution_count": null,
      "outputs": []
    },
    {
      "cell_type": "code",
      "metadata": {
        "id": "aaUy1cNuB3W1"
      },
      "source": [
        "# Use the function you just wrote to learn Word2Vec embeddings:\n",
        "reps_word2vec = learn_reps_word2vec(train_reviews, 2, 500, 10, 100)"
      ],
      "execution_count": null,
      "outputs": []
    },
    {
      "cell_type": "markdown",
      "metadata": {
        "id": "O3oE-tpR7I39"
      },
      "source": [
        "After training the embeddings, we can try to visualize the embedding space to see if it makes sense. First, we can take any word in the space and check its closest neighbors."
      ]
    },
    {
      "cell_type": "code",
      "metadata": {
        "id": "yMW4QND56bHF"
      },
      "source": [
        "lab_util.show_similar_words(vectorizer.tokenizer, reps_word2vec, show_tokens)"
      ],
      "execution_count": null,
      "outputs": []
    },
    {
      "cell_type": "markdown",
      "metadata": {
        "id": "ue-9CPSc7fi9"
      },
      "source": [
        "We can also cluster the embedding space. Clustering in 4 or more dimensions is hard to visualize, and even clustering in 2 or 3 can be difficult because there are so many words in the vocabulary. One thing we can try to do is assign cluster labels and qualitiatively look for an underlying pattern in the clusters."
      ]
    },
    {
      "cell_type": "code",
      "metadata": {
        "id": "v-Yf6NMCXVx4"
      },
      "source": [
        "from sklearn.cluster import KMeans\n",
        "\n",
        "indices = KMeans(n_clusters=10).fit_predict(reps_word2vec)\n",
        "zipped = list(zip(range(vectorizer.tokenizer.vocab_size), indices))\n",
        "np.random.shuffle(zipped)\n",
        "zipped = zipped[:100]\n",
        "zipped = sorted(zipped, key=lambda x: x[1], reverse=True)\n",
        "for token, cluster_idx in zipped:\n",
        "    word = vectorizer.tokenizer.token_to_word[token]\n",
        "    print(f\"{word}: {cluster_idx}\")"
      ],
      "execution_count": null,
      "outputs": []
    },
    {
      "cell_type": "markdown",
      "metadata": {
        "id": "ci1TkENU78Wn"
      },
      "source": [
        "Finally, we can use the trained word embeddings to construct vector representations of full reviews. One common approach is to simply average all the word embeddings in the review to create an overall embedding. Implement the transform function in Word2VecFeaturizer to do this."
      ]
    },
    {
      "cell_type": "code",
      "metadata": {
        "id": "A5vjmRV6Dgbu"
      },
      "source": [
        "def w2v_featurizer(xs):\n",
        "    # This function takes in a matrix in which each row contains the word counts\n",
        "    # for the given review. It should return a matrix in which each row contains\n",
        "    # the average Word2Vec embedding of each review (hint: this will be very\n",
        "    # similar to `lsa_featurizer` from above, just using Word2Vec embeddings \n",
        "    # instead of LSA).\n",
        "\n",
        "    feats = None # Your code here!\n",
        "\n",
        "    # normalize\n",
        "    return feats / np.sqrt((feats ** 2).sum(axis=1, keepdims=True))\n",
        "\n",
        "training_experiment(\"word2vec\", w2v_featurizer, 3000)\n",
        "print()"
      ],
      "execution_count": null,
      "outputs": []
    },
    {
      "cell_type": "markdown",
      "metadata": {
        "id": "XSfoQbxaXtfH"
      },
      "source": [
        "**Part 2: Lab writeup**\n",
        "\n",
        "Part 2 of your lab report should discuss any implementation details that were important to filling out the code above, as well as your answers to the questions in Part 2 of the Homework 2 handout. Below, you can set up and perform experiments that answer these questions (include figures, plots, and tables in your write-up as you see fit)."
      ]
    },
    {
      "cell_type": "markdown",
      "metadata": {
        "id": "Beb7dgqWycYx"
      },
      "source": [
        "## Experiments for Part 2"
      ]
    },
    {
      "cell_type": "code",
      "metadata": {
        "id": "obr-zEmNydDm"
      },
      "source": [
        "# Your code here!"
      ],
      "execution_count": null,
      "outputs": []
    },
    {
      "cell_type": "markdown",
      "metadata": {
        "id": "5_HYOLQd5JLx"
      },
      "source": [
        "# Part 3 (6.864 only)"
      ]
    },
    {
      "cell_type": "markdown",
      "metadata": {
        "id": "70uuuHpr5NT4"
      },
      "source": [
        "In Part 3, you will extend the methods you've implemented in Parts 1 and 2 with the goal of improving final predictive performance. You should experiment with at least one idea to improve the model --- feel free to focus on either the featurizer or the classifier. Some suggestions of things you could try:\n",
        "\n",
        "1. Implement a different TD matrix normalization method (see lecture slides for alternatives to TF-IDF).\n",
        "2. Implement a different Word2Vec formulation (in Part 2, you implemented the CBOW formulation; does the skip-gram formulation perform any better?).\n",
        "3. Implement a more sophisticated classifier module.\n",
        "4. Tune featurizer and/or classifier hyperparameters (for full marks, you should obtain at least a 1% improvement in prediction accuracy if you only tune hyperparameters).\n",
        "\n",
        "In your report, discuss what you implemented (including relevant design decisions), and how your change(s) impacted performance.\n",
        "\n",
        "Note: As long as you try something with difficulty comparable to the suggested modifications and have a meaningful discussion of your results in your report, you can earn full marks (you do not necessarily need to improve performance)."
      ]
    },
    {
      "cell_type": "code",
      "metadata": {
        "id": "pTCrIkai-bkF"
      },
      "source": [
        "# Your code here!"
      ],
      "execution_count": null,
      "outputs": []
    }
  ]
}