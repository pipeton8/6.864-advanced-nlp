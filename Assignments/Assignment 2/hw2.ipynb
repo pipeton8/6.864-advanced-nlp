{
  "nbformat": 4,
  "nbformat_minor": 0,
  "metadata": {
    "colab": {
      "name": "hw2.ipynb",
      "provenance": [],
      "collapsed_sections": [],
      "toc_visible": true,
      "machine_shape": "hm",
      "include_colab_link": true
    },
    "kernelspec": {
      "name": "python3",
      "display_name": "Python 3"
    },
    "accelerator": "GPU",
    "widgets": {
      "application/vnd.jupyter.widget-state+json": {
        "cce5e044f946473ea26f8e0a8046e75d": {
          "model_module": "@jupyter-widgets/controls",
          "model_name": "HBoxModel",
          "model_module_version": "1.5.0",
          "state": {
            "_view_name": "HBoxView",
            "_dom_classes": [],
            "_model_name": "HBoxModel",
            "_view_module": "@jupyter-widgets/controls",
            "_model_module_version": "1.5.0",
            "_view_count": null,
            "_view_module_version": "1.5.0",
            "box_style": "",
            "layout": "IPY_MODEL_70a26f903f1d4958b0e26a9ebdafdde0",
            "_model_module": "@jupyter-widgets/controls",
            "children": [
              "IPY_MODEL_8befb0974f544c0aa76a640408265476",
              "IPY_MODEL_39ec65ce2b2b4ce2a96bf66ae7cc3c8c",
              "IPY_MODEL_8286cf31e19f4a6fbfb28718bfdd1add"
            ]
          }
        },
        "70a26f903f1d4958b0e26a9ebdafdde0": {
          "model_module": "@jupyter-widgets/base",
          "model_name": "LayoutModel",
          "model_module_version": "1.2.0",
          "state": {
            "_view_name": "LayoutView",
            "grid_template_rows": null,
            "right": null,
            "justify_content": null,
            "_view_module": "@jupyter-widgets/base",
            "overflow": null,
            "_model_module_version": "1.2.0",
            "_view_count": null,
            "flex_flow": null,
            "width": null,
            "min_width": null,
            "border": null,
            "align_items": null,
            "bottom": null,
            "_model_module": "@jupyter-widgets/base",
            "top": null,
            "grid_column": null,
            "overflow_y": null,
            "overflow_x": null,
            "grid_auto_flow": null,
            "grid_area": null,
            "grid_template_columns": null,
            "flex": null,
            "_model_name": "LayoutModel",
            "justify_items": null,
            "grid_row": null,
            "max_height": null,
            "align_content": null,
            "visibility": null,
            "align_self": null,
            "height": null,
            "min_height": null,
            "padding": null,
            "grid_auto_rows": null,
            "grid_gap": null,
            "max_width": null,
            "order": null,
            "_view_module_version": "1.2.0",
            "grid_template_areas": null,
            "object_position": null,
            "object_fit": null,
            "grid_auto_columns": null,
            "margin": null,
            "display": null,
            "left": null
          }
        },
        "8befb0974f544c0aa76a640408265476": {
          "model_module": "@jupyter-widgets/controls",
          "model_name": "HTMLModel",
          "model_module_version": "1.5.0",
          "state": {
            "_view_name": "HTMLView",
            "style": "IPY_MODEL_8f6c4f0a7dda4cd1a052cf64fb2b10f4",
            "_dom_classes": [],
            "description": "",
            "_model_name": "HTMLModel",
            "placeholder": "​",
            "_view_module": "@jupyter-widgets/controls",
            "_model_module_version": "1.5.0",
            "value": "100%",
            "_view_count": null,
            "_view_module_version": "1.5.0",
            "description_tooltip": null,
            "_model_module": "@jupyter-widgets/controls",
            "layout": "IPY_MODEL_f1fb7ebb097940dcaac74b16e81322aa"
          }
        },
        "39ec65ce2b2b4ce2a96bf66ae7cc3c8c": {
          "model_module": "@jupyter-widgets/controls",
          "model_name": "FloatProgressModel",
          "model_module_version": "1.5.0",
          "state": {
            "_view_name": "ProgressView",
            "style": "IPY_MODEL_b89fcfc4cefe406fbfb1be18619c6520",
            "_dom_classes": [],
            "description": "",
            "_model_name": "FloatProgressModel",
            "bar_style": "success",
            "max": 10,
            "_view_module": "@jupyter-widgets/controls",
            "_model_module_version": "1.5.0",
            "value": 10,
            "_view_count": null,
            "_view_module_version": "1.5.0",
            "orientation": "horizontal",
            "min": 0,
            "description_tooltip": null,
            "_model_module": "@jupyter-widgets/controls",
            "layout": "IPY_MODEL_fa93701163ea432db8ec0524d02a6ee2"
          }
        },
        "8286cf31e19f4a6fbfb28718bfdd1add": {
          "model_module": "@jupyter-widgets/controls",
          "model_name": "HTMLModel",
          "model_module_version": "1.5.0",
          "state": {
            "_view_name": "HTMLView",
            "style": "IPY_MODEL_83fa92c3b02b4c2fbec2af102dc1bfd8",
            "_dom_classes": [],
            "description": "",
            "_model_name": "HTMLModel",
            "placeholder": "​",
            "_view_module": "@jupyter-widgets/controls",
            "_model_module_version": "1.5.0",
            "value": " 10/10 [04:03&lt;00:00, 33.48s/it]",
            "_view_count": null,
            "_view_module_version": "1.5.0",
            "description_tooltip": null,
            "_model_module": "@jupyter-widgets/controls",
            "layout": "IPY_MODEL_7ef93779e15f465f8c58b680d84d93be"
          }
        },
        "8f6c4f0a7dda4cd1a052cf64fb2b10f4": {
          "model_module": "@jupyter-widgets/controls",
          "model_name": "DescriptionStyleModel",
          "model_module_version": "1.5.0",
          "state": {
            "_view_name": "StyleView",
            "_model_name": "DescriptionStyleModel",
            "description_width": "",
            "_view_module": "@jupyter-widgets/base",
            "_model_module_version": "1.5.0",
            "_view_count": null,
            "_view_module_version": "1.2.0",
            "_model_module": "@jupyter-widgets/controls"
          }
        },
        "f1fb7ebb097940dcaac74b16e81322aa": {
          "model_module": "@jupyter-widgets/base",
          "model_name": "LayoutModel",
          "model_module_version": "1.2.0",
          "state": {
            "_view_name": "LayoutView",
            "grid_template_rows": null,
            "right": null,
            "justify_content": null,
            "_view_module": "@jupyter-widgets/base",
            "overflow": null,
            "_model_module_version": "1.2.0",
            "_view_count": null,
            "flex_flow": null,
            "width": null,
            "min_width": null,
            "border": null,
            "align_items": null,
            "bottom": null,
            "_model_module": "@jupyter-widgets/base",
            "top": null,
            "grid_column": null,
            "overflow_y": null,
            "overflow_x": null,
            "grid_auto_flow": null,
            "grid_area": null,
            "grid_template_columns": null,
            "flex": null,
            "_model_name": "LayoutModel",
            "justify_items": null,
            "grid_row": null,
            "max_height": null,
            "align_content": null,
            "visibility": null,
            "align_self": null,
            "height": null,
            "min_height": null,
            "padding": null,
            "grid_auto_rows": null,
            "grid_gap": null,
            "max_width": null,
            "order": null,
            "_view_module_version": "1.2.0",
            "grid_template_areas": null,
            "object_position": null,
            "object_fit": null,
            "grid_auto_columns": null,
            "margin": null,
            "display": null,
            "left": null
          }
        },
        "b89fcfc4cefe406fbfb1be18619c6520": {
          "model_module": "@jupyter-widgets/controls",
          "model_name": "ProgressStyleModel",
          "model_module_version": "1.5.0",
          "state": {
            "_view_name": "StyleView",
            "_model_name": "ProgressStyleModel",
            "description_width": "",
            "_view_module": "@jupyter-widgets/base",
            "_model_module_version": "1.5.0",
            "_view_count": null,
            "_view_module_version": "1.2.0",
            "bar_color": null,
            "_model_module": "@jupyter-widgets/controls"
          }
        },
        "fa93701163ea432db8ec0524d02a6ee2": {
          "model_module": "@jupyter-widgets/base",
          "model_name": "LayoutModel",
          "model_module_version": "1.2.0",
          "state": {
            "_view_name": "LayoutView",
            "grid_template_rows": null,
            "right": null,
            "justify_content": null,
            "_view_module": "@jupyter-widgets/base",
            "overflow": null,
            "_model_module_version": "1.2.0",
            "_view_count": null,
            "flex_flow": null,
            "width": null,
            "min_width": null,
            "border": null,
            "align_items": null,
            "bottom": null,
            "_model_module": "@jupyter-widgets/base",
            "top": null,
            "grid_column": null,
            "overflow_y": null,
            "overflow_x": null,
            "grid_auto_flow": null,
            "grid_area": null,
            "grid_template_columns": null,
            "flex": null,
            "_model_name": "LayoutModel",
            "justify_items": null,
            "grid_row": null,
            "max_height": null,
            "align_content": null,
            "visibility": null,
            "align_self": null,
            "height": null,
            "min_height": null,
            "padding": null,
            "grid_auto_rows": null,
            "grid_gap": null,
            "max_width": null,
            "order": null,
            "_view_module_version": "1.2.0",
            "grid_template_areas": null,
            "object_position": null,
            "object_fit": null,
            "grid_auto_columns": null,
            "margin": null,
            "display": null,
            "left": null
          }
        },
        "83fa92c3b02b4c2fbec2af102dc1bfd8": {
          "model_module": "@jupyter-widgets/controls",
          "model_name": "DescriptionStyleModel",
          "model_module_version": "1.5.0",
          "state": {
            "_view_name": "StyleView",
            "_model_name": "DescriptionStyleModel",
            "description_width": "",
            "_view_module": "@jupyter-widgets/base",
            "_model_module_version": "1.5.0",
            "_view_count": null,
            "_view_module_version": "1.2.0",
            "_model_module": "@jupyter-widgets/controls"
          }
        },
        "7ef93779e15f465f8c58b680d84d93be": {
          "model_module": "@jupyter-widgets/base",
          "model_name": "LayoutModel",
          "model_module_version": "1.2.0",
          "state": {
            "_view_name": "LayoutView",
            "grid_template_rows": null,
            "right": null,
            "justify_content": null,
            "_view_module": "@jupyter-widgets/base",
            "overflow": null,
            "_model_module_version": "1.2.0",
            "_view_count": null,
            "flex_flow": null,
            "width": null,
            "min_width": null,
            "border": null,
            "align_items": null,
            "bottom": null,
            "_model_module": "@jupyter-widgets/base",
            "top": null,
            "grid_column": null,
            "overflow_y": null,
            "overflow_x": null,
            "grid_auto_flow": null,
            "grid_area": null,
            "grid_template_columns": null,
            "flex": null,
            "_model_name": "LayoutModel",
            "justify_items": null,
            "grid_row": null,
            "max_height": null,
            "align_content": null,
            "visibility": null,
            "align_self": null,
            "height": null,
            "min_height": null,
            "padding": null,
            "grid_auto_rows": null,
            "grid_gap": null,
            "max_width": null,
            "order": null,
            "_view_module_version": "1.2.0",
            "grid_template_areas": null,
            "object_position": null,
            "object_fit": null,
            "grid_auto_columns": null,
            "margin": null,
            "display": null,
            "left": null
          }
        },
        "b567639b5b2648dabae798ce53a17948": {
          "model_module": "@jupyter-widgets/controls",
          "model_name": "HBoxModel",
          "model_module_version": "1.5.0",
          "state": {
            "_view_name": "HBoxView",
            "_dom_classes": [],
            "_model_name": "HBoxModel",
            "_view_module": "@jupyter-widgets/controls",
            "_model_module_version": "1.5.0",
            "_view_count": null,
            "_view_module_version": "1.5.0",
            "box_style": "",
            "layout": "IPY_MODEL_5eed06228c054d33b3ac3d491078b91e",
            "_model_module": "@jupyter-widgets/controls",
            "children": [
              "IPY_MODEL_6ac8df52a79e409892cf197c06e3517f",
              "IPY_MODEL_35a166d2632c4af4a1ce9cfc1e01795a",
              "IPY_MODEL_2c6250feb81648fab336197c82f9cf7a"
            ]
          }
        },
        "5eed06228c054d33b3ac3d491078b91e": {
          "model_module": "@jupyter-widgets/base",
          "model_name": "LayoutModel",
          "model_module_version": "1.2.0",
          "state": {
            "_view_name": "LayoutView",
            "grid_template_rows": null,
            "right": null,
            "justify_content": null,
            "_view_module": "@jupyter-widgets/base",
            "overflow": null,
            "_model_module_version": "1.2.0",
            "_view_count": null,
            "flex_flow": null,
            "width": null,
            "min_width": null,
            "border": null,
            "align_items": null,
            "bottom": null,
            "_model_module": "@jupyter-widgets/base",
            "top": null,
            "grid_column": null,
            "overflow_y": null,
            "overflow_x": null,
            "grid_auto_flow": null,
            "grid_area": null,
            "grid_template_columns": null,
            "flex": null,
            "_model_name": "LayoutModel",
            "justify_items": null,
            "grid_row": null,
            "max_height": null,
            "align_content": null,
            "visibility": null,
            "align_self": null,
            "height": null,
            "min_height": null,
            "padding": null,
            "grid_auto_rows": null,
            "grid_gap": null,
            "max_width": null,
            "order": null,
            "_view_module_version": "1.2.0",
            "grid_template_areas": null,
            "object_position": null,
            "object_fit": null,
            "grid_auto_columns": null,
            "margin": null,
            "display": null,
            "left": null
          }
        },
        "6ac8df52a79e409892cf197c06e3517f": {
          "model_module": "@jupyter-widgets/controls",
          "model_name": "HTMLModel",
          "model_module_version": "1.5.0",
          "state": {
            "_view_name": "HTMLView",
            "style": "IPY_MODEL_21df552ee82f4d1d8a2d94c464d69e0a",
            "_dom_classes": [],
            "description": "",
            "_model_name": "HTMLModel",
            "placeholder": "​",
            "_view_module": "@jupyter-widgets/controls",
            "_model_module_version": "1.5.0",
            "value": "100%",
            "_view_count": null,
            "_view_module_version": "1.5.0",
            "description_tooltip": null,
            "_model_module": "@jupyter-widgets/controls",
            "layout": "IPY_MODEL_4e7890c1b3b54591925ecddbcd7627c5"
          }
        },
        "35a166d2632c4af4a1ce9cfc1e01795a": {
          "model_module": "@jupyter-widgets/controls",
          "model_name": "FloatProgressModel",
          "model_module_version": "1.5.0",
          "state": {
            "_view_name": "ProgressView",
            "style": "IPY_MODEL_0450e7160bc840499c9cce130c92ae32",
            "_dom_classes": [],
            "description": "",
            "_model_name": "FloatProgressModel",
            "bar_style": "success",
            "max": 6,
            "_view_module": "@jupyter-widgets/controls",
            "_model_module_version": "1.5.0",
            "value": 6,
            "_view_count": null,
            "_view_module_version": "1.5.0",
            "orientation": "horizontal",
            "min": 0,
            "description_tooltip": null,
            "_model_module": "@jupyter-widgets/controls",
            "layout": "IPY_MODEL_f217b7d351e54f0b9fdf736bc8a0a811"
          }
        },
        "2c6250feb81648fab336197c82f9cf7a": {
          "model_module": "@jupyter-widgets/controls",
          "model_name": "HTMLModel",
          "model_module_version": "1.5.0",
          "state": {
            "_view_name": "HTMLView",
            "style": "IPY_MODEL_e073fefcae3146afaefd4543cea5b7de",
            "_dom_classes": [],
            "description": "",
            "_model_name": "HTMLModel",
            "placeholder": "​",
            "_view_module": "@jupyter-widgets/controls",
            "_model_module_version": "1.5.0",
            "value": " 6/6 [02:15&lt;00:00, 22.44s/it]",
            "_view_count": null,
            "_view_module_version": "1.5.0",
            "description_tooltip": null,
            "_model_module": "@jupyter-widgets/controls",
            "layout": "IPY_MODEL_efe778a993504f8b90592bfc00eab3df"
          }
        },
        "21df552ee82f4d1d8a2d94c464d69e0a": {
          "model_module": "@jupyter-widgets/controls",
          "model_name": "DescriptionStyleModel",
          "model_module_version": "1.5.0",
          "state": {
            "_view_name": "StyleView",
            "_model_name": "DescriptionStyleModel",
            "description_width": "",
            "_view_module": "@jupyter-widgets/base",
            "_model_module_version": "1.5.0",
            "_view_count": null,
            "_view_module_version": "1.2.0",
            "_model_module": "@jupyter-widgets/controls"
          }
        },
        "4e7890c1b3b54591925ecddbcd7627c5": {
          "model_module": "@jupyter-widgets/base",
          "model_name": "LayoutModel",
          "model_module_version": "1.2.0",
          "state": {
            "_view_name": "LayoutView",
            "grid_template_rows": null,
            "right": null,
            "justify_content": null,
            "_view_module": "@jupyter-widgets/base",
            "overflow": null,
            "_model_module_version": "1.2.0",
            "_view_count": null,
            "flex_flow": null,
            "width": null,
            "min_width": null,
            "border": null,
            "align_items": null,
            "bottom": null,
            "_model_module": "@jupyter-widgets/base",
            "top": null,
            "grid_column": null,
            "overflow_y": null,
            "overflow_x": null,
            "grid_auto_flow": null,
            "grid_area": null,
            "grid_template_columns": null,
            "flex": null,
            "_model_name": "LayoutModel",
            "justify_items": null,
            "grid_row": null,
            "max_height": null,
            "align_content": null,
            "visibility": null,
            "align_self": null,
            "height": null,
            "min_height": null,
            "padding": null,
            "grid_auto_rows": null,
            "grid_gap": null,
            "max_width": null,
            "order": null,
            "_view_module_version": "1.2.0",
            "grid_template_areas": null,
            "object_position": null,
            "object_fit": null,
            "grid_auto_columns": null,
            "margin": null,
            "display": null,
            "left": null
          }
        },
        "0450e7160bc840499c9cce130c92ae32": {
          "model_module": "@jupyter-widgets/controls",
          "model_name": "ProgressStyleModel",
          "model_module_version": "1.5.0",
          "state": {
            "_view_name": "StyleView",
            "_model_name": "ProgressStyleModel",
            "description_width": "",
            "_view_module": "@jupyter-widgets/base",
            "_model_module_version": "1.5.0",
            "_view_count": null,
            "_view_module_version": "1.2.0",
            "bar_color": null,
            "_model_module": "@jupyter-widgets/controls"
          }
        },
        "f217b7d351e54f0b9fdf736bc8a0a811": {
          "model_module": "@jupyter-widgets/base",
          "model_name": "LayoutModel",
          "model_module_version": "1.2.0",
          "state": {
            "_view_name": "LayoutView",
            "grid_template_rows": null,
            "right": null,
            "justify_content": null,
            "_view_module": "@jupyter-widgets/base",
            "overflow": null,
            "_model_module_version": "1.2.0",
            "_view_count": null,
            "flex_flow": null,
            "width": null,
            "min_width": null,
            "border": null,
            "align_items": null,
            "bottom": null,
            "_model_module": "@jupyter-widgets/base",
            "top": null,
            "grid_column": null,
            "overflow_y": null,
            "overflow_x": null,
            "grid_auto_flow": null,
            "grid_area": null,
            "grid_template_columns": null,
            "flex": null,
            "_model_name": "LayoutModel",
            "justify_items": null,
            "grid_row": null,
            "max_height": null,
            "align_content": null,
            "visibility": null,
            "align_self": null,
            "height": null,
            "min_height": null,
            "padding": null,
            "grid_auto_rows": null,
            "grid_gap": null,
            "max_width": null,
            "order": null,
            "_view_module_version": "1.2.0",
            "grid_template_areas": null,
            "object_position": null,
            "object_fit": null,
            "grid_auto_columns": null,
            "margin": null,
            "display": null,
            "left": null
          }
        },
        "e073fefcae3146afaefd4543cea5b7de": {
          "model_module": "@jupyter-widgets/controls",
          "model_name": "DescriptionStyleModel",
          "model_module_version": "1.5.0",
          "state": {
            "_view_name": "StyleView",
            "_model_name": "DescriptionStyleModel",
            "description_width": "",
            "_view_module": "@jupyter-widgets/base",
            "_model_module_version": "1.5.0",
            "_view_count": null,
            "_view_module_version": "1.2.0",
            "_model_module": "@jupyter-widgets/controls"
          }
        },
        "efe778a993504f8b90592bfc00eab3df": {
          "model_module": "@jupyter-widgets/base",
          "model_name": "LayoutModel",
          "model_module_version": "1.2.0",
          "state": {
            "_view_name": "LayoutView",
            "grid_template_rows": null,
            "right": null,
            "justify_content": null,
            "_view_module": "@jupyter-widgets/base",
            "overflow": null,
            "_model_module_version": "1.2.0",
            "_view_count": null,
            "flex_flow": null,
            "width": null,
            "min_width": null,
            "border": null,
            "align_items": null,
            "bottom": null,
            "_model_module": "@jupyter-widgets/base",
            "top": null,
            "grid_column": null,
            "overflow_y": null,
            "overflow_x": null,
            "grid_auto_flow": null,
            "grid_area": null,
            "grid_template_columns": null,
            "flex": null,
            "_model_name": "LayoutModel",
            "justify_items": null,
            "grid_row": null,
            "max_height": null,
            "align_content": null,
            "visibility": null,
            "align_self": null,
            "height": null,
            "min_height": null,
            "padding": null,
            "grid_auto_rows": null,
            "grid_gap": null,
            "max_width": null,
            "order": null,
            "_view_module_version": "1.2.0",
            "grid_template_areas": null,
            "object_position": null,
            "object_fit": null,
            "grid_auto_columns": null,
            "margin": null,
            "display": null,
            "left": null
          }
        },
        "244390c4c9e94928b4d30ba70a59665b": {
          "model_module": "@jupyter-widgets/controls",
          "model_name": "HBoxModel",
          "model_module_version": "1.5.0",
          "state": {
            "_view_name": "HBoxView",
            "_dom_classes": [],
            "_model_name": "HBoxModel",
            "_view_module": "@jupyter-widgets/controls",
            "_model_module_version": "1.5.0",
            "_view_count": null,
            "_view_module_version": "1.5.0",
            "box_style": "",
            "layout": "IPY_MODEL_706fdf0176534e719340d7ac024ca2df",
            "_model_module": "@jupyter-widgets/controls",
            "children": [
              "IPY_MODEL_9a7f6a07742d4a42a1332e67b69c3e8d",
              "IPY_MODEL_e099de6b394a4fc9a9f4a89d6b26c501",
              "IPY_MODEL_e7292ad9a7d540c3a656940b30d93988"
            ]
          }
        },
        "706fdf0176534e719340d7ac024ca2df": {
          "model_module": "@jupyter-widgets/base",
          "model_name": "LayoutModel",
          "model_module_version": "1.2.0",
          "state": {
            "_view_name": "LayoutView",
            "grid_template_rows": null,
            "right": null,
            "justify_content": null,
            "_view_module": "@jupyter-widgets/base",
            "overflow": null,
            "_model_module_version": "1.2.0",
            "_view_count": null,
            "flex_flow": null,
            "width": null,
            "min_width": null,
            "border": null,
            "align_items": null,
            "bottom": null,
            "_model_module": "@jupyter-widgets/base",
            "top": null,
            "grid_column": null,
            "overflow_y": null,
            "overflow_x": null,
            "grid_auto_flow": null,
            "grid_area": null,
            "grid_template_columns": null,
            "flex": null,
            "_model_name": "LayoutModel",
            "justify_items": null,
            "grid_row": null,
            "max_height": null,
            "align_content": null,
            "visibility": null,
            "align_self": null,
            "height": null,
            "min_height": null,
            "padding": null,
            "grid_auto_rows": null,
            "grid_gap": null,
            "max_width": null,
            "order": null,
            "_view_module_version": "1.2.0",
            "grid_template_areas": null,
            "object_position": null,
            "object_fit": null,
            "grid_auto_columns": null,
            "margin": null,
            "display": null,
            "left": null
          }
        },
        "9a7f6a07742d4a42a1332e67b69c3e8d": {
          "model_module": "@jupyter-widgets/controls",
          "model_name": "HTMLModel",
          "model_module_version": "1.5.0",
          "state": {
            "_view_name": "HTMLView",
            "style": "IPY_MODEL_3923f8385dfa4d8a89244397d666ca8b",
            "_dom_classes": [],
            "description": "",
            "_model_name": "HTMLModel",
            "placeholder": "​",
            "_view_module": "@jupyter-widgets/controls",
            "_model_module_version": "1.5.0",
            "value": "100%",
            "_view_count": null,
            "_view_module_version": "1.5.0",
            "description_tooltip": null,
            "_model_module": "@jupyter-widgets/controls",
            "layout": "IPY_MODEL_e6ef50ca8179455fbc4222c3bd20fa99"
          }
        },
        "e099de6b394a4fc9a9f4a89d6b26c501": {
          "model_module": "@jupyter-widgets/controls",
          "model_name": "FloatProgressModel",
          "model_module_version": "1.5.0",
          "state": {
            "_view_name": "ProgressView",
            "style": "IPY_MODEL_b31c0cbca5b04db2920a5b6737607431",
            "_dom_classes": [],
            "description": "",
            "_model_name": "FloatProgressModel",
            "bar_style": "success",
            "max": 20,
            "_view_module": "@jupyter-widgets/controls",
            "_model_module_version": "1.5.0",
            "value": 20,
            "_view_count": null,
            "_view_module_version": "1.5.0",
            "orientation": "horizontal",
            "min": 0,
            "description_tooltip": null,
            "_model_module": "@jupyter-widgets/controls",
            "layout": "IPY_MODEL_968990078d7849a3b2e6c3d228dba320"
          }
        },
        "e7292ad9a7d540c3a656940b30d93988": {
          "model_module": "@jupyter-widgets/controls",
          "model_name": "HTMLModel",
          "model_module_version": "1.5.0",
          "state": {
            "_view_name": "HTMLView",
            "style": "IPY_MODEL_cd430196ed8347e2b66df295f700bf85",
            "_dom_classes": [],
            "description": "",
            "_model_name": "HTMLModel",
            "placeholder": "​",
            "_view_module": "@jupyter-widgets/controls",
            "_model_module_version": "1.5.0",
            "value": " 20/20 [02:47&lt;00:00,  8.35s/it]",
            "_view_count": null,
            "_view_module_version": "1.5.0",
            "description_tooltip": null,
            "_model_module": "@jupyter-widgets/controls",
            "layout": "IPY_MODEL_604f1e0dff8b4e0abc00cf4ab9d127ba"
          }
        },
        "3923f8385dfa4d8a89244397d666ca8b": {
          "model_module": "@jupyter-widgets/controls",
          "model_name": "DescriptionStyleModel",
          "model_module_version": "1.5.0",
          "state": {
            "_view_name": "StyleView",
            "_model_name": "DescriptionStyleModel",
            "description_width": "",
            "_view_module": "@jupyter-widgets/base",
            "_model_module_version": "1.5.0",
            "_view_count": null,
            "_view_module_version": "1.2.0",
            "_model_module": "@jupyter-widgets/controls"
          }
        },
        "e6ef50ca8179455fbc4222c3bd20fa99": {
          "model_module": "@jupyter-widgets/base",
          "model_name": "LayoutModel",
          "model_module_version": "1.2.0",
          "state": {
            "_view_name": "LayoutView",
            "grid_template_rows": null,
            "right": null,
            "justify_content": null,
            "_view_module": "@jupyter-widgets/base",
            "overflow": null,
            "_model_module_version": "1.2.0",
            "_view_count": null,
            "flex_flow": null,
            "width": null,
            "min_width": null,
            "border": null,
            "align_items": null,
            "bottom": null,
            "_model_module": "@jupyter-widgets/base",
            "top": null,
            "grid_column": null,
            "overflow_y": null,
            "overflow_x": null,
            "grid_auto_flow": null,
            "grid_area": null,
            "grid_template_columns": null,
            "flex": null,
            "_model_name": "LayoutModel",
            "justify_items": null,
            "grid_row": null,
            "max_height": null,
            "align_content": null,
            "visibility": null,
            "align_self": null,
            "height": null,
            "min_height": null,
            "padding": null,
            "grid_auto_rows": null,
            "grid_gap": null,
            "max_width": null,
            "order": null,
            "_view_module_version": "1.2.0",
            "grid_template_areas": null,
            "object_position": null,
            "object_fit": null,
            "grid_auto_columns": null,
            "margin": null,
            "display": null,
            "left": null
          }
        },
        "b31c0cbca5b04db2920a5b6737607431": {
          "model_module": "@jupyter-widgets/controls",
          "model_name": "ProgressStyleModel",
          "model_module_version": "1.5.0",
          "state": {
            "_view_name": "StyleView",
            "_model_name": "ProgressStyleModel",
            "description_width": "",
            "_view_module": "@jupyter-widgets/base",
            "_model_module_version": "1.5.0",
            "_view_count": null,
            "_view_module_version": "1.2.0",
            "bar_color": null,
            "_model_module": "@jupyter-widgets/controls"
          }
        },
        "968990078d7849a3b2e6c3d228dba320": {
          "model_module": "@jupyter-widgets/base",
          "model_name": "LayoutModel",
          "model_module_version": "1.2.0",
          "state": {
            "_view_name": "LayoutView",
            "grid_template_rows": null,
            "right": null,
            "justify_content": null,
            "_view_module": "@jupyter-widgets/base",
            "overflow": null,
            "_model_module_version": "1.2.0",
            "_view_count": null,
            "flex_flow": null,
            "width": null,
            "min_width": null,
            "border": null,
            "align_items": null,
            "bottom": null,
            "_model_module": "@jupyter-widgets/base",
            "top": null,
            "grid_column": null,
            "overflow_y": null,
            "overflow_x": null,
            "grid_auto_flow": null,
            "grid_area": null,
            "grid_template_columns": null,
            "flex": null,
            "_model_name": "LayoutModel",
            "justify_items": null,
            "grid_row": null,
            "max_height": null,
            "align_content": null,
            "visibility": null,
            "align_self": null,
            "height": null,
            "min_height": null,
            "padding": null,
            "grid_auto_rows": null,
            "grid_gap": null,
            "max_width": null,
            "order": null,
            "_view_module_version": "1.2.0",
            "grid_template_areas": null,
            "object_position": null,
            "object_fit": null,
            "grid_auto_columns": null,
            "margin": null,
            "display": null,
            "left": null
          }
        },
        "cd430196ed8347e2b66df295f700bf85": {
          "model_module": "@jupyter-widgets/controls",
          "model_name": "DescriptionStyleModel",
          "model_module_version": "1.5.0",
          "state": {
            "_view_name": "StyleView",
            "_model_name": "DescriptionStyleModel",
            "description_width": "",
            "_view_module": "@jupyter-widgets/base",
            "_model_module_version": "1.5.0",
            "_view_count": null,
            "_view_module_version": "1.2.0",
            "_model_module": "@jupyter-widgets/controls"
          }
        },
        "604f1e0dff8b4e0abc00cf4ab9d127ba": {
          "model_module": "@jupyter-widgets/base",
          "model_name": "LayoutModel",
          "model_module_version": "1.2.0",
          "state": {
            "_view_name": "LayoutView",
            "grid_template_rows": null,
            "right": null,
            "justify_content": null,
            "_view_module": "@jupyter-widgets/base",
            "overflow": null,
            "_model_module_version": "1.2.0",
            "_view_count": null,
            "flex_flow": null,
            "width": null,
            "min_width": null,
            "border": null,
            "align_items": null,
            "bottom": null,
            "_model_module": "@jupyter-widgets/base",
            "top": null,
            "grid_column": null,
            "overflow_y": null,
            "overflow_x": null,
            "grid_auto_flow": null,
            "grid_area": null,
            "grid_template_columns": null,
            "flex": null,
            "_model_name": "LayoutModel",
            "justify_items": null,
            "grid_row": null,
            "max_height": null,
            "align_content": null,
            "visibility": null,
            "align_self": null,
            "height": null,
            "min_height": null,
            "padding": null,
            "grid_auto_rows": null,
            "grid_gap": null,
            "max_width": null,
            "order": null,
            "_view_module_version": "1.2.0",
            "grid_template_areas": null,
            "object_position": null,
            "object_fit": null,
            "grid_auto_columns": null,
            "margin": null,
            "display": null,
            "left": null
          }
        }
      }
    }
  },
  "cells": [
    {
      "cell_type": "markdown",
      "metadata": {
        "id": "view-in-github",
        "colab_type": "text"
      },
      "source": [
        "<a href=\"https://colab.research.google.com/github/pipeton8/6.864-advanced-nlp/blob/main/Assignments/Assignment%202/hw2.ipynb\" target=\"_parent\"><img src=\"https://colab.research.google.com/assets/colab-badge.svg\" alt=\"Open In Colab\"/></a>"
      ]
    },
    {
      "cell_type": "markdown",
      "metadata": {
        "id": "0g_Jwv-7xXOR"
      },
      "source": [
        "# Homework 2 - Advanced NLP\n",
        "\n",
        "(c) Felipe del Canto, October 2021\n",
        "***\n",
        "***"
      ]
    },
    {
      "cell_type": "code",
      "metadata": {
        "id": "FU7xWiY6TyWS"
      },
      "source": [
        "# %%bash\n",
        "# !(stat -t /usr/local/lib/*/dist-packages/google/colab > /dev/null 2>&1) && exit \n",
        "from IPython.display import clear_output\n",
        "\n",
        "!rm -rf hw2\n",
        "!wget https://github.com/pipeton8/6.864-advanced-nlp/raw/main/Assignments/Assignment%202/lab_util.py -P hw2\n",
        "!wget https://github.com/pipeton8/6.864-advanced-nlp/raw/main/Assignments/Assignment%202/reviews.csv -P hw2\n",
        "\n",
        "clear_output()"
      ],
      "execution_count": null,
      "outputs": []
    },
    {
      "cell_type": "code",
      "metadata": {
        "id": "A0MHaHrdUACZ"
      },
      "source": [
        "import sys\n",
        "sys.path.insert(1,'/content/hw2')\n",
        "\n",
        "import csv\n",
        "import itertools as it\n",
        "import numpy as np\n",
        "import matplotlib.pyplot as plt\n",
        "import seaborn as sns\n",
        "import lab_util\n",
        "\n",
        "from sklearn.pipeline              import Pipeline\n",
        "from sklearn.decomposition         import TruncatedSVD, PCA\n",
        "from sklearn.linear_model          import LogisticRegression\n",
        "from sklearn.ensemble              import RandomForestClassifier\n",
        "from sklearn.svm                   import LinearSVC\n",
        "from sklearn.neural_network        import MLPClassifier\n",
        "from sklearn.discriminant_analysis import QuadraticDiscriminantAnalysis\n",
        "from sklearn.neighbors             import KNeighborsClassifier\n",
        "\n",
        "from tqdm.auto import tqdm"
      ],
      "execution_count": null,
      "outputs": []
    },
    {
      "cell_type": "markdown",
      "metadata": {
        "id": "cZ3MUj4iUf76"
      },
      "source": [
        "# Introduction\n",
        "\n",
        "In this notebook, you will find code scaffolding for the implementation portion of Homework 2. There are certain parts of the scaffolding marked with `# Your code here!` comments where you can fill in code to perform the specified tasks. After implementing the methods in this notebook, you will need to design and perform experiments to evaluate each method and respond to the questions in the Homework 2 handout (available on Canvas). You should be able to complete this assignment without changing any of the scaffolding code, just writing code to fill in the scaffolding and run experiments."
      ]
    },
    {
      "cell_type": "markdown",
      "metadata": {
        "id": "gG654Y9J3yHw"
      },
      "source": [
        "## Dataset\n",
        "\n",
        "We're going to be working with a dataset of product reviews. The following cell loads the dataset and splits it into training, validation, and test sets."
      ]
    },
    {
      "cell_type": "code",
      "metadata": {
        "id": "JwiX-Tc9V1xI",
        "colab": {
          "base_uri": "https://localhost:8080/"
        },
        "outputId": "bdd9603a-f935-43a9-e2c0-e0210051a597"
      },
      "source": [
        "data = []\n",
        "n_positive = 0\n",
        "n_disp = 0\n",
        "np.random.seed(0)\n",
        "\n",
        "with open(\"hw2/reviews.csv\") as reader:\n",
        "  csvreader = csv.reader(reader)\n",
        "  next(csvreader)\n",
        "  for id, review, label in csvreader:\n",
        "    label = int(label)\n",
        "\n",
        "    # hacky class balancing\n",
        "    if label == 1:\n",
        "      if n_positive == 2000:\n",
        "        continue\n",
        "\n",
        "      n_positive += 1\n",
        "\n",
        "    if len(data) == 4000:\n",
        "      break\n",
        "\n",
        "    data.append((review, label))\n",
        "    \n",
        "    if n_disp > 5:\n",
        "      continue\n",
        "\n",
        "    n_disp += 1\n",
        "\n",
        "    print(\"review:\", review)\n",
        "    print(\"rating:\", label, \"(good)\" if label == 1 else \"(bad)\")\n",
        "    print()\n",
        "\n",
        "print(f\"Read {len(data)} total reviews.\")\n",
        "\n",
        "# Shuffle before splitting\n",
        "np.random.shuffle(data)\n",
        "reviews, labels = zip(*data)\n",
        "\n",
        "# Training (3000 samples)\n",
        "train_reviews = reviews[:3000]\n",
        "train_labels = labels[:3000]\n",
        "\n",
        "# Validation (500 samples)\n",
        "val_reviews = reviews[3000:3500]\n",
        "val_labels = labels[3000:3500]\n",
        "\n",
        "# Testing (500 samples)\n",
        "test_reviews = reviews[3500:]\n",
        "test_labels = labels[3500:]"
      ],
      "execution_count": null,
      "outputs": [
        {
          "output_type": "stream",
          "name": "stdout",
          "text": [
            "review: I have bought several of the Vitality canned dog food products and have found them all to be of good quality. The product looks more like a stew than a processed meat and it smells better. My Labrador is finicky and she appreciates this product better than  most.\n",
            "rating: 1 (good)\n",
            "\n",
            "review: Product arrived labeled as Jumbo Salted Peanuts...the peanuts were actually small sized unsalted. Not sure if this was an error or if the vendor intended to represent the product as \"Jumbo\".\n",
            "rating: 0 (bad)\n",
            "\n",
            "review: This is a confection that has been around a few centuries.  It is a light, pillowy citrus gelatin with nuts - in this case Filberts. And it is cut into tiny squares and then liberally coated with powdered sugar.  And it is a tiny mouthful of heaven.  Not too chewy, and very flavorful.  I highly recommend this yummy treat.  If you are familiar with the story of C.S. Lewis' \"The Lion, The Witch, and The Wardrobe\" - this is the treat that seduces Edmund into selling out his Brother and Sisters to the Witch.\n",
            "rating: 1 (good)\n",
            "\n",
            "review: If you are looking for the secret ingredient in Robitussin I believe I have found it.  I got this in addition to the Root Beer Extract I ordered (which was good) and made some cherry soda.  The flavor is very medicinal.\n",
            "rating: 0 (bad)\n",
            "\n",
            "review: Great taffy at a great price.  There was a wide assortment of yummy taffy.  Delivery was very quick.  If your a taffy lover, this is a deal.\n",
            "rating: 1 (good)\n",
            "\n",
            "review: I got a wild hair for taffy and ordered this five pound bag. The taffy was all very enjoyable with many flavors: watermelon, root beer, melon, peppermint, grape, etc. My only complaint is there was a bit too much red/black licorice-flavored pieces (just not my particular favorites). Between me, my kids, and my husband, this lasted only two weeks! I would recommend this brand of taffy -- it was a delightful treat.\n",
            "rating: 1 (good)\n",
            "\n",
            "Read 4000 total reviews.\n"
          ]
        }
      ]
    },
    {
      "cell_type": "markdown",
      "metadata": {
        "id": "twLHWqM6Z5xD"
      },
      "source": [
        "# Part 1: word representations via matrix factorization\n",
        "\n",
        "First, we'll construct the term-document matrix (look at `/content/hw2/lab_util.py` in the file browser on the left if you want to see how this works)."
      ]
    },
    {
      "cell_type": "code",
      "metadata": {
        "id": "3WPt6Y7-Z_7P",
        "colab": {
          "base_uri": "https://localhost:8080/"
        },
        "outputId": "9aa1e909-96b7-4a4c-dd50-fe4df9416414"
      },
      "source": [
        "vectorizer = lab_util.CountVectorizer()\n",
        "vectorizer.fit(train_reviews)\n",
        "td_matrix = vectorizer.transform(train_reviews).T\n",
        "print(f\"TD matrix is {td_matrix.shape[0]} x {td_matrix.shape[1]}\")"
      ],
      "execution_count": null,
      "outputs": [
        {
          "output_type": "stream",
          "name": "stdout",
          "text": [
            "TD matrix is 2006 x 3000\n"
          ]
        }
      ]
    },
    {
      "cell_type": "markdown",
      "metadata": {
        "id": "hd3-pw4XbD4B"
      },
      "source": [
        "First, implement the function `learn_reps_lsa` that computes word representations via latent semantic analysis. The `sklearn.decomposition` or `np.linalg` packages may be useful."
      ]
    },
    {
      "cell_type": "code",
      "metadata": {
        "id": "KASVs8KubeBE"
      },
      "source": [
        "def idf_matrix(matrix, idf_weight = 'idf'):\n",
        "  \"\"\" Given a |V| x n TD matrix, returns the |V| IDF vector associated, where\n",
        "      idf(w) = log (# documents / (1 + # documents that contain w) )\n",
        "  \"\"\"\n",
        "  reviews_per_word = np.sum(matrix > 0, axis=1, keepdims=True)\n",
        "  reviews = matrix.shape[1]\n",
        "\n",
        "  if idf_weight == 'idf':\n",
        "    return np.log(reviews/(1+reviews_per_word))\n",
        "\n",
        "def tf_matrix(matrix, tf_weight = 'raw'):\n",
        "  \"\"\"\n",
        "    Given a |V| x n TD matrix, returns the |V| x n tf matrix, weighted according\n",
        "    to tf_weight.\n",
        "  \"\"\"\n",
        "\n",
        "  if tf_weight == 'raw':\n",
        "    tf_matrix = matrix\n",
        "\n",
        "  elif tf_weight == 'term frequency':\n",
        "    tf_matrix = matrix/matrix.sum()\n",
        "\n",
        "  elif tf_weight == 'log normalization':\n",
        "    tf_matrix = np.log(1+matrix)\n",
        "\n",
        "  elif tf_weight.find('double') != -1:\n",
        "    try:\n",
        "      dash_pos = tf_weight.find('-')\n",
        "      k = float(tf_weight[dash_pos+1:])\n",
        "      tf_matrix =  k + (1-k) * matrix/matrix.max(axis=0,keepdims=True)\n",
        "    except:\n",
        "      print(\"Double-k misspecified, raw weight applied.\")\n",
        "      tf_matrix = matrix\n",
        "\n",
        "  return tf_matrix\n",
        "\n",
        "def learn_reps_lsa(matrix, rep_size, tf_weight='raw', tf_idf=False, idf_weight='idf'):\n",
        "    # `matrix` is a `|V| x n` matrix (usually a TD matrix), \n",
        "    # where `|V|` is the number of words in the vocabulary and `n`\n",
        "    # is the number of reviews in the (training) corpus.\n",
        "    # This function should return a `|V| x rep_size` matrix with each\n",
        "    # row corresponding to a word representation.\n",
        "    \n",
        "    LSA_matrix = tf_matrix(matrix, tf_weight)\n",
        "\n",
        "    if tf_idf:\n",
        "      # Get IDF vector\n",
        "      idf = idf_matrix(matrix, idf_weight)\n",
        "\n",
        "      # Compute TF-IDF matrix\n",
        "      LSA_matrix = LSA_matrix * idf\n",
        "\n",
        "    # Initialize svd object\n",
        "    svd = TruncatedSVD(n_components=rep_size)\n",
        "\n",
        "    # Decompose TF-IDF matrix\n",
        "    return svd.fit_transform(LSA_matrix)"
      ],
      "execution_count": null,
      "outputs": []
    },
    {
      "cell_type": "markdown",
      "metadata": {
        "id": "SKWzRC0dclVK"
      },
      "source": [
        "Let's look at some representations:"
      ]
    },
    {
      "cell_type": "code",
      "metadata": {
        "id": "YmRFpxYx61BM"
      },
      "source": [
        "words = [\"good\", \"bad\", \"cookie\", \"jelly\", \"dog\", \"the\", \"3\"]\n",
        "show_tokens = [vectorizer.tokenizer.word_to_token[word] for word in words]"
      ],
      "execution_count": null,
      "outputs": []
    },
    {
      "cell_type": "code",
      "metadata": {
        "id": "XQJyABwM5RwN",
        "colab": {
          "base_uri": "https://localhost:8080/"
        },
        "outputId": "bbada92e-ab05-42df-8e03-9d89f7601d48"
      },
      "source": [
        "reps = learn_reps_lsa(td_matrix, 500)\n",
        "lab_util.show_similar_words(vectorizer.tokenizer, reps, show_tokens)"
      ],
      "execution_count": null,
      "outputs": [
        {
          "output_type": "stream",
          "name": "stdout",
          "text": [
            "good 47\n",
            "  . 1.056\n",
            "  a 1.101\n",
            "  but 1.121\n",
            "  , 1.152\n",
            "  the 1.157\n",
            "bad 201\n",
            "  . 1.396\n",
            "  taste 1.416\n",
            "  but 1.434\n",
            "  a 1.435\n",
            "  i 1.449\n",
            "cookie 504\n",
            "  nana's 0.777\n",
            "  cookies 1.036\n",
            "  oreos 1.287\n",
            "  bars 1.362\n",
            "  bites 1.425\n",
            "jelly 351\n",
            "  twist 1.144\n",
            "  cardboard 1.230\n",
            "  advertised 1.382\n",
            "  peanuts 1.406\n",
            "  plastic 1.454\n",
            "dog 925\n",
            "  food 1.048\n",
            "  pet 1.069\n",
            "  pets 1.071\n",
            "  switched 1.208\n",
            "  foods 1.230\n",
            "the 36\n",
            "  . 0.331\n",
            "  <unk> 0.366\n",
            "  of 0.395\n",
            "  and 0.403\n",
            "  to 0.422\n",
            "3 289\n",
            "  8 1.210\n",
            "  . 1.239\n",
            "  the 1.271\n",
            "  to 1.272\n",
            "  <unk> 1.279\n"
          ]
        }
      ]
    },
    {
      "cell_type": "markdown",
      "metadata": {
        "id": "LsOAGLB3iRjT"
      },
      "source": [
        "We've been operating on the raw count matrix, but in class we discussed several reweighting schemes aimed at making LSA representations more informative. \n",
        "\n",
        "Here, implement the TF-IDF transform and see how it affects learned representations. While it is okay (and in fact encouraged) to use vectorized numpy operations, you should refrain from using pre-implemented library functions for computing TF-IDF.\n",
        "\n",
        "How does TF-IDF normalization change the learned similarity function?"
      ]
    },
    {
      "cell_type": "code",
      "metadata": {
        "id": "SV5xKLYTi7LA",
        "colab": {
          "base_uri": "https://localhost:8080/"
        },
        "outputId": "1fafcd86-7c02-4d0b-f382-e498db50c25f"
      },
      "source": [
        "reps_tfidf = learn_reps_lsa(td_matrix, 500, tf_idf=True)\n",
        "lab_util.show_similar_words(vectorizer.tokenizer, reps_tfidf, show_tokens)"
      ],
      "execution_count": null,
      "outputs": [
        {
          "output_type": "stream",
          "name": "stdout",
          "text": [
            "good 47\n",
            "  . 0.981\n",
            "  but 1.013\n",
            "  a 1.030\n",
            "  and 1.087\n",
            "  is 1.090\n",
            "bad 201\n",
            "  . 1.329\n",
            "  taste 1.340\n",
            "  but 1.361\n",
            "  a 1.372\n",
            "  not 1.380\n",
            "cookie 504\n",
            "  nana's 0.811\n",
            "  cookies 1.145\n",
            "  moist 1.437\n",
            "  bars 1.438\n",
            "  oreos 1.451\n",
            "jelly 351\n",
            "  twist 1.100\n",
            "  cardboard 1.233\n",
            "  advertised 1.307\n",
            "  plastic 1.506\n",
            "  plum 1.512\n",
            "dog 925\n",
            "  food 1.031\n",
            "  pets 1.097\n",
            "  pet 1.102\n",
            "  foods 1.192\n",
            "  switched 1.250\n",
            "the 36\n",
            "  . 0.212\n",
            "  and 0.269\n",
            "  <unk> 0.291\n",
            "  of 0.303\n",
            "  to 0.323\n",
            "3 289\n",
            "  8 1.143\n",
            "  . 1.173\n",
            "  to 1.220\n",
            "  the 1.220\n",
            "  of 1.234\n"
          ]
        }
      ]
    },
    {
      "cell_type": "markdown",
      "metadata": {
        "id": "HO-NG4u1kG9z"
      },
      "source": [
        "Now that we have some representations, let's see if we can do something useful with them.\n",
        "\n",
        "Below, implement a feature function that represents a document as the sum of its\n",
        "learned word embeddings.\n",
        "\n",
        "The remaining code trains a logistic regression model on a set of *labeled* reviews; we're interested in seeing how much representations learned from *unlabeled* reviews improve classification.\n",
        "\n",
        "(Note: the staff solutions for each of the three featurizers achieve accuracies of between .78 and .83 with the full training corpus (3000 examples).)"
      ]
    },
    {
      "cell_type": "code",
      "metadata": {
        "id": "6B08xvIFlee3"
      },
      "source": [
        "def word_featurizer(xs):\n",
        "    # normalize\n",
        "    return xs / np.sqrt((xs ** 2).sum(axis=1, keepdims=True))\n",
        "\n",
        "def lsa_featurizer(xs, reps, idf_weighting = False):\n",
        "    # This function takes in a `|D| x |V|` TD matrix in which each row contains\n",
        "    # the word counts for the given review.\n",
        "    # It should return a matrix where each row contains the learned feature\n",
        "    # representation of each review (e.g. the sum of LSA word representations).\n",
        "    # (Hint: use TF-IDF LSA features, which should be a global variable after\n",
        "    # running the previous cell; no need to pass it in as an argument.)\n",
        "    feats = np.zeros((xs.shape[0],reps.shape[1]))\n",
        "\n",
        "    if idf_weighting:\n",
        "      idf = idf_matrix(xs.T, 'idf')\n",
        "    else:\n",
        "      idf = np.ones_like(feats[0,:])\n",
        "\n",
        "    for i in range(xs.shape[0]):\n",
        "      doc_wordDummies = (xs[i,:] > 0).T.reshape((-1,1))\n",
        "      feats[i,:] = np.sum(doc_wordDummies * idf * reps,axis=0, keepdims=True)\n",
        "\n",
        "    # normalize\n",
        "    return feats / np.sqrt((feats ** 2).sum(axis=1, keepdims=True))\n",
        "\n",
        "# We've implemented the remainder of the training and evaluation pipeline,\n",
        "# so you likely won't need to modify the following four functions.\n",
        "def combo_featurizer(xs, reps, featurizer2=lsa_featurizer, idf_weighting = False):\n",
        "    return np.concatenate((word_featurizer(xs), featurizer2(xs, reps, idf_weighting=idf_weighting)), axis=1)\n",
        "\n",
        "def train_model(xs, ys, featurizer, featurizer_args, featurizer_kwargs, model):\n",
        "    xs_featurized = featurizer(xs, *featurizer_args, **featurizer_kwargs)\n",
        "\n",
        "    model.fit(xs_featurized, ys)\n",
        "\n",
        "    return model\n",
        "\n",
        "def eval_model(model, xs, ys, featurizer, featurizer_args, featurizer_kwargs):\n",
        "    xs_featurized = featurizer(xs, *featurizer_args, **featurizer_kwargs)\n",
        "\n",
        "    pred_ys = model.predict(xs_featurized)\n",
        "\n",
        "    return np.mean(pred_ys == ys)\n",
        "\n",
        "def training_experiment(name, n_train, model, featurizer, featurizer_args = [], featurizer_kwargs = {}, verbose=True):\n",
        "    if verbose:\n",
        "      print(f\"{name} features, {n_train} examples\")\n",
        "\n",
        "    train_xs = vectorizer.transform(train_reviews[:n_train])\n",
        "    train_ys = train_labels[:n_train]\n",
        "    test_xs = vectorizer.transform(test_reviews)\n",
        "    test_ys = test_labels\n",
        "    model = train_model(train_xs, train_ys, featurizer, featurizer_args, featurizer_kwargs, model)\n",
        "    acc = eval_model(model, test_xs, test_ys, featurizer, featurizer_args, featurizer_kwargs)\n",
        "\n",
        "    if verbose:\n",
        "      print(f\"Accuracy is {acc*100:.2f}%\")\n",
        "      print(\"\")\n",
        "\n",
        "    return acc"
      ],
      "execution_count": null,
      "outputs": []
    },
    {
      "cell_type": "code",
      "metadata": {
        "id": "Cuhuj7Ek1Q8i",
        "colab": {
          "base_uri": "https://localhost:8080/"
        },
        "outputId": "b7ca695f-54d1-4c0f-e322-42777c8d6fcf"
      },
      "source": [
        "# Train\n",
        "n_train = 3000\n",
        "embed_size = 500\n",
        "model = LogisticRegression()\n",
        "\n",
        "reps_tfidf = learn_reps_lsa(td_matrix, embed_size, tf_idf=True)\n",
        "acc = training_experiment(\"word\", n_train, model, word_featurizer)\n",
        "acc = training_experiment(\"lsa\", n_train, model, lsa_featurizer, \n",
        "                          featurizer_args=[reps_tfidf], featurizer_kwargs={'idf_weighting' : True})\n",
        "acc = training_experiment(\"combo\", n_train, model, combo_featurizer,\n",
        "                          featurizer_args=[reps_tfidf],featurizer_kwargs={'featurizer2' : lsa_featurizer, 'idf_weighting' : True})"
      ],
      "execution_count": null,
      "outputs": [
        {
          "output_type": "stream",
          "name": "stdout",
          "text": [
            "word features, 3000 examples\n",
            "Accuracy is 78.40%\n",
            "\n",
            "lsa features, 3000 examples\n",
            "Accuracy is 80.20%\n",
            "\n",
            "combo features, 3000 examples\n",
            "Accuracy is 82.00%\n",
            "\n"
          ]
        }
      ]
    },
    {
      "cell_type": "markdown",
      "metadata": {
        "id": "rpXziVNrlfp2"
      },
      "source": [
        "**Part 1: Lab writeup**\n",
        "\n",
        "Part 1 of your lab report should discuss any implementation details that were important to filling out the code above, as well as your answers to the questions in Part 1 of the Homework 2 handout. Below, you can set up and perform experiments that answer these questions (include figures, plots, and tables in your write-up as you see fit)."
      ]
    },
    {
      "cell_type": "markdown",
      "metadata": {
        "id": "L3WrzsHhC1I5"
      },
      "source": [
        "## Experiments for Part 1"
      ]
    },
    {
      "cell_type": "markdown",
      "metadata": {
        "id": "MXMcQysM7j8o"
      },
      "source": [
        "### Part (a)"
      ]
    },
    {
      "cell_type": "code",
      "metadata": {
        "id": "QX_6yxZQPXFP"
      },
      "source": [
        "def cosine_similarity(A,B, axis=0):\n",
        "  \"\"\"\n",
        "  Given matrices A and B, computes cosine similarity between column vectors if\n",
        "  axis = 0 and between rows if axis = 1.\n",
        "  \"\"\"\n",
        "  norm_A = np.linalg.norm(A,axis=axis)\n",
        "  norm_B = np.linalg.norm(B,axis=axis)\n",
        "  \n",
        "  return np.sum(A * B,axis=axis)/(norm_A*norm_B)"
      ],
      "execution_count": null,
      "outputs": []
    },
    {
      "cell_type": "code",
      "metadata": {
        "colab": {
          "base_uri": "https://localhost:8080/",
          "height": 367
        },
        "id": "Kq1X6YMD7luQ",
        "outputId": "3a35d37a-0f12-47af-f270-d6689be7c97e"
      },
      "source": [
        "# Set embed_size and compute W_tt\n",
        "embed_size = 2000\n",
        "w_tt = td_matrix @ td_matrix.T\n",
        "\n",
        "# Initialize SVD objects\n",
        "svd_TD = TruncatedSVD(n_components=embed_size, random_state=0)\n",
        "svd_TT = TruncatedSVD(n_components=embed_size, random_state=0)\n",
        "\n",
        "# Obtain low rand representation\n",
        "decomposed_TD = svd_TD.fit_transform(td_matrix)\n",
        "decomposed_TT = svd_TT.fit_transform(w_tt)\n",
        "\n",
        "# Obtain left_singular vectors (in absolute value)\n",
        "left_singular_TD = decomposed_TD/svd_TD.singular_values_\n",
        "left_singular_TT = decomposed_TT/svd_TT.singular_values_\n",
        "\n",
        "# Singular value similarity\n",
        "values_TD = svd_TD.singular_values_\n",
        "values_TT = svd_TT.singular_values_\n",
        "value_similarity = cosine_similarity(values_TD, np.sqrt(values_TT))\n",
        "\n",
        "# Compute cosine similarity between each column\n",
        "vector_similarity = cosine_similarity(left_singular_TD,left_singular_TT)\n",
        "vector_similarity = np.abs(vector_similarity)\n",
        "\n",
        "ax = sns.histplot(vector_similarity, binwidth=0.05)\n",
        "ax.set_xticks([0.2*x for x in range(6)])\n",
        "\n",
        "print(f\"Singular values coincide: \" + \"Yes\"*(value_similarity>=0.99) + \"No\"*(value_similarity<0.99))\n",
        "print(f\"Share of vectors with similarity (in absolute value) equal or greater that 0.90: {(vector_similarity>=0.90).sum()/embed_size:.2f}\")\n",
        "print(f\"Share of vectors with similarity (in absolute value) equal or greater that 0.95: {(vector_similarity>=0.95).sum()/embed_size:.2f}\")\n",
        "print(f\"Share of vectors with similarity (in absolute value) equal or greater that 0.99: {(vector_similarity>=0.99).sum()/embed_size:.2f}\")\n",
        "print()"
      ],
      "execution_count": null,
      "outputs": [
        {
          "output_type": "stream",
          "name": "stdout",
          "text": [
            "Singular values coincide: Yes\n",
            "Share of vectors with similarity (in absolute value) equal or greater that 0.90: 1.00\n",
            "Share of vectors with similarity (in absolute value) equal or greater that 0.95: 1.00\n",
            "Share of vectors with similarity (in absolute value) equal or greater that 0.99: 1.00\n",
            "\n"
          ]
        },
        {
          "output_type": "stream",
          "name": "stderr",
          "text": [
            "/usr/local/lib/python3.7/dist-packages/ipykernel_launcher.py:29: DeprecationWarning: In future, it will be an error for 'np.bool_' scalars to be interpreted as an index\n"
          ]
        },
        {
          "output_type": "display_data",
          "data": {
            "image/png": "[encoded data removed]",
            "text/plain": [
              "<Figure size 432x288 with 1 Axes>"
            ]
          },
          "metadata": {
            "needs_background": "light"
          }
        }
      ]
    },
    {
      "cell_type": "markdown",
      "metadata": {
        "id": "ZX2XkAs5Z7_2"
      },
      "source": [
        "### Part (b)"
      ]
    },
    {
      "cell_type": "code",
      "metadata": {
        "id": "rjxPhuqKG_RI"
      },
      "source": [
        "words = ['the', 'dog', '3', 'good']\n",
        "show_tokens = [vectorizer.tokenizer.word_to_token[word] for word in words]"
      ],
      "execution_count": null,
      "outputs": []
    },
    {
      "cell_type": "code",
      "metadata": {
        "colab": {
          "base_uri": "https://localhost:8080/"
        },
        "id": "Q7FDct_pZ9Oc",
        "outputId": "ffd266da-6a45-4650-9196-30b6d0682ce2"
      },
      "source": [
        "embed_size = 1000\n",
        "kwargs = {'tf_weight'  : 'term frequency',\n",
        "          'tf_idf'     : True}\n",
        "\n",
        "reps = learn_reps_lsa(td_matrix, embed_size, **kwargs)\n",
        "lab_util.show_similar_words(vectorizer.tokenizer, reps, show_tokens)"
      ],
      "execution_count": null,
      "outputs": [
        {
          "output_type": "stream",
          "name": "stdout",
          "text": [
            "the 36\n",
            "  . 0.264\n",
            "  <unk> 0.328\n",
            "  and 0.342\n",
            "  of 0.363\n",
            "  to 0.383\n",
            "dog 925\n",
            "  food 1.050\n",
            "  pets 1.163\n",
            "  pet 1.182\n",
            "  foods 1.257\n",
            "  dogs 1.311\n",
            "3 289\n",
            "  . 1.217\n",
            "  8 1.230\n",
            "  the 1.262\n",
            "  to 1.264\n",
            "  <unk> 1.270\n",
            "good 47\n",
            "  . 1.028\n",
            "  a 1.082\n",
            "  but 1.105\n",
            "  and 1.138\n",
            "  the 1.143\n"
          ]
        }
      ]
    },
    {
      "cell_type": "markdown",
      "metadata": {
        "id": "Avm1gpBjYLNI"
      },
      "source": [
        "### Part (c)"
      ]
    },
    {
      "cell_type": "markdown",
      "metadata": {
        "id": "jCs3hDlTpg9g"
      },
      "source": [
        "#### Different training sizes"
      ]
    },
    {
      "cell_type": "code",
      "metadata": {
        "colab": {
          "base_uri": "https://localhost:8080/",
          "height": 49,
          "referenced_widgets": [
            "7dc8bb6ff6f6494f98c50f01874b3b80"
          ]
        },
        "id": "LlMSHB0hYKp5",
        "outputId": "5e9e8558-0ae0-499d-f7ad-0f9ceb1dd2c2"
      },
      "source": [
        "# Different training sizes\n",
        "n_trains = [500*i for i in range(1,7)]\n",
        "embed_size = 500\n",
        "model = LogisticRegression()\n",
        "accs_train_size = {'word'  : [],\n",
        "                   'lsa'   : [],\n",
        "                   'combo' : []\n",
        "                  }\n",
        "\n",
        "features = ['word', 'lsa', 'combo']\n",
        "\n",
        "reps = learn_reps_lsa(td_matrix, embed_size, tf_weight='term frequency', tf_idf=True)\n",
        "\n",
        "for n_train in tqdm(n_trains):\n",
        "  accs_train_size['word'].append(training_experiment('word', n_train, model, word_featurizer, verbose=False))\n",
        "\n",
        "  accs_train_size['lsa'].append(\n",
        "        training_experiment('lsa', n_train, model, lsa_featurizer,\n",
        "                            featurizer_args=[reps], \n",
        "                            featurizer_kwargs={'idf_weighting' : True}, \n",
        "                            verbose=False))\n",
        "  \n",
        "  accs_train_size['combo'].append(\n",
        "        training_experiment('combo', n_train, model, combo_featurizer,\n",
        "                            featurizer_args=[reps], \n",
        "                            featurizer_kwargs={'featurizer2' : lsa_featurizer, \n",
        "                                                'idf_weighting' : True}, \n",
        "                            verbose=False))"
      ],
      "execution_count": null,
      "outputs": [
        {
          "output_type": "display_data",
          "data": {
            "application/vnd.jupyter.widget-view+json": {
              "model_id": "7dc8bb6ff6f6494f98c50f01874b3b80",
              "version_minor": 0,
              "version_major": 2
            },
            "text/plain": [
              "  0%|          | 0/6 [00:00<?, ?it/s]"
            ]
          },
          "metadata": {}
        }
      ]
    },
    {
      "cell_type": "code",
      "metadata": {
        "colab": {
          "base_uri": "https://localhost:8080/",
          "height": 283
        },
        "id": "CiK1cdyEppMM",
        "outputId": "b027a4a0-7f32-4452-e5fd-550d24d49c4e"
      },
      "source": [
        "offset = (0,1)\n",
        "fig, ax = plt.subplots()\n",
        "ax.spines['top'].set_visible(False)\n",
        "ax.spines['right'].set_visible(False)\n",
        "\n",
        "for feature in features:\n",
        "  x = n_trains\n",
        "  y = [acc*100 for acc in accs_train_size[feature]]\n",
        "  sns.lineplot(x=x, y=y, label=feature, marker='o', ax=ax)\n",
        "\n",
        "for i in range(len(n_trains)):\n",
        "  max_acc = max([accs_train_size[feature][i] for feature in features])*100\n",
        "\n",
        "  s = f'{max_acc:.1f}%'\n",
        "  ax.text(x=n_trains[i]+offset[0], \n",
        "          y=max_acc+offset[1],\n",
        "          rotation=45,\n",
        "          fontsize=8,\n",
        "          s=s)\n",
        "\n",
        "plt.yticks([70 + 3*x for x in range(6)])\n",
        "plt.ylabel(\"Accuracy (%)\")\n",
        "plt.xticks(n_trains)\n",
        "plt.xlabel(\"Training size (samples)\")\n",
        "plt.legend(loc='lower right')\n",
        "\n",
        "fig.show()"
      ],
      "execution_count": null,
      "outputs": [
        {
          "output_type": "display_data",
          "data": {
            "image/png": "[encoded data removed]",
            "text/plain": [
              "<Figure size 432x288 with 1 Axes>"
            ]
          },
          "metadata": {
            "needs_background": "light"
          }
        }
      ]
    },
    {
      "cell_type": "markdown",
      "metadata": {
        "id": "9uXachaM0l06"
      },
      "source": [
        "#### Different embedding sizes"
      ]
    },
    {
      "cell_type": "code",
      "metadata": {
        "id": "aTVF9JdRNOsx",
        "colab": {
          "base_uri": "https://localhost:8080/",
          "height": 49,
          "referenced_widgets": [
            "cce5e044f946473ea26f8e0a8046e75d",
            "70a26f903f1d4958b0e26a9ebdafdde0",
            "8befb0974f544c0aa76a640408265476",
            "39ec65ce2b2b4ce2a96bf66ae7cc3c8c",
            "8286cf31e19f4a6fbfb28718bfdd1add",
            "8f6c4f0a7dda4cd1a052cf64fb2b10f4",
            "f1fb7ebb097940dcaac74b16e81322aa",
            "b89fcfc4cefe406fbfb1be18619c6520",
            "fa93701163ea432db8ec0524d02a6ee2",
            "83fa92c3b02b4c2fbec2af102dc1bfd8",
            "7ef93779e15f465f8c58b680d84d93be"
          ]
        },
        "outputId": "68b957ba-713f-4181-d42e-0e2a20c3d832"
      },
      "source": [
        "# Different embedding sizes\n",
        "n_train = 3000\n",
        "embed_sizes = [100*i for i in range(1,11)]\n",
        "model = LogisticRegression()\n",
        "accs_embed_size = {'word'  : [],\n",
        "                   'lsa'   : [],\n",
        "                  'combo' : []\n",
        "                  }\n",
        "\n",
        "features = ['word', 'lsa', 'combo']\n",
        "\n",
        "for embed_size in tqdm(embed_sizes):\n",
        "  reps = learn_reps_lsa(td_matrix, embed_size, tf_weight='term frequency', tf_idf=True)\n",
        "\n",
        "  accs_embed_size['word'].append(training_experiment('word', n_train, model, word_featurizer, verbose=False))\n",
        "\n",
        "  accs_embed_size['lsa'].append(\n",
        "        training_experiment('lsa', n_train, model, lsa_featurizer,\n",
        "                            featurizer_args=[reps], \n",
        "                            featurizer_kwargs={'idf_weighting' : True}, \n",
        "                            verbose=False))\n",
        "  \n",
        "  accs_embed_size['combo'].append(\n",
        "        training_experiment('combo', n_train, model, combo_featurizer,\n",
        "                            featurizer_args=[reps], \n",
        "                            featurizer_kwargs={'featurizer2' : lsa_featurizer, \n",
        "                                                'idf_weighting' : True}, \n",
        "                            verbose=False))"
      ],
      "execution_count": null,
      "outputs": [
        {
          "output_type": "display_data",
          "data": {
            "application/vnd.jupyter.widget-view+json": {
              "model_id": "cce5e044f946473ea26f8e0a8046e75d",
              "version_minor": 0,
              "version_major": 2
            },
            "text/plain": [
              "  0%|          | 0/10 [00:00<?, ?it/s]"
            ]
          },
          "metadata": {}
        }
      ]
    },
    {
      "cell_type": "code",
      "metadata": {
        "id": "JNcvPN4tmdOl",
        "colab": {
          "base_uri": "https://localhost:8080/",
          "height": 283
        },
        "outputId": "0cf1338f-b57d-47dc-8bcc-e6b00eda9712"
      },
      "source": [
        "offset = (0,0.5)\n",
        "fig, ax = plt.subplots()\n",
        "ax.spines['top'].set_visible(False)\n",
        "ax.spines['right'].set_visible(False)\n",
        "features = ['word', 'lsa', 'combo']\n",
        "\n",
        "for feature in features:\n",
        "  x = embed_sizes\n",
        "  y = [acc*100 for acc in accs_embed_size[feature]]\n",
        "  sns.lineplot(x=x, y=y, label=feature, marker='o', ax=ax)\n",
        "\n",
        "for i in range(len(embed_sizes)):\n",
        "  max_acc = max([accs_embed_size[feature][i] for feature in features])*100\n",
        "\n",
        "  s = f'{max_acc:.1f}%'\n",
        "  ax.text(x=embed_sizes[i]+offset[0], \n",
        "          y=max_acc+offset[1],\n",
        "          rotation=45,\n",
        "          fontsize=8,\n",
        "          s=s)\n",
        "\n",
        "plt.yticks([75 + 2*x for x in range(6)])\n",
        "plt.ylabel(\"Accuracy (%)\")\n",
        "plt.xticks(embed_sizes)\n",
        "plt.xlabel(\"Embedding size (dimensions)\")\n",
        "plt.legend(loc='lower right')\n",
        "\n",
        "fig.show()"
      ],
      "execution_count": null,
      "outputs": [
        {
          "output_type": "display_data",
          "data": {
            "image/png": "[encoded data removed]",
            "text/plain": [
              "<Figure size 432x288 with 1 Axes>"
            ]
          },
          "metadata": {
            "needs_background": "light"
          }
        }
      ]
    },
    {
      "cell_type": "markdown",
      "metadata": {
        "id": "KGgEOFpF0pBa"
      },
      "source": [
        "### Different classifiers"
      ]
    },
    {
      "cell_type": "code",
      "metadata": {
        "colab": {
          "base_uri": "https://localhost:8080/",
          "height": 171,
          "referenced_widgets": [
            "d24e41c651d24c17863cb581307730c2"
          ]
        },
        "id": "ejoV12RT1fbm",
        "outputId": "1f73651d-d409-489b-fd0c-715f01bfedc1"
      },
      "source": [
        "# Different classifiers\n",
        "n_train = 3000\n",
        "embed_size = 500\n",
        "models = [LogisticRegression(), RandomForestClassifier(random_state=0), LinearSVC(random_state=0), \n",
        "          MLPClassifier(random_state=0), QuadraticDiscriminantAnalysis(), \n",
        "          KNeighborsClassifier(n_neighbors=3),KNeighborsClassifier(n_neighbors=5)]\n",
        "model_names = ['Logit', 'Random Forest', 'SVM', 'MLP', 'QDA', '3-NN', '5-NN']\n",
        "\n",
        "accs_classifiers = {'word'  : [],\n",
        "                    'lsa'   : [],\n",
        "                    'combo' : []\n",
        "                  }\n",
        "\n",
        "features = ['word', 'lsa', 'combo']\n",
        "\n",
        "reps = learn_reps_lsa(td_matrix, embed_size, tf_weight='term frequency', tf_idf=True)\n",
        "\n",
        "for model in tqdm(models):\n",
        "  accs_classifiers['word'].append(training_experiment('word', n_train, model, word_featurizer, verbose=False))\n",
        "\n",
        "  accs_classifiers['lsa'].append(\n",
        "        training_experiment('lsa', n_train, model, lsa_featurizer,\n",
        "                            featurizer_args=[reps], \n",
        "                            featurizer_kwargs={'idf_weighting' : True}, \n",
        "                            verbose=False))\n",
        "  \n",
        "  accs_classifiers['combo'].append(\n",
        "        training_experiment('combo', n_train, model, combo_featurizer,\n",
        "                            featurizer_args=[reps], \n",
        "                            featurizer_kwargs={'featurizer2' : lsa_featurizer, \n",
        "                                                'idf_weighting' : True}, \n",
        "                            verbose=False))"
      ],
      "execution_count": null,
      "outputs": [
        {
          "output_type": "display_data",
          "data": {
            "application/vnd.jupyter.widget-view+json": {
              "model_id": "d24e41c651d24c17863cb581307730c2",
              "version_minor": 0,
              "version_major": 2
            },
            "text/plain": [
              "  0%|          | 0/7 [00:00<?, ?it/s]"
            ]
          },
          "metadata": {}
        },
        {
          "output_type": "stream",
          "name": "stderr",
          "text": [
            "/usr/local/lib/python3.7/dist-packages/sklearn/neural_network/_multilayer_perceptron.py:571: ConvergenceWarning: Stochastic Optimizer: Maximum iterations (200) reached and the optimization hasn't converged yet.\n",
            "  % self.max_iter, ConvergenceWarning)\n",
            "/usr/local/lib/python3.7/dist-packages/sklearn/discriminant_analysis.py:691: UserWarning: Variables are collinear\n",
            "  warnings.warn(\"Variables are collinear\")\n",
            "/usr/local/lib/python3.7/dist-packages/sklearn/discriminant_analysis.py:691: UserWarning: Variables are collinear\n",
            "  warnings.warn(\"Variables are collinear\")\n"
          ]
        }
      ]
    },
    {
      "cell_type": "code",
      "metadata": {
        "colab": {
          "base_uri": "https://localhost:8080/",
          "height": 333
        },
        "id": "-Rgclw8O332Q",
        "outputId": "59ab0455-e9dd-46f5-e594-396c43693c1d"
      },
      "source": [
        "offset = (0,1.5)\n",
        "fig, ax = plt.subplots()\n",
        "ax.spines['top'].set_visible(False)\n",
        "ax.spines['right'].set_visible(False)\n",
        "\n",
        "features = ['word', 'lsa', 'combo']\n",
        "\n",
        "for feature in features:\n",
        "  x = model_names\n",
        "  y = [acc*100 for acc in accs_classifiers[feature]]\n",
        "  sns.lineplot(x=x, y=y, label=feature, marker='o', ax=ax)\n",
        "\n",
        "for i in range(len(model_names)):\n",
        "  max_acc = max([accs_classifiers[feature][i] for feature in features])*100\n",
        "\n",
        "  s = f'{max_acc:.1f}%'\n",
        "  ax.text(x=i+offset[0], \n",
        "          y=max_acc+offset[1],\n",
        "          rotation=45,\n",
        "          fontsize=8,\n",
        "          s=s)\n",
        "\n",
        "plt.yticks([45 + 5*x for x in range(10)])\n",
        "plt.ylabel(\"Accuracy (%)\")\n",
        "plt.xticks(np.arange(len(model_names)), model_names, rotation=-45, rotation_mode='anchor', horizontalalignment=\"left\")\n",
        "plt.xlabel(\"Model\")\n",
        "plt.legend(loc='upper right')\n",
        "\n",
        "fig.show()"
      ],
      "execution_count": null,
      "outputs": [
        {
          "output_type": "display_data",
          "data": {
            "image/png": "[encoded data removed]",
            "text/plain": [
              "<Figure size 432x288 with 1 Axes>"
            ]
          },
          "metadata": {
            "needs_background": "light"
          }
        }
      ]
    },
    {
      "cell_type": "markdown",
      "metadata": {
        "id": "0a7UxMFwtDdY"
      },
      "source": [
        "### Best classifier with different weighting"
      ]
    },
    {
      "cell_type": "code",
      "metadata": {
        "colab": {
          "base_uri": "https://localhost:8080/",
          "height": 49,
          "referenced_widgets": [
            "b567639b5b2648dabae798ce53a17948",
            "5eed06228c054d33b3ac3d491078b91e",
            "6ac8df52a79e409892cf197c06e3517f",
            "35a166d2632c4af4a1ce9cfc1e01795a",
            "2c6250feb81648fab336197c82f9cf7a",
            "21df552ee82f4d1d8a2d94c464d69e0a",
            "4e7890c1b3b54591925ecddbcd7627c5",
            "0450e7160bc840499c9cce130c92ae32",
            "f217b7d351e54f0b9fdf736bc8a0a811",
            "e073fefcae3146afaefd4543cea5b7de",
            "efe778a993504f8b90592bfc00eab3df"
          ]
        },
        "id": "49hXEcqDtKc_",
        "outputId": "50501574-c641-4b1f-ca66-fae1c3e8a9c4"
      },
      "source": [
        "# Different embedding sizes\n",
        "n_train = 3000\n",
        "embed_size = 500\n",
        "model = LogisticRegression()\n",
        "accs_weights = {'word'  : [],\n",
        "                'lsa'   : [],\n",
        "                'combo' : []\n",
        "               }\n",
        "\n",
        "tf_weights = ['raw', 'term frequency', 'log normalization', \n",
        "              'double-0.25', 'double-0.5', 'double-0.75']\n",
        "\n",
        "features = ['word', 'lsa', 'combo']\n",
        "\n",
        "for tf_weight in tqdm(tf_weights):\n",
        "  reps = learn_reps_lsa(td_matrix, embed_size, tf_weight=tf_weight, tf_idf=True)\n",
        "\n",
        "  accs_weights['word'].append(training_experiment('word', n_train, model, word_featurizer, verbose=False))\n",
        "\n",
        "  accs_weights['lsa'].append(\n",
        "        training_experiment('lsa', n_train, model, lsa_featurizer,\n",
        "                            featurizer_args=[reps], \n",
        "                            featurizer_kwargs={'idf_weighting' : True}, \n",
        "                            verbose=False))\n",
        "  \n",
        "  accs_weights['combo'].append(\n",
        "        training_experiment('combo', n_train, model, combo_featurizer,\n",
        "                            featurizer_args=[reps], \n",
        "                            featurizer_kwargs={'featurizer2' : lsa_featurizer, \n",
        "                                                'idf_weighting' : True}, \n",
        "                            verbose=False))"
      ],
      "execution_count": null,
      "outputs": [
        {
          "output_type": "display_data",
          "data": {
            "application/vnd.jupyter.widget-view+json": {
              "model_id": "b567639b5b2648dabae798ce53a17948",
              "version_minor": 0,
              "version_major": 2
            },
            "text/plain": [
              "  0%|          | 0/6 [00:00<?, ?it/s]"
            ]
          },
          "metadata": {}
        }
      ]
    },
    {
      "cell_type": "code",
      "metadata": {
        "colab": {
          "base_uri": "https://localhost:8080/",
          "height": 342
        },
        "id": "mh6Cupdiugq3",
        "outputId": "29fb6f67-63d6-497e-f46d-fd3f7f06a156"
      },
      "source": [
        "offset = (0,1)\n",
        "fig, ax = plt.subplots()\n",
        "ax.spines['top'].set_visible(False)\n",
        "ax.spines['right'].set_visible(False)\n",
        "features = ['word', 'lsa', 'combo']\n",
        "\n",
        "for feature in features:\n",
        "  x = tf_weights\n",
        "  y = [acc*100 for acc in accs_weights[feature]]\n",
        "  sns.lineplot(x=x, y=y, label=feature, marker='o', ax=ax)\n",
        "\n",
        "for i in range(len(tf_weights)):\n",
        "  max_acc = max([accs_weights[feature][i] for feature in features])*100\n",
        "\n",
        "  s = f'{max_acc:.1f}%'\n",
        "  ax.text(x=i+offset[0], \n",
        "          y=max_acc+offset[1],\n",
        "          rotation=45,\n",
        "          fontsize=8,\n",
        "          s=s)\n",
        "\n",
        "plt.yticks([45 + 5*x for x in range(10)])\n",
        "plt.ylabel(\"Accuracy (%)\")\n",
        "plt.xticks(np.arange(len(tf_weights)), tf_weights, rotation=-45, rotation_mode='anchor', horizontalalignment=\"left\")\n",
        "plt.xlabel(\"Model\")\n",
        "plt.legend(loc='center right')\n",
        "\n",
        "fig.show()"
      ],
      "execution_count": null,
      "outputs": [
        {
          "output_type": "display_data",
          "data": {
            "image/png": "[encoded data removed]",
            "text/plain": [
              "<Figure size 432x288 with 1 Axes>"
            ]
          },
          "metadata": {
            "needs_background": "light"
          }
        }
      ]
    },
    {
      "cell_type": "markdown",
      "metadata": {
        "id": "AxfunCYh5nmZ"
      },
      "source": [
        "# Part 2: word representations via language modeling\n",
        "\n",
        "In this section, we'll train a word embedding model with a word2vec-style objective rather than a matrix factorization objective. This requires a little more work; we've provided scaffolding for a PyTorch model implementation below.\n",
        "If you don't have much PyTorch experience, there are some tutorials [here](https://pytorch.org/tutorials/) which may be useful. You're also welcome to implement these experiments in any other framework of your choosing (note that we won't be able to provide debugging support if you use a different framework)."
      ]
    },
    {
      "cell_type": "code",
      "metadata": {
        "id": "M1napibQ6aub"
      },
      "source": [
        "import torch\n",
        "import torch.nn as nn\n",
        "import torch.nn.functional as F\n",
        "import torch.optim as optim\n",
        "import torch.utils.data as torch_data\n",
        "\n",
        "class Word2VecModel(nn.Module):\n",
        "    # A torch module implementing a word2vec predictor. The `forward` function\n",
        "    # should take a batch of context word ids as input and predict the word \n",
        "    # in the middle of the context as output, as in the CBOW model from lecture.\n",
        "    # Hint: look at how padding is handled in lab_util.get_ngrams when\n",
        "    # initializing `ctx`: vocab_size is used as the padding token for contexts\n",
        "    # near the beginning and end of sequences. If you use an embedding module\n",
        "    # in your Word2Vec implementation, make sure to account for this extra\n",
        "    # padding token, and account for it with the `padding_idx` kwarg.\n",
        "\n",
        "    def __init__(self, vocab_size, embed_dim):\n",
        "        super().__init__()\n",
        "\n",
        "        self.embed_dim = embed_dim\n",
        "        self.vocab_size = vocab_size\n",
        "        self.input_embed = nn.Embedding(vocab_size+1,embed_dim,padding_idx=vocab_size)\n",
        "        self.output_embed = nn.Embedding(vocab_size+1,embed_dim,padding_idx=vocab_size)\n",
        "\n",
        "    def forward(self, context):\n",
        "        # Context is an `n_batch x n_context` matrix of integer word ids\n",
        "        # this function should return an `n_batch x vocab_size` matrix with\n",
        "        # element i, j being the (possibly log) probability of the middle word\n",
        "        # in context i being word j.\n",
        "        \n",
        "        # Embed context using output embedding matrix\n",
        "        embed_context = self.input_embed(context)\n",
        "\n",
        "        # Project embedded context using average\n",
        "        proj_context = torch.mean(embed_context, 1)\n",
        "\n",
        "        # Obtain probability\n",
        "        prob = torch.matmul(proj_context,self.output_embed.weight.t())[:,:-1]\n",
        "\n",
        "        # Return log prob\n",
        "        return F.log_softmax(prob,dim=1)"
      ],
      "execution_count": null,
      "outputs": []
    },
    {
      "cell_type": "code",
      "metadata": {
        "id": "ePgZlityuWr3"
      },
      "source": [
        "def learn_reps_word2vec(corpus, window_size, rep_size, n_epochs, n_batch, device='cuda', embedding_type='input', verbose=True):\n",
        "    # This method takes in a corpus of training sentences. It returns a matrix\n",
        "    # of word embeddings with the same structure as used in the previous section \n",
        "    # of the assignment. (You can extract this matrix from the parameters of the \n",
        "    # Word2VecModel.)\n",
        "\n",
        "    tokenizer = lab_util.Tokenizer()\n",
        "    tokenizer.fit(corpus)\n",
        "    tokenized_corpus = tokenizer.tokenize(corpus)\n",
        "\n",
        "    ngrams = lab_util.get_ngrams(tokenized_corpus, window_size, pad_idx=tokenizer.vocab_size)\n",
        "\n",
        "    model = Word2VecModel(tokenizer.vocab_size, rep_size).to(device)\n",
        "    opt = optim.Adam(model.parameters(), lr=0.001)\n",
        "\n",
        "    loader = torch_data.DataLoader(ngrams, batch_size=n_batch, shuffle=True)\n",
        "\n",
        "    # Use the Negative Log Likelihood loss\n",
        "    loss_fn = nn.NLLLoss(reduction='sum')\n",
        "\n",
        "    losses = []  # Potentially useful for debugging (loss should go down!)\n",
        "    for epoch in tqdm(range(n_epochs)):\n",
        "        epoch_loss = 0\n",
        "        for context, label in loader:\n",
        "          context = context.to(device)\n",
        "          label = label.to(device)\n",
        "\n",
        "          # As described above, `context` is a batch of context word ids, and\n",
        "          # `label` is a batch of predicted word labels.\n",
        "\n",
        "          # Obtain predictions (log-probabilities) using forward of model\n",
        "          preds = model(context)\n",
        "\n",
        "          # Now finish the backward pass and gradient update.\n",
        "          # Remember, you need to compute the loss, zero the gradients\n",
        "          # of the model parameters, perform the backward pass, and\n",
        "          # update the model parameters.\n",
        "          loss = loss_fn(preds,label)\n",
        "          loss.backward()          \n",
        "          opt.step()\n",
        "          opt.zero_grad()\n",
        "\n",
        "          epoch_loss += loss.item()\n",
        "\n",
        "        \n",
        "        if verbose:\n",
        "          print(f\"Loss in epoch {epoch+1}\" + \" \"*(epoch<n_epochs-1) + f\": {epoch_loss:.2f}\")\n",
        "\n",
        "        losses.append(epoch_loss)\n",
        "\n",
        "    # Hint: you want to return a `vocab_size x embedding_size` numpy array\n",
        "    # Return embedding matrix\n",
        "    input_embedding_matrix = model.input_embed.weight.data[:-1,:].cpu().numpy()\n",
        "    output_embedding_matrix = model.output_embed.weight.data[:-1,:].cpu().numpy()\n",
        "\n",
        "    if embedding_type == 'input':\n",
        "      return input_embedding_matrix\n",
        "\n",
        "    elif embedding_type == 'output':\n",
        "      return output_embedding_matrix \n",
        "\n",
        "    elif embedding_type == 'combo':\n",
        "      return 1/2 * (input_embedding_matrix + output_embedding_matrix)"
      ],
      "execution_count": null,
      "outputs": []
    },
    {
      "cell_type": "code",
      "metadata": {
        "id": "aaUy1cNuB3W1",
        "colab": {
          "base_uri": "https://localhost:8080/",
          "height": 389,
          "referenced_widgets": [
            "244390c4c9e94928b4d30ba70a59665b",
            "706fdf0176534e719340d7ac024ca2df",
            "9a7f6a07742d4a42a1332e67b69c3e8d",
            "e099de6b394a4fc9a9f4a89d6b26c501",
            "e7292ad9a7d540c3a656940b30d93988",
            "3923f8385dfa4d8a89244397d666ca8b",
            "e6ef50ca8179455fbc4222c3bd20fa99",
            "b31c0cbca5b04db2920a5b6737607431",
            "968990078d7849a3b2e6c3d228dba320",
            "cd430196ed8347e2b66df295f700bf85",
            "604f1e0dff8b4e0abc00cf4ab9d127ba"
          ]
        },
        "outputId": "651a081e-651e-4e1e-8fb2-ff5428053764"
      },
      "source": [
        "torch.manual_seed(0)\n",
        "\n",
        "# Parameters\n",
        "window_size = 2\n",
        "rep_size    = 500\n",
        "n_epochs    = 20\n",
        "n_batch     = 100\n",
        "device      = 'cuda'\n",
        "\n",
        "# Representations\n",
        "reps_word2vec = learn_reps_word2vec(train_reviews, window_size, rep_size, n_epochs, n_batch, embedding_type='combo', device=device)"
      ],
      "execution_count": null,
      "outputs": [
        {
          "output_type": "display_data",
          "data": {
            "application/vnd.jupyter.widget-view+json": {
              "model_id": "244390c4c9e94928b4d30ba70a59665b",
              "version_minor": 0,
              "version_major": 2
            },
            "text/plain": [
              "  0%|          | 0/20 [00:00<?, ?it/s]"
            ]
          },
          "metadata": {}
        },
        {
          "output_type": "stream",
          "name": "stdout",
          "text": [
            "Loss in epoch 1 : 5396952.41\n",
            "Loss in epoch 2 : 2774056.12\n",
            "Loss in epoch 3 : 2031070.42\n",
            "Loss in epoch 4 : 1677616.29\n",
            "Loss in epoch 5 : 1469701.29\n",
            "Loss in epoch 6 : 1332792.02\n",
            "Loss in epoch 7 : 1234739.39\n",
            "Loss in epoch 8 : 1162346.26\n",
            "Loss in epoch 9 : 1105968.33\n",
            "Loss in epoch 10 : 1061448.84\n",
            "Loss in epoch 11 : 1025744.45\n",
            "Loss in epoch 12 : 996659.37\n",
            "Loss in epoch 13 : 972755.66\n",
            "Loss in epoch 14 : 952759.69\n",
            "Loss in epoch 15 : 936306.21\n",
            "Loss in epoch 16 : 922620.30\n",
            "Loss in epoch 17 : 910782.37\n",
            "Loss in epoch 18 : 900763.09\n",
            "Loss in epoch 19 : 892281.07\n",
            "Loss in epoch 20: 885235.94\n"
          ]
        }
      ]
    },
    {
      "cell_type": "markdown",
      "metadata": {
        "id": "O3oE-tpR7I39"
      },
      "source": [
        "After training the embeddings, we can try to visualize the embedding space to see if it makes sense. First, we can take any word in the space and check its closest neighbors."
      ]
    },
    {
      "cell_type": "code",
      "metadata": {
        "id": "yMW4QND56bHF",
        "colab": {
          "base_uri": "https://localhost:8080/"
        },
        "outputId": "adab0718-81ae-4563-d772-c17bf2b6bee8"
      },
      "source": [
        "words = [\"good\", \"bad\", \"cookie\", \"jelly\", \"dog\", \"the\", \"3\"]\n",
        "show_tokens = [vectorizer.tokenizer.word_to_token[word] for word in words]\n",
        "lab_util.show_similar_words(vectorizer.tokenizer, reps_word2vec, show_tokens)"
      ],
      "execution_count": null,
      "outputs": [
        {
          "output_type": "stream",
          "name": "stdout",
          "text": [
            "good 47\n",
            "  recommended 1.649\n",
            "  tasting 1.661\n",
            "  need 1.691\n",
            "  looked 1.720\n",
            "  at 1.726\n",
            "bad 201\n",
            "  luck 1.617\n",
            "  wasn't 1.683\n",
            "  barely 1.697\n",
            "  certainly 1.720\n",
            "  for 1.721\n",
            "cookie 504\n",
            "  gave 1.660\n",
            "  shape 1.663\n",
            "  dough 1.688\n",
            "  bars 1.691\n",
            "  nana's 1.703\n",
            "jelly 351\n",
            "  regular 1.579\n",
            "  gummy 1.603\n",
            "  milder 1.645\n",
            "  jars 1.698\n",
            "  mostly 1.708\n",
            "dog 925\n",
            "  blend 1.690\n",
            "  cat 1.694\n",
            "  healthier 1.700\n",
            "  stomach 1.714\n",
            "  again 1.721\n",
            "the 36\n",
            "  case 1.657\n",
            "  . 1.694\n",
            "  br 1.705\n",
            "  2 1.715\n",
            "  which 1.715\n",
            "3 289\n",
            "  boxes 1.626\n",
            "  carton 1.652\n",
            "  1 1.654\n",
            "  6 1.666\n",
            "  20 1.686\n"
          ]
        }
      ]
    },
    {
      "cell_type": "markdown",
      "metadata": {
        "id": "ue-9CPSc7fi9"
      },
      "source": [
        "We can also cluster the embedding space. Clustering in 4 or more dimensions is hard to visualize, and even clustering in 2 or 3 can be difficult because there are so many words in the vocabulary. One thing we can try to do is assign cluster labels and qualitiatively look for an underlying pattern in the clusters."
      ]
    },
    {
      "cell_type": "code",
      "metadata": {
        "id": "v-Yf6NMCXVx4",
        "colab": {
          "base_uri": "https://localhost:8080/"
        },
        "outputId": "5a75a262-82eb-41c7-dd7c-eb85bec391e9"
      },
      "source": [
        "from sklearn.cluster import KMeans\n",
        "\n",
        "indices = KMeans(n_clusters=10).fit_predict(reps_word2vec)\n",
        "zipped = list(zip(range(vectorizer.tokenizer.vocab_size), indices))\n",
        "np.random.shuffle(zipped)\n",
        "zipped = zipped[:100]\n",
        "zipped = sorted(zipped, key=lambda x: x[1], reverse=True)\n",
        "for token, cluster_idx in zipped:\n",
        "    word = vectorizer.tokenizer.token_to_word[token]\n",
        "    print(f\"{word}: {cluster_idx}\")"
      ],
      "execution_count": null,
      "outputs": [
        {
          "output_type": "stream",
          "name": "stdout",
          "text": [
            "dinner: 8\n",
            "mold: 8\n",
            "going: 8\n",
            "wide: 8\n",
            "english: 8\n",
            "carried: 8\n",
            "mixes: 8\n",
            "sadly: 8\n",
            "drinker: 8\n",
            "control: 8\n",
            "point: 8\n",
            "economical: 8\n",
            "previously: 8\n",
            "began: 8\n",
            "gifts: 7\n",
            "onion: 6\n",
            "choices: 6\n",
            "extra: 6\n",
            "sweetness: 6\n",
            "kernels: 6\n",
            "intake: 6\n",
            "balance: 6\n",
            "bob's: 6\n",
            "customers: 6\n",
            "lot: 6\n",
            "fruit: 6\n",
            "bonus: 6\n",
            "sized: 6\n",
            "oatmeal: 6\n",
            "peppermint: 6\n",
            "will: 5\n",
            "replacement: 5\n",
            "started: 5\n",
            "he's: 5\n",
            "probably: 5\n",
            "piece: 5\n",
            "idea: 5\n",
            "could: 5\n",
            "24: 5\n",
            "pieces: 5\n",
            "mix: 5\n",
            "fridge: 5\n",
            "source: 5\n",
            "half: 5\n",
            "get: 5\n",
            "freezer: 5\n",
            "certified: 5\n",
            "apart: 5\n",
            "baby: 4\n",
            "bits: 4\n",
            "sounds: 4\n",
            "dip: 4\n",
            "trans: 4\n",
            "free: 4\n",
            "fit: 4\n",
            "mccann's: 4\n",
            "soup: 4\n",
            "eater: 3\n",
            "european: 3\n",
            "none: 3\n",
            "replace: 3\n",
            "throwing: 3\n",
            "olives: 3\n",
            "child: 3\n",
            "loss: 3\n",
            "future: 3\n",
            "am: 3\n",
            "teaspoon: 3\n",
            "soon: 3\n",
            "post: 3\n",
            "brought: 3\n",
            "course: 3\n",
            "adds: 3\n",
            "noted: 3\n",
            "bills: 3\n",
            "sour: 1\n",
            "pretty: 1\n",
            "bake: 1\n",
            "taste: 1\n",
            "likes: 1\n",
            "sugar: 1\n",
            "absolutely: 1\n",
            "follow: 1\n",
            "almost: 1\n",
            "no: 1\n",
            "worse: 1\n",
            "sweet: 1\n",
            "your: 1\n",
            "sorry: 0\n",
            "carries: 0\n",
            "allowed: 0\n",
            "our: 0\n",
            "using: 0\n",
            "except: 0\n",
            "included: 0\n",
            "company: 0\n",
            "batches: 0\n",
            "felt: 0\n",
            "appeal: 0\n",
            "shipping: 0\n"
          ]
        }
      ]
    },
    {
      "cell_type": "markdown",
      "metadata": {
        "id": "ci1TkENU78Wn"
      },
      "source": [
        "Finally, we can use the trained word embeddings to construct vector representations of full reviews. One common approach is to simply average all the word embeddings in the review to create an overall embedding. Implement the transform function in Word2VecFeaturizer to do this."
      ]
    },
    {
      "cell_type": "code",
      "metadata": {
        "id": "A5vjmRV6Dgbu",
        "colab": {
          "base_uri": "https://localhost:8080/"
        },
        "outputId": "99f5cafe-4027-464d-9b45-3e2c6a7d7406"
      },
      "source": [
        "def w2v_featurizer(xs, reps, idf_weighting = False):\n",
        "    # This function takes in a matrix in which each row contains the word counts\n",
        "    # for the given review. It should return a matrix in which each row contains\n",
        "    # the average Word2Vec embedding of each review (hint: this will be very\n",
        "    # similar to `lsa_featurizer` from above, just using Word2Vec embeddings \n",
        "    # instead of LSA).\n",
        "\n",
        "    feats = np.zeros((xs.shape[0],reps.shape[1]))\n",
        "\n",
        "    if idf_weighting:\n",
        "      idf = idf_matrix(xs.T, 'idf')\n",
        "    else:\n",
        "      idf = np.ones_like(feats[0,:])\n",
        "\n",
        "    for i in range(xs.shape[0]):\n",
        "      doc_wordCount = (xs[i,:] > 0).T.reshape((-1,1))\n",
        "      feats[i,:] = np.sum(doc_wordCount * idf * reps,axis=0, keepdims=True)\n",
        "\n",
        "    # normalize\n",
        "    return feats / np.sqrt((feats ** 2).sum(axis=1, keepdims=True))\n",
        "\n",
        "training_experiment('word2vec', 3000, LogisticRegression(), w2v_featurizer, featurizer_args=[reps_word2vec], verbose=True)\n",
        "print()"
      ],
      "execution_count": null,
      "outputs": [
        {
          "output_type": "stream",
          "name": "stdout",
          "text": [
            "word2vec features, 3000 examples\n",
            "Accuracy is 80.40%\n",
            "\n",
            "\n"
          ]
        }
      ]
    },
    {
      "cell_type": "markdown",
      "metadata": {
        "id": "XSfoQbxaXtfH"
      },
      "source": [
        "**Part 2: Lab writeup**\n",
        "\n",
        "Part 2 of your lab report should discuss any implementation details that were important to filling out the code above, as well as your answers to the questions in Part 2 of the Homework 2 handout. Below, you can set up and perform experiments that answer these questions (include figures, plots, and tables in your write-up as you see fit)."
      ]
    },
    {
      "cell_type": "markdown",
      "metadata": {
        "id": "Beb7dgqWycYx"
      },
      "source": [
        "## Experiments for Part 2"
      ]
    },
    {
      "cell_type": "markdown",
      "metadata": {
        "id": "J2DFSxjlAscu"
      },
      "source": [
        "### Different context sizes"
      ]
    },
    {
      "cell_type": "code",
      "metadata": {
        "colab": {
          "base_uri": "https://localhost:8080/",
          "height": 337,
          "referenced_widgets": [
            "8fea7ffed50948b4b6bf58b2156c62b0",
            "5d8bc962dbd74a138f29c7b28f5b88b8",
            "a01a636a93ab495e9792779a17d1671b",
            "0ce183c544554458ae2f0f800b0bf034",
            "096b6ede8a9247878749a69e467ad81d",
            "3a1335a2a3d5479db0dea58528db495f",
            "ac01af137f594a6db8b405cebee8885b",
            "897b8aa25619438d938707e90032d273",
            "31a857926269443e8f888c2fb5899c5f",
            "5d1ca84874864aac9f7f97dbd6a503c8"
          ]
        },
        "id": "SomB19-yAq8s",
        "outputId": "3aa4ff20-aa35-488e-e168-824c28f7ed06"
      },
      "source": [
        "torch.manual_seed(0)\n",
        "\n",
        "# Parameters for W2V\n",
        "window_sizes = [2*x for x in range(1,11)]\n",
        "rep_size    = 500\n",
        "n_epochs    = 20\n",
        "n_batch     = 100\n",
        "device      = 'cuda'\n",
        "embedding_type = 'combo'\n",
        "\n",
        "# Parameters for classification\n",
        "n_train = 3000\n",
        "model = LogisticRegression()\n",
        "\n",
        "# Initialize accuracy and representation lists\n",
        "accs_word2vec_window_size = {'word2vec' : [],\n",
        "                             'word2vec (combo)' : []}\n",
        "reps_word2vec_window_size = []\n",
        "\n",
        "for window_size in window_sizes:\n",
        "  reps_word2vec_window_size.append(learn_reps_word2vec(train_reviews, window_size, rep_size, \n",
        "                                      n_epochs, n_batch, embedding_type=embedding_type, \n",
        "                                      device=device, verbose=False))\n",
        "\n",
        "  accs_word2vec_window_size['word2vec'].append(\n",
        "      training_experiment('word2vec', n_train, model, w2v_featurizer,\n",
        "                          featurizer_args=[reps_word2vec_window_size[-1]],\n",
        "                          featurizer_kwargs={'idf_weighting':True}, \n",
        "                          verbose=False))\n",
        "\n",
        "  accs_word2vec_window_size['word2vec (combo)'].append(\n",
        "      training_experiment('word2vec', n_train, model, combo_featurizer,\n",
        "                          featurizer_args=[reps_word2vec_window_size[-1]],\n",
        "                          featurizer_kwargs={'featurizer2'  : w2v_featurizer,\n",
        "                                             'idf_weighting': True}, \n",
        "                          verbose=False))"
      ],
      "execution_count": null,
      "outputs": [
        {
          "output_type": "display_data",
          "data": {
            "application/vnd.jupyter.widget-view+json": {
              "model_id": "8fea7ffed50948b4b6bf58b2156c62b0",
              "version_minor": 0,
              "version_major": 2
            },
            "text/plain": [
              "  0%|          | 0/20 [00:00<?, ?it/s]"
            ]
          },
          "metadata": {}
        },
        {
          "output_type": "display_data",
          "data": {
            "application/vnd.jupyter.widget-view+json": {
              "model_id": "5d8bc962dbd74a138f29c7b28f5b88b8",
              "version_minor": 0,
              "version_major": 2
            },
            "text/plain": [
              "  0%|          | 0/20 [00:00<?, ?it/s]"
            ]
          },
          "metadata": {}
        },
        {
          "output_type": "display_data",
          "data": {
            "application/vnd.jupyter.widget-view+json": {
              "model_id": "a01a636a93ab495e9792779a17d1671b",
              "version_minor": 0,
              "version_major": 2
            },
            "text/plain": [
              "  0%|          | 0/20 [00:00<?, ?it/s]"
            ]
          },
          "metadata": {}
        },
        {
          "output_type": "display_data",
          "data": {
            "application/vnd.jupyter.widget-view+json": {
              "model_id": "0ce183c544554458ae2f0f800b0bf034",
              "version_minor": 0,
              "version_major": 2
            },
            "text/plain": [
              "  0%|          | 0/20 [00:00<?, ?it/s]"
            ]
          },
          "metadata": {}
        },
        {
          "output_type": "display_data",
          "data": {
            "application/vnd.jupyter.widget-view+json": {
              "model_id": "096b6ede8a9247878749a69e467ad81d",
              "version_minor": 0,
              "version_major": 2
            },
            "text/plain": [
              "  0%|          | 0/20 [00:00<?, ?it/s]"
            ]
          },
          "metadata": {}
        },
        {
          "output_type": "display_data",
          "data": {
            "application/vnd.jupyter.widget-view+json": {
              "model_id": "3a1335a2a3d5479db0dea58528db495f",
              "version_minor": 0,
              "version_major": 2
            },
            "text/plain": [
              "  0%|          | 0/20 [00:00<?, ?it/s]"
            ]
          },
          "metadata": {}
        },
        {
          "output_type": "display_data",
          "data": {
            "application/vnd.jupyter.widget-view+json": {
              "model_id": "ac01af137f594a6db8b405cebee8885b",
              "version_minor": 0,
              "version_major": 2
            },
            "text/plain": [
              "  0%|          | 0/20 [00:00<?, ?it/s]"
            ]
          },
          "metadata": {}
        },
        {
          "output_type": "display_data",
          "data": {
            "application/vnd.jupyter.widget-view+json": {
              "model_id": "897b8aa25619438d938707e90032d273",
              "version_minor": 0,
              "version_major": 2
            },
            "text/plain": [
              "  0%|          | 0/20 [00:00<?, ?it/s]"
            ]
          },
          "metadata": {}
        },
        {
          "output_type": "display_data",
          "data": {
            "application/vnd.jupyter.widget-view+json": {
              "model_id": "31a857926269443e8f888c2fb5899c5f",
              "version_minor": 0,
              "version_major": 2
            },
            "text/plain": [
              "  0%|          | 0/20 [00:00<?, ?it/s]"
            ]
          },
          "metadata": {}
        },
        {
          "output_type": "display_data",
          "data": {
            "application/vnd.jupyter.widget-view+json": {
              "model_id": "5d1ca84874864aac9f7f97dbd6a503c8",
              "version_minor": 0,
              "version_major": 2
            },
            "text/plain": [
              "  0%|          | 0/20 [00:00<?, ?it/s]"
            ]
          },
          "metadata": {}
        }
      ]
    },
    {
      "cell_type": "code",
      "metadata": {
        "colab": {
          "base_uri": "https://localhost:8080/",
          "height": 283
        },
        "id": "a2ivYxPZBXAA",
        "outputId": "b31d8da8-c000-4824-b17b-27026a3e0623"
      },
      "source": [
        "offset = (0,1)\n",
        "fig, ax = plt.subplots()\n",
        "ax.spines['top'].set_visible(False)\n",
        "ax.spines['right'].set_visible(False)\n",
        "\n",
        "x = window_sizes\n",
        "\n",
        "for featurizer in list(accs_word2vec_window_size.keys()):\n",
        "  y = [acc*100 for acc in accs_word2vec_window_size[featurizer]]\n",
        "  sns.lineplot(x=x, y=y, marker='o', label = featurizer, ax=ax)\n",
        "\n",
        "for i in range(len(window_sizes)):\n",
        "  y = max([accs_word2vec_window_size[featurizer][i] for featurizer in list(accs_word2vec_window_size.keys())])*100\n",
        "  \n",
        "  s = f'{y:.1f}%'\n",
        "  ax.text(x=x[i]+offset[0], \n",
        "          y=y+offset[1],\n",
        "          rotation=45,\n",
        "          fontsize=8,\n",
        "          s=s)\n",
        "\n",
        "plt.yticks([65 + 5*x for x in range(6)])\n",
        "plt.ylabel(\"Accuracy (%)\")\n",
        "plt.xticks(2*window_sizes)\n",
        "plt.xlabel(\"Context size (one sided)\")\n",
        "plt.legend(loc='lower right')\n",
        "\n",
        "fig.show()"
      ],
      "execution_count": null,
      "outputs": [
        {
          "output_type": "display_data",
          "data": {
            "image/png": "[encoded data removed]",
            "text/plain": [
              "<Figure size 432x288 with 1 Axes>"
            ]
          },
          "metadata": {
            "needs_background": "light"
          }
        }
      ]
    },
    {
      "cell_type": "markdown",
      "metadata": {
        "id": "67knU2475Iaq"
      },
      "source": [
        "### Different embedding matrices"
      ]
    },
    {
      "cell_type": "code",
      "metadata": {
        "colab": {
          "base_uri": "https://localhost:8080/",
          "height": 113,
          "referenced_widgets": [
            "291cd8a64d754a39afca01b070078dbd",
            "c2e9e6248afe4a16829d887e2876f183",
            "c7b17343530d4623a8892b13614172bc"
          ]
        },
        "id": "BaACdr1Y5Khp",
        "outputId": "4722bac4-55a1-44a5-ffe0-575409c962a1"
      },
      "source": [
        "torch.manual_seed(0)\n",
        "\n",
        "# Parameters for W2V\n",
        "window_size = 12\n",
        "rep_size    = 500\n",
        "n_epochs    = 20\n",
        "n_batch     = 100\n",
        "device      = 'cuda'\n",
        "\n",
        "# Parameters for classification\n",
        "n_train = 3000\n",
        "embedding_types = ['input', 'output', 'combo']\n",
        "model = LogisticRegression()\n",
        "\n",
        "# Initialize accuracy and representation lists\n",
        "accs_word2vec_embed_type = {'word2vec' : [],\n",
        "                             'word2vec (combo)' : []}\n",
        "reps_word2vec_embed_type = []\n",
        "\n",
        "for embedding_type in embedding_types:\n",
        "  reps_word2vec_embed_type.append(learn_reps_word2vec(train_reviews, window_size, rep_size, \n",
        "                                      n_epochs, n_batch, embedding_type=embedding_type, \n",
        "                                      device=device, verbose=False))\n",
        "\n",
        "  accs_word2vec_embed_type['word2vec'].append(\n",
        "      training_experiment('word2vec', n_train, model, w2v_featurizer,\n",
        "                          featurizer_args=[reps_word2vec_window_size[-1]],\n",
        "                          featurizer_kwargs={'idf_weighting':True}, \n",
        "                          verbose=False))\n",
        "\n",
        "  accs_word2vec_embed_type['word2vec (combo)'].append(\n",
        "      training_experiment('word2vec', n_train, model, combo_featurizer,\n",
        "                          featurizer_args=[reps_word2vec_window_size[-1]],\n",
        "                          featurizer_kwargs={'featurizer2'  : w2v_featurizer,\n",
        "                                             'idf_weighting': True}, \n",
        "                          verbose=False))"
      ],
      "execution_count": null,
      "outputs": [
        {
          "output_type": "display_data",
          "data": {
            "application/vnd.jupyter.widget-view+json": {
              "model_id": "291cd8a64d754a39afca01b070078dbd",
              "version_minor": 0,
              "version_major": 2
            },
            "text/plain": [
              "  0%|          | 0/20 [00:00<?, ?it/s]"
            ]
          },
          "metadata": {}
        },
        {
          "output_type": "display_data",
          "data": {
            "application/vnd.jupyter.widget-view+json": {
              "model_id": "c2e9e6248afe4a16829d887e2876f183",
              "version_minor": 0,
              "version_major": 2
            },
            "text/plain": [
              "  0%|          | 0/20 [00:00<?, ?it/s]"
            ]
          },
          "metadata": {}
        },
        {
          "output_type": "display_data",
          "data": {
            "application/vnd.jupyter.widget-view+json": {
              "model_id": "c7b17343530d4623a8892b13614172bc",
              "version_minor": 0,
              "version_major": 2
            },
            "text/plain": [
              "  0%|          | 0/20 [00:00<?, ?it/s]"
            ]
          },
          "metadata": {}
        }
      ]
    },
    {
      "cell_type": "code",
      "metadata": {
        "colab": {
          "base_uri": "https://localhost:8080/",
          "height": 304
        },
        "id": "3NgCyfhj7r7U",
        "outputId": "b1a4aaa9-0aed-4df6-cd81-1a5ea45e9a0e"
      },
      "source": [
        "offset = (0,1)\n",
        "fig, ax = plt.subplots()\n",
        "ax.spines['top'].set_visible(False)\n",
        "ax.spines['right'].set_visible(False)\n",
        "\n",
        "x = embedding_types\n",
        "\n",
        "for featurizer in list(accs_word2vec_embed_type.keys()):\n",
        "  y = [acc*100 for acc in accs_word2vec_embed_type[featurizer]]\n",
        "  sns.lineplot(x=x, y=y, marker='o', label = featurizer, ax=ax)\n",
        "\n",
        "for i in range(len(embedding_types)):\n",
        "  y = max([accs_word2vec_embed_type[featurizer][i] for featurizer in list(accs_word2vec_embed_type.keys())])*100\n",
        "  \n",
        "  s = f'{y:.1f}%'\n",
        "  ax.text(x=i+offset[0], \n",
        "          y=y+offset[1],\n",
        "          rotation=45,\n",
        "          fontsize=8,\n",
        "          s=s)\n",
        "\n",
        "plt.yticks([65 + 5*x for x in range(6)])\n",
        "plt.ylabel(\"Accuracy (%)\")\n",
        "plt.xticks(np.arange(len(embedding_types)), embedding_types, rotation=-45, rotation_mode='anchor', horizontalalignment=\"left\")\n",
        "plt.xlabel(\"Embedding type\")\n",
        "plt.legend(loc='lower right')\n",
        "\n",
        "fig.show()"
      ],
      "execution_count": null,
      "outputs": [
        {
          "output_type": "display_data",
          "data": {
            "image/png": "[encoded data removed]",
            "text/plain": [
              "<Figure size 432x288 with 1 Axes>"
            ]
          },
          "metadata": {
            "needs_background": "light"
          }
        }
      ]
    },
    {
      "cell_type": "markdown",
      "metadata": {
        "id": "Lux3Rq_R3Fmm"
      },
      "source": [
        "### Different classifiers"
      ]
    },
    {
      "cell_type": "code",
      "metadata": {
        "id": "obr-zEmNydDm",
        "colab": {
          "base_uri": "https://localhost:8080/",
          "height": 169,
          "referenced_widgets": [
            "d6a4c00db85b46b2bd535c0c0e4a0468",
            "11f05d9b5b764e179ece17a19633305b"
          ]
        },
        "outputId": "3746e435-f827-4bc6-8c7a-303b1ba9b5c0"
      },
      "source": [
        "torch.manual_seed(0)\n",
        "\n",
        "# Parameters for W2V\n",
        "window_size    = 12\n",
        "rep_size       = 500\n",
        "n_epochs       = 20\n",
        "n_batch        = 100\n",
        "embedding_type = 'input'\n",
        "device         = 'cuda'\n",
        "\n",
        "\n",
        "# Different classifiers\n",
        "n_train = 3000\n",
        "models = [LogisticRegression(), RandomForestClassifier(random_state=0), LinearSVC(random_state=0), \n",
        "          MLPClassifier(random_state=0), QuadraticDiscriminantAnalysis(), \n",
        "          KNeighborsClassifier(n_neighbors=3),KNeighborsClassifier(n_neighbors=5)]\n",
        "model_names = ['Logit', 'Random Forest', 'SVM', 'MLP', 'QDA', '3-NN', '5-NN']\n",
        "\n",
        "# Initialize accuracy list\n",
        "accs_word2vec_classifiers = {'word2vec' : [],\n",
        "                             'word2vec (combo)' : []}\n",
        "\n",
        "# Representations\n",
        "reps_word2vec = learn_reps_word2vec(train_reviews, window_size, rep_size, \n",
        "                                    n_epochs, n_batch, embedding_type=embedding_type, \n",
        "                                    device=device, verbose = False)\n",
        "\n",
        "for model in tqdm(models):\n",
        "  accs_word2vec_classifiers['word2vec'].append(\n",
        "      training_experiment('word2vec', n_train, model, w2v_featurizer,\n",
        "                          featurizer_args=[reps_word2vec_window_size[-1]],\n",
        "                          featurizer_kwargs={'idf_weighting':True}, \n",
        "                          verbose=False))\n",
        "\n",
        "  accs_word2vec_classifiers['word2vec (combo)'].append(\n",
        "      training_experiment('word2vec', n_train, model, combo_featurizer,\n",
        "                          featurizer_args=[reps_word2vec_window_size[-1]],\n",
        "                          featurizer_kwargs={'featurizer2'  : w2v_featurizer,\n",
        "                                             'idf_weighting': True}, \n",
        "                          verbose=False))"
      ],
      "execution_count": null,
      "outputs": [
        {
          "output_type": "display_data",
          "data": {
            "application/vnd.jupyter.widget-view+json": {
              "model_id": "d6a4c00db85b46b2bd535c0c0e4a0468",
              "version_minor": 0,
              "version_major": 2
            },
            "text/plain": [
              "  0%|          | 0/20 [00:00<?, ?it/s]"
            ]
          },
          "metadata": {}
        },
        {
          "output_type": "display_data",
          "data": {
            "application/vnd.jupyter.widget-view+json": {
              "model_id": "11f05d9b5b764e179ece17a19633305b",
              "version_minor": 0,
              "version_major": 2
            },
            "text/plain": [
              "  0%|          | 0/7 [00:00<?, ?it/s]"
            ]
          },
          "metadata": {}
        },
        {
          "output_type": "stream",
          "name": "stderr",
          "text": [
            "/usr/local/lib/python3.7/dist-packages/sklearn/neural_network/_multilayer_perceptron.py:571: ConvergenceWarning: Stochastic Optimizer: Maximum iterations (200) reached and the optimization hasn't converged yet.\n",
            "  % self.max_iter, ConvergenceWarning)\n",
            "/usr/local/lib/python3.7/dist-packages/sklearn/discriminant_analysis.py:691: UserWarning: Variables are collinear\n",
            "  warnings.warn(\"Variables are collinear\")\n"
          ]
        }
      ]
    },
    {
      "cell_type": "code",
      "metadata": {
        "colab": {
          "base_uri": "https://localhost:8080/",
          "height": 333
        },
        "id": "W9Q5jW9t3wdc",
        "outputId": "cf94c26c-0b76-45eb-ca17-84902425aaea"
      },
      "source": [
        "offset = (0,1)\n",
        "fig, ax = plt.subplots()\n",
        "ax.spines['top'].set_visible(False)\n",
        "ax.spines['right'].set_visible(False)\n",
        "features = ['word', 'lsa', 'combo', 'word2vec', 'word2vec (combo)']\n",
        "\n",
        "for feature in features:\n",
        "  x = model_names\n",
        "\n",
        "  if feature.find('word2vec') != -1:\n",
        "    y = [acc*100 for acc in accs_word2vec_classifiers[feature]]\n",
        "\n",
        "  else:\n",
        "    y = [acc*100 for acc in accs_classifiers[feature]]\n",
        "\n",
        "  sns.lineplot(x=x, y=y, label=feature, marker='o', ax=ax)\n",
        "\n",
        "for i in range(len(model_names)):\n",
        "  max_acc_no_w2v = max([accs_classifiers[feature][i] for feature in features if feature.find('word2vec') == -1])\n",
        "  max_acc_w2v = max([accs_word2vec_classifiers[feature][i] for feature in features if feature.find('word2vec') != -1])\n",
        "\n",
        "  max_acc = max([max_acc_no_w2v, max_acc_w2v])*100\n",
        "\n",
        "  s = f'{max_acc:.1f}%'\n",
        "  ax.text(x=i+offset[0], \n",
        "          y=max_acc+offset[1],\n",
        "          rotation=45,\n",
        "          fontsize=8,\n",
        "          s=s)\n",
        "\n",
        "plt.yticks([55 + 5*x for x in range(8)])\n",
        "plt.ylabel(\"Accuracy (%)\")\n",
        "plt.xticks(np.arange(len(model_names)), model_names, rotation=-45, rotation_mode='anchor', horizontalalignment=\"left\")\n",
        "plt.xlabel(\"Model\")\n",
        "plt.legend(loc='lower left')\n",
        "\n",
        "fig.show()"
      ],
      "execution_count": null,
      "outputs": [
        {
          "output_type": "display_data",
          "data": {
            "image/png": "[encoded data removed]",
            "text/plain": [
              "<Figure size 432x288 with 1 Axes>"
            ]
          },
          "metadata": {
            "needs_background": "light"
          }
        }
      ]
    }
  ]
}